{
 "cells": [
  {
   "cell_type": "markdown",
   "metadata": {},
   "source": [
    "In this homework, we'll build a model for predicting if we have an image of a dog or a cat. For this, we will use the \"Dogs & Cats\" dataset that can be downloaded from <a href='https://www.kaggle.com/c/dogs-vs-cats/data'>Kaggle</a>."
   ]
  },
  {
   "cell_type": "code",
   "execution_count": 1,
   "metadata": {
    "scrolled": true
   },
   "outputs": [],
   "source": [
    "#!pip install tensorflow"
   ]
  },
  {
   "cell_type": "code",
   "execution_count": 2,
   "metadata": {},
   "outputs": [],
   "source": [
    "import numpy as np\n",
    "import matplotlib.pyplot as plt\n",
    "\n",
    "import tensorflow as tf\n",
    "from tensorflow import keras"
   ]
  },
  {
   "cell_type": "markdown",
   "metadata": {},
   "source": [
    "#### Seed for reproductibility\n",
    "\n",
    "Does't seem very useful"
   ]
  },
  {
   "cell_type": "raw",
   "metadata": {},
   "source": [
    "np.random.seed(1)\n",
    "tf.random.set_seed(2)"
   ]
  },
  {
   "cell_type": "markdown",
   "metadata": {},
   "source": [
    "## Setup Model Architecture"
   ]
  },
  {
   "cell_type": "markdown",
   "metadata": {},
   "source": [
    "### Input \n",
    "`The shape for input should be (150, 150, 3)`"
   ]
  },
  {
   "cell_type": "code",
   "execution_count": 3,
   "metadata": {},
   "outputs": [
    {
     "data": {
      "text/plain": [
       "<KerasTensor: shape=(None, 150, 150, 3) dtype=float32 (created by layer 'input_1')>"
      ]
     },
     "execution_count": 3,
     "metadata": {},
     "output_type": "execute_result"
    }
   ],
   "source": [
    "inputs = keras.Input(shape=(150,150,3))\n",
    "inputs"
   ]
  },
  {
   "cell_type": "markdown",
   "metadata": {},
   "source": [
    "### Conv2D\n",
    "`Next, create a covolutional layer (Conv2D)`\n",
    "- Use 32 filters\n",
    "- Kernel size should be (3, 3) (that's the size of the filter)\n",
    "- Use 'relu' as activation`\n",
    "\n"
   ]
  },
  {
   "cell_type": "code",
   "execution_count": 4,
   "metadata": {},
   "outputs": [
    {
     "data": {
      "text/plain": [
       "<KerasTensor: shape=(None, 148, 148, 32) dtype=float32 (created by layer 'conv2d')>"
      ]
     },
     "execution_count": 4,
     "metadata": {},
     "output_type": "execute_result"
    }
   ],
   "source": [
    "conv2D = keras.layers.Conv2D(filters=32, kernel_size=(3,3), activation='relu')(inputs)\n",
    "conv2D"
   ]
  },
  {
   "cell_type": "markdown",
   "metadata": {},
   "source": [
    "### Pool \n",
    "`Reduce the size of the feature map with max pooling (MaxPooling2D)`\n",
    "- Set the pooling size to (2, 2)\n"
   ]
  },
  {
   "cell_type": "code",
   "execution_count": 5,
   "metadata": {},
   "outputs": [
    {
     "data": {
      "text/plain": [
       "<KerasTensor: shape=(None, 74, 74, 32) dtype=float32 (created by layer 'max_pooling2d')>"
      ]
     },
     "execution_count": 5,
     "metadata": {},
     "output_type": "execute_result"
    }
   ],
   "source": [
    "pool = keras.layers.MaxPooling2D(pool_size=(2,2))(conv2D)\n",
    "pool"
   ]
  },
  {
   "cell_type": "markdown",
   "metadata": {},
   "source": [
    "### Flatten\n",
    "`Turn the multi-dimensional result into vectors using a Flatten layer`"
   ]
  },
  {
   "cell_type": "code",
   "execution_count": 6,
   "metadata": {},
   "outputs": [
    {
     "data": {
      "text/plain": [
       "<KerasTensor: shape=(None, 175232) dtype=float32 (created by layer 'flatten')>"
      ]
     },
     "execution_count": 6,
     "metadata": {},
     "output_type": "execute_result"
    }
   ],
   "source": [
    "vector = keras.layers.Flatten()(pool)\n",
    "vector"
   ]
  },
  {
   "cell_type": "markdown",
   "metadata": {},
   "source": [
    "### Dense\n",
    "`Next, add a Dense layer with 64 neurons and 'relu' activation`"
   ]
  },
  {
   "cell_type": "code",
   "execution_count": 7,
   "metadata": {},
   "outputs": [
    {
     "data": {
      "text/plain": [
       "<KerasTensor: shape=(None, 64) dtype=float32 (created by layer 'dense')>"
      ]
     },
     "execution_count": 7,
     "metadata": {},
     "output_type": "execute_result"
    }
   ],
   "source": [
    "inner = keras.layers.Dense(64, activation='relu')(vector)\n",
    "inner"
   ]
  },
  {
   "cell_type": "markdown",
   "metadata": {},
   "source": [
    "### Output\n",
    "`Finally, create the Dense layer with 1 neuron - this will be the output`\n",
    "- The output layer should have an activation - use the appropriate activation for the binary classification case"
   ]
  },
  {
   "cell_type": "code",
   "execution_count": 8,
   "metadata": {},
   "outputs": [
    {
     "data": {
      "text/plain": [
       "<KerasTensor: shape=(None, 1) dtype=float32 (created by layer 'dense_1')>"
      ]
     },
     "execution_count": 8,
     "metadata": {},
     "output_type": "execute_result"
    }
   ],
   "source": [
    "outputs = keras.layers.Dense(1, activation='sigmoid')(inner) # activation='sigmoid'\n",
    "outputs"
   ]
  },
  {
   "cell_type": "markdown",
   "metadata": {},
   "source": [
    "### Init model"
   ]
  },
  {
   "cell_type": "code",
   "execution_count": 9,
   "metadata": {},
   "outputs": [
    {
     "data": {
      "text/plain": [
       "<keras.engine.functional.Functional at 0x7f0edd4b5970>"
      ]
     },
     "execution_count": 9,
     "metadata": {},
     "output_type": "execute_result"
    }
   ],
   "source": [
    "model = keras.Model(inputs, outputs)\n",
    "model"
   ]
  },
  {
   "cell_type": "markdown",
   "metadata": {},
   "source": [
    "### Optimizer & Loss\n",
    "`As optimizer use SGD with the following parameters`\n",
    "- SGD(lr=0.002, momentum=0.8)\n"
   ]
  },
  {
   "cell_type": "code",
   "execution_count": 10,
   "metadata": {},
   "outputs": [
    {
     "data": {
      "text/plain": [
       "<keras.optimizer_v2.gradient_descent.SGD at 0x7f0edd4c4e20>"
      ]
     },
     "execution_count": 10,
     "metadata": {},
     "output_type": "execute_result"
    }
   ],
   "source": [
    "f_opti = keras.optimizers.SGD(learning_rate=0.002, momentum=0.8)\n",
    "#f_opti = keras.optimizers.Adam(learning_rate=0.01)\n",
    "f_opti"
   ]
  },
  {
   "cell_type": "markdown",
   "metadata": {},
   "source": [
    "Note: since we specify an activation for the output layer, we don't need to set from_logits=True"
   ]
  },
  {
   "cell_type": "code",
   "execution_count": 11,
   "metadata": {},
   "outputs": [
    {
     "data": {
      "text/plain": [
       "<keras.losses.BinaryCrossentropy at 0x7f0edd4c4fd0>"
      ]
     },
     "execution_count": 11,
     "metadata": {},
     "output_type": "execute_result"
    }
   ],
   "source": [
    "f_loss = keras.losses.BinaryCrossentropy(from_logits=False)\n",
    "f_loss"
   ]
  },
  {
   "cell_type": "code",
   "execution_count": 12,
   "metadata": {},
   "outputs": [],
   "source": [
    "model.compile(optimizer=f_opti, loss=f_loss, metrics=['accuracy'])"
   ]
  },
  {
   "cell_type": "markdown",
   "metadata": {},
   "source": [
    "***\n",
    "## Question 1\n",
    "\n",
    "Since we have a binary classification problem, what is the best loss function for us?\n",
    "***"
   ]
  },
  {
   "cell_type": "markdown",
   "metadata": {},
   "source": [
    "`ANSWER`: Binary Cross Entropy"
   ]
  },
  {
   "cell_type": "markdown",
   "metadata": {},
   "source": [
    "***\n",
    "## Question 2\n",
    "\n",
    "What's the total number of parameters of the model? You can use the summary method for that.\n",
    "***"
   ]
  },
  {
   "cell_type": "code",
   "execution_count": 13,
   "metadata": {},
   "outputs": [
    {
     "name": "stdout",
     "output_type": "stream",
     "text": [
      "Model: \"model\"\n",
      "_________________________________________________________________\n",
      " Layer (type)                Output Shape              Param #   \n",
      "=================================================================\n",
      " input_1 (InputLayer)        [(None, 150, 150, 3)]     0         \n",
      "                                                                 \n",
      " conv2d (Conv2D)             (None, 148, 148, 32)      896       \n",
      "                                                                 \n",
      " max_pooling2d (MaxPooling2D  (None, 74, 74, 32)       0         \n",
      " )                                                               \n",
      "                                                                 \n",
      " flatten (Flatten)           (None, 175232)            0         \n",
      "                                                                 \n",
      " dense (Dense)               (None, 64)                11214912  \n",
      "                                                                 \n",
      " dense_1 (Dense)             (None, 1)                 65        \n",
      "                                                                 \n",
      "=================================================================\n",
      "Total params: 11,215,873\n",
      "Trainable params: 11,215,873\n",
      "Non-trainable params: 0\n",
      "_________________________________________________________________\n"
     ]
    }
   ],
   "source": [
    "model.summary()"
   ]
  },
  {
   "cell_type": "markdown",
   "metadata": {},
   "source": [
    "`ANSWER`: 11,215,873"
   ]
  },
  {
   "cell_type": "markdown",
   "metadata": {},
   "source": [
    "***\n",
    "## Generators and Training\n",
    "\n",
    "For the next two questions, use the following data generator for both train and validation:\n",
    "\n",
    "`ImageDataGenerator(rescale=1./255)`\n",
    "\n",
    "- We don't need to do any additional pre-processing for the images.\n",
    "- When reading the data from train/val directories, check the class_mode parameter. Which value should it be for a binary classification problem?\n",
    "- Use batch_size=20"
   ]
  },
  {
   "cell_type": "code",
   "execution_count": 14,
   "metadata": {},
   "outputs": [],
   "source": [
    "from keras.preprocessing.image import load_img\n",
    "from os import path"
   ]
  },
  {
   "cell_type": "code",
   "execution_count": 15,
   "metadata": {},
   "outputs": [],
   "source": [
    "img_size=150\n",
    "batch_size=20\n",
    "epochs=10"
   ]
  },
  {
   "cell_type": "markdown",
   "metadata": {},
   "source": [
    "### Load 1 image"
   ]
  },
  {
   "cell_type": "raw",
   "metadata": {},
   "source": [
    "base = 'data/cat_dog_NN/train/cats/'\n",
    "file = 'cat.0.jpg'\n",
    "fullname = path.join('.', base, file)\n",
    "fullname"
   ]
  },
  {
   "cell_type": "raw",
   "metadata": {},
   "source": [
    "img = load_img(fullname, target_size=(img_size, img_size))\n",
    "img"
   ]
  },
  {
   "cell_type": "raw",
   "metadata": {},
   "source": [
    "x = np.array(img)\n",
    "x.shape"
   ]
  },
  {
   "cell_type": "markdown",
   "metadata": {},
   "source": [
    "### Prepare generators"
   ]
  },
  {
   "cell_type": "code",
   "execution_count": 16,
   "metadata": {},
   "outputs": [],
   "source": [
    "from keras.preprocessing.image import ImageDataGenerator"
   ]
  },
  {
   "cell_type": "markdown",
   "metadata": {},
   "source": [
    "Define an instance of the ImageDataGenerator that will scale the pixel values to the range of 0-1."
   ]
  },
  {
   "cell_type": "code",
   "execution_count": 17,
   "metadata": {},
   "outputs": [
    {
     "data": {
      "text/plain": [
       "<keras.preprocessing.image.ImageDataGenerator at 0x7f0edc44aa00>"
      ]
     },
     "execution_count": 17,
     "metadata": {},
     "output_type": "execute_result"
    }
   ],
   "source": [
    "train_datagen = ImageDataGenerator(rescale=1./255) # , preprocessing_function=None\n",
    "train_datagen"
   ]
  },
  {
   "cell_type": "code",
   "execution_count": 18,
   "metadata": {},
   "outputs": [
    {
     "data": {
      "text/plain": [
       "<keras.preprocessing.image.ImageDataGenerator at 0x7f0edc44a940>"
      ]
     },
     "execution_count": 18,
     "metadata": {},
     "output_type": "execute_result"
    }
   ],
   "source": [
    "valid_datagen = ImageDataGenerator(rescale=1./255) # , preprocessing_function=None\n",
    "valid_datagen"
   ]
  },
  {
   "cell_type": "markdown",
   "metadata": {},
   "source": [
    "### Load `training` & `validation` images"
   ]
  },
  {
   "cell_type": "code",
   "execution_count": 19,
   "metadata": {},
   "outputs": [
    {
     "data": {
      "text/plain": [
       "'./data/cat_dog_NN/validation'"
      ]
     },
     "execution_count": 19,
     "metadata": {},
     "output_type": "execute_result"
    }
   ],
   "source": [
    "base = 'data/cat_dog_NN'\n",
    "train_dir = path.join('.', base, 'train')\n",
    "valid_dir = path.join('.', base, 'validation')\n",
    "valid_dir"
   ]
  },
  {
   "cell_type": "code",
   "execution_count": 20,
   "metadata": {},
   "outputs": [
    {
     "name": "stdout",
     "output_type": "stream",
     "text": [
      "Found 20000 images belonging to 2 classes.\n"
     ]
    }
   ],
   "source": [
    "train_ds = train_datagen.flow_from_directory(\n",
    "    train_dir, \n",
    "    target_size=(img_size, img_size), \n",
    "    batch_size=batch_size,\n",
    "    class_mode=\"binary\",\n",
    "    # shuffle=False\n",
    ")"
   ]
  },
  {
   "cell_type": "code",
   "execution_count": 21,
   "metadata": {},
   "outputs": [
    {
     "data": {
      "text/plain": [
       "{'cats': 0, 'dogs': 1}"
      ]
     },
     "execution_count": 21,
     "metadata": {},
     "output_type": "execute_result"
    }
   ],
   "source": [
    "train_ds.class_indices"
   ]
  },
  {
   "cell_type": "code",
   "execution_count": 22,
   "metadata": {},
   "outputs": [
    {
     "name": "stdout",
     "output_type": "stream",
     "text": [
      "Found 5000 images belonging to 2 classes.\n"
     ]
    }
   ],
   "source": [
    "valid_ds = valid_datagen.flow_from_directory(\n",
    "    valid_dir, \n",
    "    target_size=(img_size, img_size), \n",
    "    batch_size=batch_size,\n",
    "    class_mode=\"binary\",\n",
    "    #shuffle=False\n",
    ")"
   ]
  },
  {
   "cell_type": "code",
   "execution_count": 23,
   "metadata": {},
   "outputs": [
    {
     "data": {
      "text/plain": [
       "{'cats': 0, 'dogs': 1}"
      ]
     },
     "execution_count": 23,
     "metadata": {},
     "output_type": "execute_result"
    }
   ],
   "source": [
    "valid_ds.class_indices"
   ]
  },
  {
   "cell_type": "markdown",
   "metadata": {},
   "source": [
    "### Fit the model"
   ]
  },
  {
   "cell_type": "code",
   "execution_count": 24,
   "metadata": {},
   "outputs": [],
   "source": [
    "from tqdm.keras import TqdmCallback"
   ]
  },
  {
   "cell_type": "code",
   "execution_count": 25,
   "metadata": {
    "scrolled": false
   },
   "outputs": [
    {
     "data": {
      "application/vnd.jupyter.widget-view+json": {
       "model_id": "03a4e92304974f6ea6e14c1ef9bdc2bf",
       "version_major": 2,
       "version_minor": 0
      },
      "text/plain": [
       "0epoch [00:00, ?epoch/s]"
      ]
     },
     "metadata": {},
     "output_type": "display_data"
    },
    {
     "data": {
      "application/vnd.jupyter.widget-view+json": {
       "model_id": "",
       "version_major": 2,
       "version_minor": 0
      },
      "text/plain": [
       "0batch [00:00, ?batch/s]"
      ]
     },
     "metadata": {},
     "output_type": "display_data"
    },
    {
     "name": "stdout",
     "output_type": "stream",
     "text": [
      "Epoch 1/10\n",
      "100/100 [==============================] - 22s 219ms/step - loss: 0.6961 - accuracy: 0.5155 - val_loss: 0.6890 - val_accuracy: 0.5580\n",
      "Epoch 2/10\n",
      "100/100 [==============================] - 20s 200ms/step - loss: 0.6873 - accuracy: 0.5390 - val_loss: 0.6876 - val_accuracy: 0.5630\n",
      "Epoch 3/10\n",
      "100/100 [==============================] - 19s 189ms/step - loss: 0.6868 - accuracy: 0.5415 - val_loss: 0.6924 - val_accuracy: 0.5100\n",
      "Epoch 4/10\n",
      "100/100 [==============================] - 20s 195ms/step - loss: 0.6798 - accuracy: 0.5660 - val_loss: 0.6726 - val_accuracy: 0.5850\n",
      "Epoch 5/10\n",
      "100/100 [==============================] - 24s 236ms/step - loss: 0.6722 - accuracy: 0.5770 - val_loss: 0.7142 - val_accuracy: 0.5220\n",
      "Epoch 6/10\n",
      "100/100 [==============================] - 22s 216ms/step - loss: 0.6782 - accuracy: 0.5695 - val_loss: 0.6764 - val_accuracy: 0.5820\n",
      "Epoch 7/10\n",
      "100/100 [==============================] - 22s 222ms/step - loss: 0.6674 - accuracy: 0.5860 - val_loss: 0.6799 - val_accuracy: 0.5590\n",
      "Epoch 8/10\n",
      "100/100 [==============================] - 24s 237ms/step - loss: 0.6666 - accuracy: 0.6005 - val_loss: 0.6652 - val_accuracy: 0.5930\n",
      "Epoch 9/10\n",
      "100/100 [==============================] - 21s 207ms/step - loss: 0.6578 - accuracy: 0.6015 - val_loss: 0.6526 - val_accuracy: 0.6130\n",
      "Epoch 10/10\n",
      "100/100 [==============================] - 21s 206ms/step - loss: 0.6555 - accuracy: 0.6050 - val_loss: 0.6522 - val_accuracy: 0.6110\n"
     ]
    }
   ],
   "source": [
    "history = model.fit(\n",
    "    train_ds,\n",
    "    epochs=epochs,\n",
    "    steps_per_epoch=100,\n",
    "    validation_data=valid_ds,\n",
    "    validation_steps=50,\n",
    "    callbacks=[TqdmCallback()],\n",
    "    verbose=1,\n",
    ")"
   ]
  },
  {
   "cell_type": "code",
   "execution_count": 26,
   "metadata": {},
   "outputs": [],
   "source": [
    "def summarize_diagnostics(history):\n",
    "    \n",
    "    figure = plt.figure(figsize=(8,8))\n",
    "            \n",
    "    # plot loss\n",
    "    plt.subplot(211)\n",
    "    plt.title('Cross Entropy Loss')\n",
    "    plt.plot(history.history['loss'], color='blue', label='train')\n",
    "    plt.plot(history.history['val_loss'], color='orange', label='val')\n",
    "    plt.legend()\n",
    "    \n",
    "    # plot accuracy\n",
    "    plt.subplot(212)\n",
    "    plt.title('Classification Accuracy')\n",
    "    plt.plot(history.history['accuracy'], color='blue', label='train')\n",
    "    plt.plot(history.history['val_accuracy'], color='orange', label='val')\n",
    "    plt.legend()\n",
    "    \n",
    "    # save plot to file\n",
    "    #filename = sys.argv[0].split('/')[-1]\n",
    "    #plt.savefig(filename + '_plot.png')\n",
    "    #plt.close()\n",
    "    \n",
    "    plt.tight_layout(pad=1.0)"
   ]
  },
  {
   "cell_type": "code",
   "execution_count": 27,
   "metadata": {},
   "outputs": [
    {
     "data": {
      "image/png": "[encoded data removed]",
      "text/plain": [
       "<Figure size 576x576 with 2 Axes>"
      ]
     },
     "metadata": {
      "needs_background": "light"
     },
     "output_type": "display_data"
    }
   ],
   "source": [
    "summarize_diagnostics(history)"
   ]
  },
  {
   "cell_type": "code",
   "execution_count": 28,
   "metadata": {},
   "outputs": [
    {
     "name": "stdout",
     "output_type": "stream",
     "text": [
      "> 61.780\n"
     ]
    }
   ],
   "source": [
    "# evaluate model\n",
    "_, acc = model.evaluate(valid_ds, steps=len(valid_ds), verbose=0)\n",
    "print('> %.3f' % (acc * 100.0))"
   ]
  },
  {
   "cell_type": "markdown",
   "metadata": {},
   "source": [
    "***\n",
    "## Question 3\n",
    "\n",
    "What is the median of training accuracy for this model?\n",
    "***"
   ]
  },
  {
   "cell_type": "code",
   "execution_count": 29,
   "metadata": {},
   "outputs": [],
   "source": [
    "import pandas as pd"
   ]
  },
  {
   "cell_type": "code",
   "execution_count": 30,
   "metadata": {},
   "outputs": [
    {
     "data": {
      "text/plain": [
       "0.573250025510788"
      ]
     },
     "execution_count": 30,
     "metadata": {},
     "output_type": "execute_result"
    }
   ],
   "source": [
    "pd.Series(history.history['accuracy']).median()"
   ]
  },
  {
   "cell_type": "markdown",
   "metadata": {},
   "source": [
    "**Results history at the end of the notebook**\n",
    "\n",
    "`ANSWER`: 0.56"
   ]
  },
  {
   "cell_type": "markdown",
   "metadata": {},
   "source": [
    "***\n",
    "## Question 4\n",
    "\n",
    "What is the standard deviation of training loss for this model?\n",
    "***"
   ]
  },
  {
   "cell_type": "code",
   "execution_count": 31,
   "metadata": {},
   "outputs": [
    {
     "data": {
      "text/plain": [
       "0.012558736511362889"
      ]
     },
     "execution_count": 31,
     "metadata": {},
     "output_type": "execute_result"
    }
   ],
   "source": [
    "np.array(history.history['loss']).std(ddof=0)"
   ]
  },
  {
   "cell_type": "code",
   "execution_count": 32,
   "metadata": {},
   "outputs": [
    {
     "data": {
      "text/plain": [
       "0.013238070636607943"
      ]
     },
     "execution_count": 32,
     "metadata": {},
     "output_type": "execute_result"
    }
   ],
   "source": [
    "pd.Series(history.history['loss']).std()"
   ]
  },
  {
   "cell_type": "markdown",
   "metadata": {},
   "source": [
    "**Results history at the end of the notebook**\n",
    "\n",
    "`ANSWER`: 0.01"
   ]
  },
  {
   "cell_type": "markdown",
   "metadata": {},
   "source": [
    "***\n",
    "## Data Augmentation\n",
    "\n",
    "For the next two questions, we'll generate more data using data augmentations.\n",
    "\n",
    "Add the following augmentations to your training data generator:\n",
    "- rotation_range=40,\n",
    "- width_shift_range=0.2,\n",
    "- height_shift_range=0.2,\n",
    "- shear_range=0.2,\n",
    "- zoom_range=0.2,\n",
    "- horizontal_flip=True,\n",
    "- fill_mode='nearest'\n",
    "***"
   ]
  },
  {
   "cell_type": "code",
   "execution_count": 33,
   "metadata": {},
   "outputs": [
    {
     "data": {
      "text/plain": [
       "<keras.preprocessing.image.ImageDataGenerator at 0x7f0eac6a1bb0>"
      ]
     },
     "execution_count": 33,
     "metadata": {},
     "output_type": "execute_result"
    }
   ],
   "source": [
    "data_gen_augmented = ImageDataGenerator(\n",
    "    rescale=1./255,\n",
    "    # preprocessing_function=None, \n",
    "    rotation_range=40,\n",
    "    width_shift_range=0.2,\n",
    "    height_shift_range=0.2,\n",
    "    shear_range=0.2,\n",
    "    zoom_range=0.2,\n",
    "    horizontal_flip=True,\n",
    "    fill_mode='nearest'\n",
    ")\n",
    "data_gen_augmented"
   ]
  },
  {
   "cell_type": "code",
   "execution_count": 34,
   "metadata": {},
   "outputs": [
    {
     "name": "stdout",
     "output_type": "stream",
     "text": [
      "Found 20000 images belonging to 2 classes.\n"
     ]
    }
   ],
   "source": [
    "train_ds_augmented = data_gen_augmented.flow_from_directory(\n",
    "    train_dir, \n",
    "    target_size=(img_size, img_size), \n",
    "    batch_size=batch_size,\n",
    "    class_mode=\"binary\",\n",
    "    # shuffle=False\n",
    ")"
   ]
  },
  {
   "cell_type": "code",
   "execution_count": 35,
   "metadata": {},
   "outputs": [
    {
     "data": {
      "text/plain": [
       "{'cats': 0, 'dogs': 1}"
      ]
     },
     "execution_count": 35,
     "metadata": {},
     "output_type": "execute_result"
    }
   ],
   "source": [
    "train_ds_augmented.class_indices"
   ]
  },
  {
   "cell_type": "raw",
   "metadata": {},
   "source": [
    "valid_ds = valid_datagen.flow_from_directory(\n",
    "    valid_dir, \n",
    "    target_size=(img_size, img_size), \n",
    "    batch_size=batch_size,\n",
    "    class_mode=\"binary\",\n",
    "    shuffle=False\n",
    ")"
   ]
  },
  {
   "cell_type": "raw",
   "metadata": {},
   "source": [
    "valid_ds.class_indices"
   ]
  },
  {
   "cell_type": "markdown",
   "metadata": {},
   "source": [
    "***\n",
    "## Question 5\n",
    "\n",
    "Let's train our model for 10 more epochs using the same code as previously. Make sure you don't re-create the model - we want to continue training the model we already started training.\n",
    "\n",
    "What is the mean of validation loss for the model trained with augmentations?\n",
    "***"
   ]
  },
  {
   "cell_type": "code",
   "execution_count": 36,
   "metadata": {},
   "outputs": [
    {
     "data": {
      "application/vnd.jupyter.widget-view+json": {
       "model_id": "d7dcdbefab2a401c8e3a17af9245c52d",
       "version_major": 2,
       "version_minor": 0
      },
      "text/plain": [
       "0epoch [00:00, ?epoch/s]"
      ]
     },
     "metadata": {},
     "output_type": "display_data"
    },
    {
     "data": {
      "application/vnd.jupyter.widget-view+json": {
       "model_id": "",
       "version_major": 2,
       "version_minor": 0
      },
      "text/plain": [
       "0batch [00:00, ?batch/s]"
      ]
     },
     "metadata": {},
     "output_type": "display_data"
    },
    {
     "name": "stdout",
     "output_type": "stream",
     "text": [
      "Epoch 1/10\n",
      "100/100 [==============================] - 30s 302ms/step - loss: 0.6681 - accuracy: 0.5975 - val_loss: 0.6547 - val_accuracy: 0.6110\n",
      "Epoch 2/10\n",
      "100/100 [==============================] - 29s 294ms/step - loss: 0.6726 - accuracy: 0.5695 - val_loss: 0.6400 - val_accuracy: 0.6320\n",
      "Epoch 3/10\n",
      "100/100 [==============================] - 30s 296ms/step - loss: 0.6654 - accuracy: 0.5895 - val_loss: 0.6393 - val_accuracy: 0.6420\n",
      "Epoch 4/10\n",
      "100/100 [==============================] - 30s 298ms/step - loss: 0.6651 - accuracy: 0.5855 - val_loss: 0.6435 - val_accuracy: 0.6110\n",
      "Epoch 5/10\n",
      "100/100 [==============================] - 30s 296ms/step - loss: 0.6623 - accuracy: 0.5830 - val_loss: 0.6408 - val_accuracy: 0.6390\n",
      "Epoch 6/10\n",
      "100/100 [==============================] - 30s 299ms/step - loss: 0.6658 - accuracy: 0.5875 - val_loss: 0.6439 - val_accuracy: 0.6360\n",
      "Epoch 7/10\n",
      "100/100 [==============================] - 30s 304ms/step - loss: 0.6552 - accuracy: 0.6185 - val_loss: 0.6623 - val_accuracy: 0.5890\n",
      "Epoch 8/10\n",
      "100/100 [==============================] - 30s 302ms/step - loss: 0.6555 - accuracy: 0.6105 - val_loss: 0.6331 - val_accuracy: 0.6250\n",
      "Epoch 9/10\n",
      "100/100 [==============================] - 30s 301ms/step - loss: 0.6503 - accuracy: 0.6010 - val_loss: 0.6569 - val_accuracy: 0.5950\n",
      "Epoch 10/10\n",
      "100/100 [==============================] - 31s 307ms/step - loss: 0.6657 - accuracy: 0.5905 - val_loss: 0.6366 - val_accuracy: 0.6340\n"
     ]
    }
   ],
   "source": [
    "history = model.fit(\n",
    "    train_ds_augmented,\n",
    "    epochs=epochs,\n",
    "    steps_per_epoch=100,\n",
    "    validation_data=valid_ds,\n",
    "    validation_steps=50,\n",
    "    callbacks=[TqdmCallback()],\n",
    "    verbose=1,\n",
    ")"
   ]
  },
  {
   "cell_type": "code",
   "execution_count": 37,
   "metadata": {},
   "outputs": [
    {
     "data": {
      "image/png": "[encoded data removed]",
      "text/plain": [
       "<Figure size 576x576 with 2 Axes>"
      ]
     },
     "metadata": {
      "needs_background": "light"
     },
     "output_type": "display_data"
    }
   ],
   "source": [
    "summarize_diagnostics(history)"
   ]
  },
  {
   "cell_type": "code",
   "execution_count": 38,
   "metadata": {},
   "outputs": [
    {
     "name": "stdout",
     "output_type": "stream",
     "text": [
      "> 62.520\n"
     ]
    }
   ],
   "source": [
    "# evaluate model\n",
    "_, acc = model.evaluate(valid_ds, steps=len(valid_ds), verbose=0)\n",
    "print('> %.3f' % (acc * 100.0))"
   ]
  },
  {
   "cell_type": "code",
   "execution_count": 39,
   "metadata": {},
   "outputs": [
    {
     "data": {
      "text/plain": [
       "0.6451016187667846"
      ]
     },
     "execution_count": 39,
     "metadata": {},
     "output_type": "execute_result"
    }
   ],
   "source": [
    "pd.Series(history.history['val_loss']).mean()"
   ]
  },
  {
   "cell_type": "markdown",
   "metadata": {},
   "source": [
    "**Results history at the end of the notebook**\n",
    "\n",
    "`ANSWER`: 0.67"
   ]
  },
  {
   "cell_type": "markdown",
   "metadata": {},
   "source": [
    "***\n",
    "## Question 6\n",
    "\n",
    "What is the standard deviation of validation accuracy for the model trained with augmentations?\n",
    "***"
   ]
  },
  {
   "cell_type": "code",
   "execution_count": 40,
   "metadata": {},
   "outputs": [
    {
     "data": {
      "text/plain": [
       "0.018839674733316186"
      ]
     },
     "execution_count": 40,
     "metadata": {},
     "output_type": "execute_result"
    }
   ],
   "source": [
    "pd.Series(history.history['val_accuracy']).std()"
   ]
  },
  {
   "cell_type": "markdown",
   "metadata": {},
   "source": [
    "## Question 6 (V2)\n",
    "\n",
    "What's the average of validation accuracy for the last 5 epochs (from 5 to 10) for the model trained with augmentations?"
   ]
  },
  {
   "cell_type": "code",
   "execution_count": 41,
   "metadata": {},
   "outputs": [
    {
     "data": {
      "text/plain": [
       "0.6157999992370605"
      ]
     },
     "execution_count": 41,
     "metadata": {},
     "output_type": "execute_result"
    }
   ],
   "source": [
    "pd.Series(history.history['val_accuracy'][-5:]).mean()"
   ]
  },
  {
   "cell_type": "markdown",
   "metadata": {},
   "source": [
    "**Results history at the end of the notebook**\n",
    "\n",
    "`ANSWER`: 0.65"
   ]
  },
  {
   "cell_type": "markdown",
   "metadata": {},
   "source": [
    "# Results' comparisons"
   ]
  },
  {
   "cell_type": "code",
   "execution_count": 42,
   "metadata": {},
   "outputs": [
    {
     "data": {
      "text/plain": [
       "(0.5739249944686889, 0.13949997723102575)"
      ]
     },
     "execution_count": 42,
     "metadata": {},
     "output_type": "execute_result"
    }
   ],
   "source": [
    "Q3 = np.array([\n",
    "    0.5099999904632568, #(from_logits=True & activation=None & batch_size=32)\n",
    "    0.5079687535762787, #(from_logits=False & activation='sigmoid' & batch_size=32)\n",
    "    0.5167187452316284, #(from_logits=False & activation='sigmoid' & batch_size=32)\n",
    "    0.5424999892711639, #(from_logits=False & activation='sigmoid' & batch_size=32)\n",
    "    0.4920312464237213, #(from_logits=False & activation='sigmoid' & batch_size=32)\n",
    "    0.4968749880790710, #(from_logits=False & activation='sigmoid' & batch_size=32)\n",
    "    0.528124988079071,  #(from_logits=False & activation='sigmoid' & batch_size=32)\n",
    "    0.5049999952316284, #(from_logits=False & activation='sigmoid' & batch_size=20)\n",
    "    0.4847500026226043, #(from_logits=False & activation='sigmoid' & batch_size=20)\n",
    "    0.5637499988079071, #(from_logits=False & activation='sigmoid' & batch_size=20)\n",
    "    0.4892500042915344, #(from_logits=False & activation='sigmoid' & batch_size=20)\n",
    "    0.5252500176429749, #(from_logits=False & activation='sigmoid' & batch_size=20)\n",
    "    0.5037499964237213, #(from_logits=False & activation='sigmoid' & batch_size=20)\n",
    "    0.5332500040531158, #(from_logits=False & activation='sigmoid' & batch_size=20)\n",
    "    0.5029999911785126, #(from_logits=False & activation='sigmoid' & batch_size=20)\n",
    "    0.5127499997615814, #(from_logits=False & activation='sigmoid' & batch_size=20)\n",
    "    0.5197499990463257, #(from_logits=False & activation='sigmoid' & batch_size=20)\n",
    "    0.5220000147819519, #(from_logits=False & activation='sigmoid' & batch_size=20)\n",
    "    0.4759999960660934, #(from_logits=False & activation='sigmoid' & batch_size=20)\n",
    "    0.6122500002384186, # refactor\n",
    "    0.5634999871253967, # refactor\n",
    "    0.5380000174045563, # refactor\n",
    "    0.5607500076293945, # refactor\n",
    "    0.5364999771118164, # refactor\n",
    "    0.5767499804496765, # refactor\n",
    "    0.6050000190734863, # new\n",
    "    0.5814999938011169, # new\n",
    "    0.6154999732971191, # new\n",
    "    0.5387499928474426, # new\n",
    "    0.5724999904632568, # new\n",
    "    0.5347499847412109, # new\n",
    "    0.5797500014305115, # new\n",
    "    0.5622500181198120, # new\n",
    "    0.5724999904632568, # new\n",
    "])\n",
    "Q3[-10:].mean(), Q3.max()-Q3.min()"
   ]
  },
  {
   "cell_type": "code",
   "execution_count": 43,
   "metadata": {},
   "outputs": [
    {
     "data": {
      "text/plain": [
       "(0.0136684770995962, 0.01783304122239049)"
      ]
     },
     "execution_count": 43,
     "metadata": {},
     "output_type": "execute_result"
    }
   ],
   "source": [
    "Q4 = np.array([\n",
    "    0.01770461249596647, #(from_logits=True & activation=None & batch_size=32)\n",
    "    0.02163280253055086, #(from_logits=False & activation='sigmoid' & batch_size=32)\n",
    "    0.00671274811618648, #(from_logits=False & activation='sigmoid' & batch_size=32) !\n",
    "    0.02022200281446467, #(from_logits=False & activation='sigmoid' & batch_size=32)\n",
    "    0.01097479938158576, #(from_logits=False & activation='sigmoid' & batch_size=32)\n",
    "    0.00405094188794689, #(from_logits=False & activation='sigmoid' & batch_size=32) !\n",
    "    0.02018709408811227, #(from_logits=False & activation='sigmoid' & batch_size=32)\n",
    "    0.00916966043551551, #(from_logits=False & activation='sigmoid' & batch_size=20)\n",
    "    0.01163930784486423, #(from_logits=False & activation='sigmoid' & batch_size=20)\n",
    "    0.01703455528339643, #(from_logits=False & activation='sigmoid' & batch_size=20)\n",
    "    0.01433750647812146, #(from_logits=False & activation='sigmoid' & batch_size=20)\n",
    "    0.01275301985720974, #(from_logits=False & activation='sigmoid' & batch_size=20)\n",
    "    0.00752412130853628, #(from_logits=False & activation='sigmoid' & batch_size=20)\n",
    "    0.01433501203918285, #(from_logits=False & activation='sigmoid' & batch_size=20)\n",
    "    0.01289621850837832, #(from_logits=False & activation='sigmoid' & batch_size=20)\n",
    "    0.01087434749256912, #(from_logits=False & activation='sigmoid' & batch_size=20)\n",
    "    0.00554904911415266, #(from_logits=False & activation='sigmoid' & batch_size=20)\n",
    "    0.00679885401473510, #(from_logits=False & activation='sigmoid' & batch_size=20)\n",
    "    0.01150445343307369, #(from_logits=False & activation='sigmoid' & batch_size=20)\n",
    "    0.01929377947277832, # refactor\n",
    "    0.01241433268282446, # refactor\n",
    "    0.00760665811544925, # refactor\n",
    "    0.01281528066157361, # refactor\n",
    "    0.00700573890004617, # refactor\n",
    "    0.01308990488381797, # refactor\n",
    "    0.01888934363790013, # new\n",
    "    0.01927769883948944, # new\n",
    "    0.02188398311033738, # new\n",
    "    0.00501512211997466, # new\n",
    "    0.01274842482275001, # new\n",
    "    0.00573340173602137, # new\n",
    "    0.01453703635901061, # new\n",
    "    0.01222184032316453, # new\n",
    "    0.01328801516349589, # new\n",
    "])\n",
    "Q4[-10:].mean(), Q4.max()-Q4.min()"
   ]
  },
  {
   "cell_type": "code",
   "execution_count": 44,
   "metadata": {},
   "outputs": [
    {
     "data": {
      "text/plain": [
       "(0.6798683929443354, 0.13415172398090425)"
      ]
     },
     "execution_count": 44,
     "metadata": {},
     "output_type": "execute_result"
    }
   ],
   "source": [
    "Q5 = np.array([\n",
    "    0.719238418340683,  #(from_logits=True & activation=None)\n",
    "    0.6899284362792969, #(from_logits=False & activation='sigmoid' & batch_size=32)\n",
    "    0.7183369338512421, #(from_logits=False & activation='sigmoid' & batch_size=32)\n",
    "    0.7208340525627136, #(from_logits=False & activation='sigmoid' & batch_size=32)\n",
    "    0.6942334115505219, #(from_logits=False & activation='sigmoid' & batch_size=32)\n",
    "    0.6979979813098908, #(from_logits=False & activation='sigmoid' & batch_size=32)\n",
    "    0.7356114387512207, #(from_logits=False & activation='sigmoid' & batch_size=32)\n",
    "    0.6841434001922607, #(from_logits=False & activation='sigmoid' & batch_size=20)\n",
    "    0.716226440668106,  #(from_logits=False & activation='sigmoid' & batch_size=20)\n",
    "    0.7970493465662003, #(from_logits=False & activation='sigmoid' & batch_size=20)\n",
    "    0.6962861537933349, #(from_logits=False & activation='sigmoid' & batch_size=20)\n",
    "    0.7336579084396362, #(from_logits=False & activation='sigmoid' & batch_size=20)\n",
    "    0.6925844430923462, #(from_logits=False & activation='sigmoid' & batch_size=20)\n",
    "    0.675023740530014,  #(from_logits=False & activation='sigmoid' & batch_size=20) \n",
    "    0.695951521396637,  #(from_logits=False & activation='sigmoid' & batch_size=20 & New Valid)\n",
    "    0.668485474586486,  #(from_logits=False & activation='sigmoid' & batch_size=20 & New Valid)\n",
    "    0.701666599512100,  #(from_logits=False & activation='sigmoid' & batch_size=20 & New Valid)\n",
    "    0.662897622585296,  #(from_logits=False & activation='sigmoid' & batch_size=20 & New Valid)\n",
    "    0.715353327989578,  #(from_logits=False & activation='sigmoid' & batch_size=20 & New Valid)\n",
    "    0.724351626634597,  # refactor\n",
    "    0.721460533142089,  # refactor\n",
    "    0.696551239490509,  # refactor\n",
    "    0.675483459234237,  # refactor\n",
    "    0.733630776405334,  # refactor\n",
    "    0.680016809701919, # new\n",
    "    0.685623812675476, # new\n",
    "    0.668934494256973, # new\n",
    "    0.673723840713501, # new\n",
    "    0.688292735815048, # new\n",
    "    0.677138632535934, # new\n",
    "    0.686079287528991, # new\n",
    "    0.682400405406951, # new\n",
    "    0.682352471351623, # new\n",
    "    0.674121439456939, # new\n",
    "])\n",
    "Q5[-10:].mean(), Q5.max()-Q5.min()"
   ]
  },
  {
   "cell_type": "code",
   "execution_count": 45,
   "metadata": {},
   "outputs": [
    {
     "data": {
      "text/plain": [
       "(0.06982297556732478, 0.5047106561702475)"
      ]
     },
     "execution_count": 45,
     "metadata": {},
     "output_type": "execute_result"
    }
   ],
   "source": [
    "Q6 = np.array([\n",
    "    0.0180913280411857, #(from_logits=True & activation=None & batch_size=32)       !\n",
    "    0.3564355199573978, #(from_logits=False & activation='sigmoid' & batch_size=32)\n",
    "    0.3062359688388245, #(from_logits=False & activation='sigmoid' & batch_size=32)\n",
    "    0.3475699082481783, #(from_logits=False & activation='sigmoid' & batch_size=32)\n",
    "    0.3880283136295986, #(from_logits=False & activation='sigmoid' & batch_size=32)\n",
    "    0.4312848003363450, #(from_logits=False & activation='sigmoid' & batch_size=32)\n",
    "    0.3580108473331330, #(from_logits=False & activation='sigmoid' & batch_size=32)\n",
    "    0.5047106561702475, #(from_logits=False & activation='sigmoid' & batch_size=20) !\n",
    "    0.2000251436315092, #(from_logits=False & activation='sigmoid' & batch_size=20) !\n",
    "    0.4741418520955114, #(from_logits=False & activation='sigmoid' & batch_size=20) !\n",
    "    0.3746727265799448, #(from_logits=False & activation='sigmoid' & batch_size=20)\n",
    "    0.3993567015502656, #(from_logits=False & activation='sigmoid' & batch_size=20)\n",
    "    0.3858428112319295, #(from_logits=False & activation='sigmoid' & batch_size=20)\n",
    "    0.3606789338880127, #(from_logits=False & activation='sigmoid' & batch_size=20)\n",
    "    0.2112468030815043, #(from_logits=False & activation='sigmoid' & batch_size=20 & New Valid)\n",
    "    0.3780625451000933, #(from_logits=False & activation='sigmoid' & batch_size=20 & New Valid)\n",
    "    0.4817031009921554, #(from_logits=False & activation='sigmoid' & batch_size=20 & New Valid)\n",
    "    0.4034426891679504, #(from_logits=False & activation='sigmoid' & batch_size=20 & New Valid)\n",
    "    0.0000000000000000, #(from_logits=False & activation='sigmoid' & batch_size=20 & New Valid)\n",
    "    0.3557914503873234, # refactor\n",
    "    0.1711963135617919, # refactor\n",
    "    0.2004034745479748, # refactor\n",
    "    0.3413764536282804, # refactor\n",
    "    0.3133996382368099, # refactor\n",
    "    0.2557873289444785, # refactor\n",
    "    0.3601782880116140, # new\n",
    "    0.0415044850684757, # new\n",
    "    0.0495266574413906, # new\n",
    "    0.0390611948336136, # new\n",
    "    0.0260693531789043, # new\n",
    "    0.0493649652578890, # new\n",
    "    0.0228971210565423, # new\n",
    "    0.0479008236217231, # new\n",
    "    0.0370998715978600, # new\n",
    "    0.0246269956052351, # new\n",
    "])\n",
    "Q6[-10:].mean(), Q6.max()-Q6.min()"
   ]
  },
  {
   "cell_type": "code",
   "execution_count": 46,
   "metadata": {},
   "outputs": [
    {
     "data": {
      "text/plain": [
       "(0.587259997650981, 0.9872000098228455)"
      ]
     },
     "execution_count": 46,
     "metadata": {},
     "output_type": "execute_result"
    }
   ],
   "source": [
    "Q6V2 = np.array([\n",
    "    0.5859999917447567, #(from_logits=False & activation='sigmoid' & batch_size=20)\n",
    "    0.5852000057697296, #(from_logits=False & activation='sigmoid' & batch_size=20)\n",
    "    0.3723999988287687, #(from_logits=False & activation='sigmoid' & batch_size=20)\n",
    "    0.4557999968528747, #(from_logits=False & activation='sigmoid' & batch_size=20)\n",
    "    0.5610000073909760, #(from_logits=False & activation='sigmoid' & batch_size=20)\n",
    "    0.3199999943375587, #(from_logits=False & activation='sigmoid' & batch_size=20 & New Valid)\n",
    "    0.7619999945163727, #(from_logits=False & activation='sigmoid' & batch_size=20 & New Valid)\n",
    "    0.7358000010251999, #(from_logits=False & activation='sigmoid' & batch_size=20 & New Valid)\n",
    "    0.9872000098228455, #(from_logits=False & activation='sigmoid' & batch_size=20 & New Valid)\n",
    "    0.0000000000000000, #(from_logits=False & activation='sigmoid' & batch_size=20 & New Valid)\n",
    "    0.2262000024318695, # refactor\n",
    "    0.4326000034809112, # refactor\n",
    "    0.4139999955892562, # refactor\n",
    "    0.5902000159025192, # refactor\n",
    "    0.0057999999728053, # refactor\n",
    "    0.1680000003427267, # refactor\n",
    "    0.5665999941527844, # new\n",
    "    0.5663999915122986, # new\n",
    "    0.6129999995231629, # new\n",
    "    0.6359999895095825, # new\n",
    "    0.5340000033378601, # new\n",
    "    0.6025999903678894, # new\n",
    "    0.5594000101089478, # new\n",
    "    0.6027999997138977, # new\n",
    "    0.5722000002861023, # new\n",
    "    0.6195999979972839, # new\n",
    "])\n",
    "Q6V2[-10:].mean(), Q6V2.max()-Q6V2.min()"
   ]
  },
  {
   "cell_type": "code",
   "execution_count": null,
   "metadata": {},
   "outputs": [],
   "source": []
  }
 ],
 "metadata": {
  "kernelspec": {
   "display_name": "Python 3",
   "language": "python",
   "name": "python3"
  },
  "language_info": {
   "codemirror_mode": {
    "name": "ipython",
    "version": 3
   },
   "file_extension": ".py",
   "mimetype": "text/x-python",
   "name": "python",
   "nbconvert_exporter": "python",
   "pygments_lexer": "ipython3",
   "version": "3.8.10"
  }
 },
 "nbformat": 4,
 "nbformat_minor": 4
}
