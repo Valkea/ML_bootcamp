{
 "cells": [
  {
   "cell_type": "markdown",
   "metadata": {},
   "source": [
    "In this homework, we'll build a model for predicting if we have an image of a dog or a cat. For this, we will use the \"Dogs & Cats\" dataset that can be downloaded from <a href='https://www.kaggle.com/c/dogs-vs-cats/data'>Kaggle</a>."
   ]
  },
  {
   "cell_type": "code",
   "execution_count": 1,
   "metadata": {
    "scrolled": true
   },
   "outputs": [
    {
     "name": "stdout",
     "output_type": "stream",
     "text": [
      "Defaulting to user installation because normal site-packages is not writeable\n",
      "Requirement already satisfied: tensorflow in /home/valkea/.local/lib/python3.8/site-packages (2.7.0)\n",
      "Requirement already satisfied: google-pasta>=0.1.1 in /home/valkea/.local/lib/python3.8/site-packages (from tensorflow) (0.2.0)\n",
      "Requirement already satisfied: typing-extensions>=3.6.6 in /home/valkea/.local/lib/python3.8/site-packages (from tensorflow) (3.7.4.3)\n",
      "Requirement already satisfied: wrapt>=1.11.0 in /home/valkea/.local/lib/python3.8/site-packages (from tensorflow) (1.13.3)\n",
      "Requirement already satisfied: libclang>=9.0.1 in /home/valkea/.local/lib/python3.8/site-packages (from tensorflow) (12.0.0)\n",
      "Requirement already satisfied: termcolor>=1.1.0 in /home/valkea/.local/lib/python3.8/site-packages (from tensorflow) (1.1.0)\n",
      "Requirement already satisfied: keras-preprocessing>=1.1.1 in /home/valkea/.local/lib/python3.8/site-packages (from tensorflow) (1.1.2)\n",
      "Requirement already satisfied: six>=1.12.0 in /usr/lib/python3/dist-packages (from tensorflow) (1.14.0)\n",
      "Requirement already satisfied: astunparse>=1.6.0 in /home/valkea/.local/lib/python3.8/site-packages (from tensorflow) (1.6.3)\n",
      "Requirement already satisfied: protobuf>=3.9.2 in /home/valkea/.local/lib/python3.8/site-packages (from tensorflow) (3.19.1)\n",
      "Requirement already satisfied: h5py>=2.9.0 in /usr/lib/python3/dist-packages (from tensorflow) (2.10.0)\n",
      "Requirement already satisfied: tensorboard~=2.6 in /home/valkea/.local/lib/python3.8/site-packages (from tensorflow) (2.7.0)\n",
      "Requirement already satisfied: keras<2.8,>=2.7.0rc0 in /home/valkea/.local/lib/python3.8/site-packages (from tensorflow) (2.7.0)\n",
      "Requirement already satisfied: grpcio<2.0,>=1.24.3 in /home/valkea/.local/lib/python3.8/site-packages (from tensorflow) (1.41.1)\n",
      "Requirement already satisfied: tensorflow-estimator<2.8,~=2.7.0rc0 in /home/valkea/.local/lib/python3.8/site-packages (from tensorflow) (2.7.0)\n",
      "Requirement already satisfied: absl-py>=0.4.0 in /home/valkea/.local/lib/python3.8/site-packages (from tensorflow) (1.0.0)\n",
      "Requirement already satisfied: flatbuffers<3.0,>=1.12 in /home/valkea/.local/lib/python3.8/site-packages (from tensorflow) (2.0)\n",
      "Requirement already satisfied: numpy>=1.14.5 in /usr/local/lib/python3.8/dist-packages (from tensorflow) (1.20.3)\n",
      "Requirement already satisfied: gast<0.5.0,>=0.2.1 in /home/valkea/.local/lib/python3.8/site-packages (from tensorflow) (0.4.0)\n",
      "Requirement already satisfied: tensorflow-io-gcs-filesystem>=0.21.0 in /home/valkea/.local/lib/python3.8/site-packages (from tensorflow) (0.22.0)\n",
      "Requirement already satisfied: wheel<1.0,>=0.32.0 in /usr/lib/python3/dist-packages (from tensorflow) (0.34.2)\n",
      "Requirement already satisfied: opt-einsum>=2.3.2 in /home/valkea/.local/lib/python3.8/site-packages (from tensorflow) (3.3.0)\n",
      "Requirement already satisfied: markdown>=2.6.8 in /home/valkea/.local/lib/python3.8/site-packages (from tensorboard~=2.6->tensorflow) (3.3.4)\n",
      "Requirement already satisfied: requests<3,>=2.21.0 in /home/valkea/.local/lib/python3.8/site-packages (from tensorboard~=2.6->tensorflow) (2.26.0)\n",
      "Requirement already satisfied: google-auth-oauthlib<0.5,>=0.4.1 in /home/valkea/.local/lib/python3.8/site-packages (from tensorboard~=2.6->tensorflow) (0.4.6)\n",
      "Requirement already satisfied: google-auth<3,>=1.6.3 in /home/valkea/.local/lib/python3.8/site-packages (from tensorboard~=2.6->tensorflow) (2.3.3)\n",
      "Requirement already satisfied: tensorboard-data-server<0.7.0,>=0.6.0 in /home/valkea/.local/lib/python3.8/site-packages (from tensorboard~=2.6->tensorflow) (0.6.1)\n",
      "Requirement already satisfied: setuptools>=41.0.0 in /usr/lib/python3/dist-packages (from tensorboard~=2.6->tensorflow) (45.2.0)\n",
      "Requirement already satisfied: werkzeug>=0.11.15 in /home/valkea/.local/lib/python3.8/site-packages (from tensorboard~=2.6->tensorflow) (2.0.2)\n",
      "Requirement already satisfied: tensorboard-plugin-wit>=1.6.0 in /home/valkea/.local/lib/python3.8/site-packages (from tensorboard~=2.6->tensorflow) (1.8.0)\n",
      "Requirement already satisfied: cachetools<5.0,>=2.0.0 in /home/valkea/.local/lib/python3.8/site-packages (from google-auth<3,>=1.6.3->tensorboard~=2.6->tensorflow) (4.2.4)\n",
      "Requirement already satisfied: rsa<5,>=3.1.4 in /home/valkea/.local/lib/python3.8/site-packages (from google-auth<3,>=1.6.3->tensorboard~=2.6->tensorflow) (4.7.2)\n",
      "Requirement already satisfied: pyasn1-modules>=0.2.1 in /home/valkea/.local/lib/python3.8/site-packages (from google-auth<3,>=1.6.3->tensorboard~=2.6->tensorflow) (0.2.8)\n",
      "Requirement already satisfied: requests-oauthlib>=0.7.0 in /home/valkea/.local/lib/python3.8/site-packages (from google-auth-oauthlib<0.5,>=0.4.1->tensorboard~=2.6->tensorflow) (1.3.0)\n",
      "Requirement already satisfied: pyasn1<0.5.0,>=0.4.6 in /home/valkea/.local/lib/python3.8/site-packages (from pyasn1-modules>=0.2.1->google-auth<3,>=1.6.3->tensorboard~=2.6->tensorflow) (0.4.8)\n",
      "Requirement already satisfied: charset-normalizer~=2.0.0 in /home/valkea/.local/lib/python3.8/site-packages (from requests<3,>=2.21.0->tensorboard~=2.6->tensorflow) (2.0.4)\n",
      "Requirement already satisfied: certifi>=2017.4.17 in /usr/lib/python3/dist-packages (from requests<3,>=2.21.0->tensorboard~=2.6->tensorflow) (2019.11.28)\n",
      "Requirement already satisfied: idna<4,>=2.5 in /home/valkea/.local/lib/python3.8/site-packages (from requests<3,>=2.21.0->tensorboard~=2.6->tensorflow) (2.10)\n",
      "Requirement already satisfied: urllib3<1.27,>=1.21.1 in /usr/lib/python3/dist-packages (from requests<3,>=2.21.0->tensorboard~=2.6->tensorflow) (1.25.8)\n",
      "Requirement already satisfied: oauthlib>=3.0.0 in /usr/lib/python3/dist-packages (from requests-oauthlib>=0.7.0->google-auth-oauthlib<0.5,>=0.4.1->tensorboard~=2.6->tensorflow) (3.1.0)\n",
      "\u001b[33mWARNING: You are using pip version 21.2.4; however, version 21.3.1 is available.\n",
      "You should consider upgrading via the '/usr/bin/python -m pip install --upgrade pip' command.\u001b[0m\n"
     ]
    }
   ],
   "source": [
    "!pip install tensorflow"
   ]
  },
  {
   "cell_type": "code",
   "execution_count": 2,
   "metadata": {},
   "outputs": [],
   "source": [
    "import numpy as np\n",
    "import matplotlib.pyplot as plt\n",
    "\n",
    "import tensorflow as tf\n",
    "from tensorflow import keras"
   ]
  },
  {
   "cell_type": "markdown",
   "metadata": {},
   "source": [
    "#### Seed for reproductibility\n",
    "\n",
    "Does't seem very useful"
   ]
  },
  {
   "cell_type": "raw",
   "metadata": {},
   "source": [
    "np.random.seed(1)\n",
    "tf.random.set_seed(2)"
   ]
  },
  {
   "cell_type": "markdown",
   "metadata": {},
   "source": [
    "## Setup Model Architecture"
   ]
  },
  {
   "cell_type": "markdown",
   "metadata": {},
   "source": [
    "### Input \n",
    "`The shape for input should be (150, 150, 3)`"
   ]
  },
  {
   "cell_type": "code",
   "execution_count": 3,
   "metadata": {},
   "outputs": [
    {
     "data": {
      "text/plain": [
       "<KerasTensor: shape=(None, 150, 150, 3) dtype=float32 (created by layer 'input_1')>"
      ]
     },
     "execution_count": 3,
     "metadata": {},
     "output_type": "execute_result"
    }
   ],
   "source": [
    "inputs = keras.Input(shape=(150,150,3))\n",
    "inputs"
   ]
  },
  {
   "cell_type": "markdown",
   "metadata": {},
   "source": [
    "### Conv2D\n",
    "`Next, create a covolutional layer (Conv2D)`\n",
    "- Use 32 filters\n",
    "- Kernel size should be (3, 3) (that's the size of the filter)\n",
    "- Use 'relu' as activation`\n",
    "\n"
   ]
  },
  {
   "cell_type": "code",
   "execution_count": 4,
   "metadata": {},
   "outputs": [
    {
     "data": {
      "text/plain": [
       "<KerasTensor: shape=(None, 148, 148, 32) dtype=float32 (created by layer 'conv2d')>"
      ]
     },
     "execution_count": 4,
     "metadata": {},
     "output_type": "execute_result"
    }
   ],
   "source": [
    "conv2D = keras.layers.Conv2D(filters=32, kernel_size=(3,3), activation='relu')(inputs)\n",
    "conv2D"
   ]
  },
  {
   "cell_type": "markdown",
   "metadata": {},
   "source": [
    "### Pool \n",
    "`Reduce the size of the feature map with max pooling (MaxPooling2D)`\n",
    "- Set the pooling size to (2, 2)\n"
   ]
  },
  {
   "cell_type": "code",
   "execution_count": 5,
   "metadata": {},
   "outputs": [
    {
     "data": {
      "text/plain": [
       "<KerasTensor: shape=(None, 74, 74, 32) dtype=float32 (created by layer 'max_pooling2d')>"
      ]
     },
     "execution_count": 5,
     "metadata": {},
     "output_type": "execute_result"
    }
   ],
   "source": [
    "pool = keras.layers.MaxPooling2D(pool_size=(2,2))(conv2D)\n",
    "pool"
   ]
  },
  {
   "cell_type": "markdown",
   "metadata": {},
   "source": [
    "### Flatten\n",
    "`Turn the multi-dimensional result into vectors using a Flatten layer`"
   ]
  },
  {
   "cell_type": "code",
   "execution_count": 6,
   "metadata": {},
   "outputs": [
    {
     "data": {
      "text/plain": [
       "<KerasTensor: shape=(None, 175232) dtype=float32 (created by layer 'flatten')>"
      ]
     },
     "execution_count": 6,
     "metadata": {},
     "output_type": "execute_result"
    }
   ],
   "source": [
    "vector = keras.layers.Flatten()(pool)\n",
    "vector"
   ]
  },
  {
   "cell_type": "markdown",
   "metadata": {},
   "source": [
    "### Dense\n",
    "`Next, add a Dense layer with 64 neurons and 'relu' activation`"
   ]
  },
  {
   "cell_type": "code",
   "execution_count": 7,
   "metadata": {},
   "outputs": [
    {
     "data": {
      "text/plain": [
       "<KerasTensor: shape=(None, 64) dtype=float32 (created by layer 'dense')>"
      ]
     },
     "execution_count": 7,
     "metadata": {},
     "output_type": "execute_result"
    }
   ],
   "source": [
    "inner = keras.layers.Dense(64, activation='relu')(vector)\n",
    "inner"
   ]
  },
  {
   "cell_type": "markdown",
   "metadata": {},
   "source": [
    "### Output\n",
    "`Finally, create the Dense layer with 1 neuron - this will be the output`\n",
    "- The output layer should have an activation - use the appropriate activation for the binary classification case"
   ]
  },
  {
   "cell_type": "code",
   "execution_count": 8,
   "metadata": {},
   "outputs": [
    {
     "data": {
      "text/plain": [
       "<KerasTensor: shape=(None, 1) dtype=float32 (created by layer 'dense_1')>"
      ]
     },
     "execution_count": 8,
     "metadata": {},
     "output_type": "execute_result"
    }
   ],
   "source": [
    "outputs = keras.layers.Dense(1, activation='sigmoid')(inner) # activation='sigmoid'\n",
    "outputs"
   ]
  },
  {
   "cell_type": "markdown",
   "metadata": {},
   "source": [
    "### Init model"
   ]
  },
  {
   "cell_type": "code",
   "execution_count": 9,
   "metadata": {},
   "outputs": [
    {
     "data": {
      "text/plain": [
       "<keras.engine.functional.Functional at 0x7efb607c2af0>"
      ]
     },
     "execution_count": 9,
     "metadata": {},
     "output_type": "execute_result"
    }
   ],
   "source": [
    "model = keras.Model(inputs, outputs)\n",
    "model"
   ]
  },
  {
   "cell_type": "markdown",
   "metadata": {},
   "source": [
    "### Optimizer & Loss\n",
    "`As optimizer use SGD with the following parameters`\n",
    "- SGD(lr=0.002, momentum=0.8)\n"
   ]
  },
  {
   "cell_type": "code",
   "execution_count": 10,
   "metadata": {},
   "outputs": [
    {
     "data": {
      "text/plain": [
       "<keras.optimizer_v2.gradient_descent.SGD at 0x7efb71041910>"
      ]
     },
     "execution_count": 10,
     "metadata": {},
     "output_type": "execute_result"
    }
   ],
   "source": [
    "optimizer = keras.optimizers.SGD(learning_rate=0.002, momentum=0.8)\n",
    "#optimizer = keras.optimizers.Adam(learning_rate=0.01)\n",
    "optimizer"
   ]
  },
  {
   "cell_type": "markdown",
   "metadata": {},
   "source": [
    "Note: since we specify an activation for the output layer, we don't need to set from_logits=True"
   ]
  },
  {
   "cell_type": "code",
   "execution_count": 11,
   "metadata": {},
   "outputs": [
    {
     "data": {
      "text/plain": [
       "<keras.losses.BinaryCrossentropy at 0x7efb607c26d0>"
      ]
     },
     "execution_count": 11,
     "metadata": {},
     "output_type": "execute_result"
    }
   ],
   "source": [
    "loss = keras.losses.BinaryCrossentropy(from_logits=False)\n",
    "loss"
   ]
  },
  {
   "cell_type": "code",
   "execution_count": 12,
   "metadata": {},
   "outputs": [],
   "source": [
    "model.compile(optimizer=optimizer, loss=loss, metrics=['accuracy'])"
   ]
  },
  {
   "cell_type": "markdown",
   "metadata": {},
   "source": [
    "***\n",
    "## Question 1\n",
    "\n",
    "Since we have a binary classification problem, what is the best loss function for us?\n",
    "***"
   ]
  },
  {
   "cell_type": "markdown",
   "metadata": {},
   "source": [
    "`ANSWER`: Binary Cross Entropy"
   ]
  },
  {
   "cell_type": "markdown",
   "metadata": {},
   "source": [
    "***\n",
    "## Question 2\n",
    "\n",
    "What's the total number of parameters of the model? You can use the summary method for that.\n",
    "***"
   ]
  },
  {
   "cell_type": "code",
   "execution_count": 13,
   "metadata": {},
   "outputs": [
    {
     "name": "stdout",
     "output_type": "stream",
     "text": [
      "Model: \"model\"\n",
      "_________________________________________________________________\n",
      " Layer (type)                Output Shape              Param #   \n",
      "=================================================================\n",
      " input_1 (InputLayer)        [(None, 150, 150, 3)]     0         \n",
      "                                                                 \n",
      " conv2d (Conv2D)             (None, 148, 148, 32)      896       \n",
      "                                                                 \n",
      " max_pooling2d (MaxPooling2D  (None, 74, 74, 32)       0         \n",
      " )                                                               \n",
      "                                                                 \n",
      " flatten (Flatten)           (None, 175232)            0         \n",
      "                                                                 \n",
      " dense (Dense)               (None, 64)                11214912  \n",
      "                                                                 \n",
      " dense_1 (Dense)             (None, 1)                 65        \n",
      "                                                                 \n",
      "=================================================================\n",
      "Total params: 11,215,873\n",
      "Trainable params: 11,215,873\n",
      "Non-trainable params: 0\n",
      "_________________________________________________________________\n"
     ]
    }
   ],
   "source": [
    "model.summary()"
   ]
  },
  {
   "cell_type": "markdown",
   "metadata": {},
   "source": [
    "`ANSWER`: 11,215,873"
   ]
  },
  {
   "cell_type": "markdown",
   "metadata": {},
   "source": [
    "***\n",
    "## Generators and Training\n",
    "\n",
    "For the next two questions, use the following data generator for both train and validation:\n",
    "\n",
    "`ImageDataGenerator(rescale=1./255)`\n",
    "\n",
    "- We don't need to do any additional pre-processing for the images.\n",
    "- When reading the data from train/val directories, check the class_mode parameter. Which value should it be for a binary classification problem?\n",
    "- Use batch_size=20"
   ]
  },
  {
   "cell_type": "code",
   "execution_count": 14,
   "metadata": {},
   "outputs": [],
   "source": [
    "from keras.preprocessing.image import load_img\n",
    "from os import path"
   ]
  },
  {
   "cell_type": "code",
   "execution_count": 15,
   "metadata": {},
   "outputs": [],
   "source": [
    "img_size=150\n",
    "batch_size=20"
   ]
  },
  {
   "cell_type": "markdown",
   "metadata": {},
   "source": [
    "### Load 1 image"
   ]
  },
  {
   "cell_type": "raw",
   "metadata": {},
   "source": [
    "base = 'data/cat_dog_NN/train/cats/'\n",
    "file = 'cat.0.jpg'\n",
    "fullname = path.join('.', base, file)\n",
    "fullname"
   ]
  },
  {
   "cell_type": "raw",
   "metadata": {},
   "source": [
    "img = load_img(fullname, target_size=(img_size, img_size))\n",
    "img"
   ]
  },
  {
   "cell_type": "raw",
   "metadata": {},
   "source": [
    "x = np.array(img)\n",
    "x.shape"
   ]
  },
  {
   "cell_type": "markdown",
   "metadata": {},
   "source": [
    "### Prepare generators"
   ]
  },
  {
   "cell_type": "code",
   "execution_count": 16,
   "metadata": {},
   "outputs": [],
   "source": [
    "from keras.preprocessing.image import ImageDataGenerator"
   ]
  },
  {
   "cell_type": "code",
   "execution_count": 17,
   "metadata": {},
   "outputs": [
    {
     "data": {
      "text/plain": [
       "<keras.preprocessing.image.ImageDataGenerator at 0x7efb710e0e80>"
      ]
     },
     "execution_count": 17,
     "metadata": {},
     "output_type": "execute_result"
    }
   ],
   "source": [
    "train_gen = ImageDataGenerator(rescale=1./255) # , preprocessing_function=None\n",
    "train_gen"
   ]
  },
  {
   "cell_type": "code",
   "execution_count": 18,
   "metadata": {},
   "outputs": [
    {
     "data": {
      "text/plain": [
       "<keras.preprocessing.image.ImageDataGenerator at 0x7efb710e0e50>"
      ]
     },
     "execution_count": 18,
     "metadata": {},
     "output_type": "execute_result"
    }
   ],
   "source": [
    "valid_gen = ImageDataGenerator(rescale=1./255) # , preprocessing_function=None\n",
    "valid_gen"
   ]
  },
  {
   "cell_type": "markdown",
   "metadata": {},
   "source": [
    "### Load `training` & `validation` images"
   ]
  },
  {
   "cell_type": "code",
   "execution_count": 19,
   "metadata": {},
   "outputs": [
    {
     "data": {
      "text/plain": [
       "'./data/cat_dog_NN/validation'"
      ]
     },
     "execution_count": 19,
     "metadata": {},
     "output_type": "execute_result"
    }
   ],
   "source": [
    "base = 'data/cat_dog_NN'\n",
    "train_dir = path.join('.', base, 'train')\n",
    "valid_dir = path.join('.', base, 'validation')\n",
    "valid_dir"
   ]
  },
  {
   "cell_type": "code",
   "execution_count": 20,
   "metadata": {},
   "outputs": [
    {
     "name": "stdout",
     "output_type": "stream",
     "text": [
      "Found 20000 images belonging to 2 classes.\n"
     ]
    }
   ],
   "source": [
    "train_ds = train_gen.flow_from_directory(\n",
    "    train_dir, \n",
    "    target_size=(img_size, img_size), \n",
    "    batch_size=batch_size,\n",
    "    class_mode=\"binary\",\n",
    "    shuffle=False\n",
    ")"
   ]
  },
  {
   "cell_type": "code",
   "execution_count": 21,
   "metadata": {},
   "outputs": [
    {
     "data": {
      "text/plain": [
       "{'cats': 0, 'dogs': 1}"
      ]
     },
     "execution_count": 21,
     "metadata": {},
     "output_type": "execute_result"
    }
   ],
   "source": [
    "train_ds.class_indices"
   ]
  },
  {
   "cell_type": "code",
   "execution_count": 22,
   "metadata": {},
   "outputs": [
    {
     "name": "stdout",
     "output_type": "stream",
     "text": [
      "Found 5000 images belonging to 2 classes.\n"
     ]
    }
   ],
   "source": [
    "valid_ds = valid_gen.flow_from_directory(\n",
    "    valid_dir, \n",
    "    target_size=(img_size, img_size), \n",
    "    batch_size=batch_size,\n",
    "    class_mode=\"binary\",\n",
    "    shuffle=False\n",
    ")"
   ]
  },
  {
   "cell_type": "code",
   "execution_count": 23,
   "metadata": {},
   "outputs": [
    {
     "data": {
      "text/plain": [
       "{'cats': 0, 'dogs': 1}"
      ]
     },
     "execution_count": 23,
     "metadata": {},
     "output_type": "execute_result"
    }
   ],
   "source": [
    "valid_ds.class_indices"
   ]
  },
  {
   "cell_type": "markdown",
   "metadata": {},
   "source": [
    "### Fit the model"
   ]
  },
  {
   "cell_type": "code",
   "execution_count": 24,
   "metadata": {},
   "outputs": [],
   "source": [
    "from tqdm.keras import TqdmCallback"
   ]
  },
  {
   "cell_type": "code",
   "execution_count": 26,
   "metadata": {
    "scrolled": false
   },
   "outputs": [
    {
     "data": {
      "application/vnd.jupyter.widget-view+json": {
       "model_id": "934341101525420eac95e1f1cb3e1ce2",
       "version_major": 2,
       "version_minor": 0
      },
      "text/plain": [
       "0epoch [00:00, ?epoch/s]"
      ]
     },
     "metadata": {},
     "output_type": "display_data"
    },
    {
     "data": {
      "application/vnd.jupyter.widget-view+json": {
       "model_id": "",
       "version_major": 2,
       "version_minor": 0
      },
      "text/plain": [
       "0batch [00:00, ?batch/s]"
      ]
     },
     "metadata": {},
     "output_type": "display_data"
    },
    {
     "name": "stdout",
     "output_type": "stream",
     "text": [
      "Epoch 1/10\n",
      "100/100 [==============================] - 20s 190ms/step - loss: 0.7294 - accuracy: 0.4795 - val_loss: 0.6759 - val_accuracy: 0.8500\n",
      "Epoch 2/10\n",
      "100/100 [==============================] - 19s 189ms/step - loss: 0.6926 - accuracy: 0.5320 - val_loss: 0.7234 - val_accuracy: 0.0000e+00\n",
      "Epoch 3/10\n",
      "100/100 [==============================] - 19s 192ms/step - loss: 0.6968 - accuracy: 0.4050 - val_loss: 0.6950 - val_accuracy: 0.0050\n",
      "Epoch 4/10\n",
      "100/100 [==============================] - 19s 189ms/step - loss: 0.6942 - accuracy: 0.4725 - val_loss: 0.7064 - val_accuracy: 0.0000e+00\n",
      "Epoch 5/10\n",
      "100/100 [==============================] - 19s 188ms/step - loss: 0.6941 - accuracy: 0.4580 - val_loss: 0.7059 - val_accuracy: 0.0000e+00\n",
      "Epoch 6/10\n",
      "100/100 [==============================] - 19s 188ms/step - loss: 0.6920 - accuracy: 0.5500 - val_loss: 0.7284 - val_accuracy: 0.0000e+00\n",
      "Epoch 7/10\n",
      "100/100 [==============================] - 19s 188ms/step - loss: 0.6938 - accuracy: 0.5200 - val_loss: 0.7251 - val_accuracy: 0.0000e+00\n",
      "Epoch 8/10\n",
      "100/100 [==============================] - 19s 187ms/step - loss: 0.6960 - accuracy: 0.4000 - val_loss: 0.6930 - val_accuracy: 0.9960\n",
      "Epoch 9/10\n",
      "100/100 [==============================] - 19s 190ms/step - loss: 0.6885 - accuracy: 0.6200 - val_loss: 0.6434 - val_accuracy: 1.0000\n",
      "Epoch 10/10\n",
      "100/100 [==============================] - 19s 190ms/step - loss: 0.6989 - accuracy: 0.4500 - val_loss: 0.6725 - val_accuracy: 1.0000\n"
     ]
    }
   ],
   "source": [
    "history = model.fit(\n",
    "    train_ds,\n",
    "    epochs=10,\n",
    "    steps_per_epoch=100,\n",
    "    validation_data=valid_ds,\n",
    "    validation_steps=50,\n",
    "    callbacks=[TqdmCallback()],\n",
    "    verbose=1,\n",
    ")"
   ]
  },
  {
   "cell_type": "code",
   "execution_count": 28,
   "metadata": {},
   "outputs": [
    {
     "data": {
      "text/plain": [
       "<matplotlib.legend.Legend at 0x7efb481486d0>"
      ]
     },
     "execution_count": 28,
     "metadata": {},
     "output_type": "execute_result"
    },
    {
     "data": {
      "image/png": "[encoded data removed]",
      "text/plain": [
       "<Figure size 432x288 with 1 Axes>"
      ]
     },
     "metadata": {
      "needs_background": "light"
     },
     "output_type": "display_data"
    }
   ],
   "source": [
    "plt.plot(history.history['loss'], label='train')\n",
    "plt.plot(history.history['val_loss'], label='val')\n",
    "plt.xticks(np.arange(10))\n",
    "plt.legend()"
   ]
  },
  {
   "cell_type": "code",
   "execution_count": 29,
   "metadata": {},
   "outputs": [
    {
     "data": {
      "text/plain": [
       "<matplotlib.legend.Legend at 0x7efb48080310>"
      ]
     },
     "execution_count": 29,
     "metadata": {},
     "output_type": "execute_result"
    },
    {
     "data": {
      "image/png": "[encoded data removed]",
      "text/plain": [
       "<Figure size 432x288 with 1 Axes>"
      ]
     },
     "metadata": {
      "needs_background": "light"
     },
     "output_type": "display_data"
    }
   ],
   "source": [
    "plt.plot(history.history['accuracy'], label='train')\n",
    "plt.plot(history.history['val_accuracy'], label='val')\n",
    "plt.xticks(np.arange(10))\n",
    "plt.legend()"
   ]
  },
  {
   "cell_type": "markdown",
   "metadata": {},
   "source": [
    "***\n",
    "## Question 3\n",
    "\n",
    "What is the median of training accuracy for this model?\n",
    "***"
   ]
  },
  {
   "cell_type": "code",
   "execution_count": 30,
   "metadata": {},
   "outputs": [],
   "source": [
    "import pandas as pd"
   ]
  },
  {
   "cell_type": "code",
   "execution_count": 31,
   "metadata": {},
   "outputs": [
    {
     "data": {
      "text/plain": [
       "0.47599999606609344"
      ]
     },
     "execution_count": 31,
     "metadata": {},
     "output_type": "execute_result"
    }
   ],
   "source": [
    "pd.Series(history.history['accuracy']).median()"
   ]
  },
  {
   "cell_type": "markdown",
   "metadata": {},
   "source": [
    "**Results history at the end of the notebook**\n",
    "\n",
    "`ANSWER`: 0.56 ?\n",
    "<div style='color:#FF0000'>a valider</div>"
   ]
  },
  {
   "cell_type": "markdown",
   "metadata": {},
   "source": [
    "***\n",
    "## Question 4\n",
    "\n",
    "What is the standard deviation of training loss for this model?\n",
    "***"
   ]
  },
  {
   "cell_type": "code",
   "execution_count": 32,
   "metadata": {},
   "outputs": [
    {
     "data": {
      "text/plain": [
       "0.01091408282515691"
      ]
     },
     "execution_count": 32,
     "metadata": {},
     "output_type": "execute_result"
    }
   ],
   "source": [
    "np.array(history.history['loss']).std(ddof=0)"
   ]
  },
  {
   "cell_type": "code",
   "execution_count": 33,
   "metadata": {},
   "outputs": [
    {
     "data": {
      "text/plain": [
       "0.011504453433073698"
      ]
     },
     "execution_count": 33,
     "metadata": {},
     "output_type": "execute_result"
    }
   ],
   "source": [
    "pd.Series(history.history['loss']).std()"
   ]
  },
  {
   "cell_type": "markdown",
   "metadata": {},
   "source": [
    "**Results history at the end of the notebook**\n",
    "\n",
    "`ANSWER`: 0.01 ?\n",
    "<div style='color:#FF0000'>a valider</div>"
   ]
  },
  {
   "cell_type": "markdown",
   "metadata": {},
   "source": [
    "***\n",
    "## Data Augmentation\n",
    "\n",
    "For the next two questions, we'll generate more data using data augmentations.\n",
    "\n",
    "Add the following augmentations to your training data generator:\n",
    "- rotation_range=40,\n",
    "- width_shift_range=0.2,\n",
    "- height_shift_range=0.2,\n",
    "- shear_range=0.2,\n",
    "- zoom_range=0.2,\n",
    "- horizontal_flip=True,\n",
    "- fill_mode='nearest'\n",
    "***"
   ]
  },
  {
   "cell_type": "code",
   "execution_count": 34,
   "metadata": {},
   "outputs": [
    {
     "data": {
      "text/plain": [
       "<keras.preprocessing.image.ImageDataGenerator at 0x7efb480c90d0>"
      ]
     },
     "execution_count": 34,
     "metadata": {},
     "output_type": "execute_result"
    }
   ],
   "source": [
    "train_gen_augmented = ImageDataGenerator(\n",
    "    rescale=1./255,\n",
    "    preprocessing_function=None, \n",
    "    rotation_range=40,\n",
    "    width_shift_range=0.2,\n",
    "    height_shift_range=0.2,\n",
    "    shear_range=0.2,\n",
    "    zoom_range=0.2,\n",
    "    horizontal_flip=True,\n",
    "    fill_mode='nearest'\n",
    ")\n",
    "train_gen_augmented"
   ]
  },
  {
   "cell_type": "code",
   "execution_count": 35,
   "metadata": {},
   "outputs": [
    {
     "name": "stdout",
     "output_type": "stream",
     "text": [
      "Found 20000 images belonging to 2 classes.\n"
     ]
    }
   ],
   "source": [
    "train_ds_augmented = train_gen_augmented.flow_from_directory(\n",
    "    train_dir, \n",
    "    target_size=(img_size, img_size), \n",
    "    batch_size=batch_size,\n",
    "    class_mode=\"binary\",\n",
    "    shuffle=False\n",
    ")"
   ]
  },
  {
   "cell_type": "code",
   "execution_count": 36,
   "metadata": {},
   "outputs": [
    {
     "data": {
      "text/plain": [
       "{'cats': 0, 'dogs': 1}"
      ]
     },
     "execution_count": 36,
     "metadata": {},
     "output_type": "execute_result"
    }
   ],
   "source": [
    "train_ds_augmented.class_indices"
   ]
  },
  {
   "cell_type": "code",
   "execution_count": 37,
   "metadata": {},
   "outputs": [
    {
     "data": {
      "text/plain": [
       "<keras.preprocessing.image.ImageDataGenerator at 0x7efb48043820>"
      ]
     },
     "execution_count": 37,
     "metadata": {},
     "output_type": "execute_result"
    }
   ],
   "source": [
    "valid_gen = ImageDataGenerator(rescale=1./255) # , preprocessing_function=None\n",
    "valid_gen"
   ]
  },
  {
   "cell_type": "code",
   "execution_count": 38,
   "metadata": {},
   "outputs": [
    {
     "name": "stdout",
     "output_type": "stream",
     "text": [
      "Found 5000 images belonging to 2 classes.\n"
     ]
    }
   ],
   "source": [
    "valid_ds = valid_gen.flow_from_directory(\n",
    "    valid_dir, \n",
    "    target_size=(img_size, img_size), \n",
    "    batch_size=batch_size,\n",
    "    class_mode=\"binary\",\n",
    "    shuffle=False\n",
    ")"
   ]
  },
  {
   "cell_type": "code",
   "execution_count": 39,
   "metadata": {},
   "outputs": [
    {
     "data": {
      "text/plain": [
       "{'cats': 0, 'dogs': 1}"
      ]
     },
     "execution_count": 39,
     "metadata": {},
     "output_type": "execute_result"
    }
   ],
   "source": [
    "valid_ds.class_indices"
   ]
  },
  {
   "cell_type": "markdown",
   "metadata": {},
   "source": [
    "***\n",
    "## Question 5\n",
    "\n",
    "Let's train our model for 10 more epochs using the same code as previously. Make sure you don't re-create the model - we want to continue training the model we already started training.\n",
    "\n",
    "What is the mean of validation loss for the model trained with augmentations?\n",
    "***"
   ]
  },
  {
   "cell_type": "code",
   "execution_count": 41,
   "metadata": {},
   "outputs": [
    {
     "data": {
      "application/vnd.jupyter.widget-view+json": {
       "model_id": "1b9e4f1ba5094ce69f1f2e63771c19ce",
       "version_major": 2,
       "version_minor": 0
      },
      "text/plain": [
       "0epoch [00:00, ?epoch/s]"
      ]
     },
     "metadata": {},
     "output_type": "display_data"
    },
    {
     "data": {
      "application/vnd.jupyter.widget-view+json": {
       "model_id": "",
       "version_major": 2,
       "version_minor": 0
      },
      "text/plain": [
       "0batch [00:00, ?batch/s]"
      ]
     },
     "metadata": {},
     "output_type": "display_data"
    },
    {
     "name": "stdout",
     "output_type": "stream",
     "text": [
      "Epoch 1/10\n",
      "100/100 [==============================] - 26s 264ms/step - loss: 0.6937 - accuracy: 0.4900 - val_loss: 0.7201 - val_accuracy: 0.0000e+00\n",
      "Epoch 2/10\n",
      "100/100 [==============================] - 26s 263ms/step - loss: 0.6939 - accuracy: 0.5100 - val_loss: 0.7129 - val_accuracy: 0.0000e+00\n",
      "Epoch 3/10\n",
      "100/100 [==============================] - 27s 267ms/step - loss: 0.6941 - accuracy: 0.5100 - val_loss: 0.7204 - val_accuracy: 0.0000e+00\n",
      "Epoch 4/10\n",
      "100/100 [==============================] - 27s 265ms/step - loss: 0.6942 - accuracy: 0.5100 - val_loss: 0.7145 - val_accuracy: 0.0000e+00\n",
      "Epoch 5/10\n",
      "100/100 [==============================] - 27s 266ms/step - loss: 0.6940 - accuracy: 0.4960 - val_loss: 0.7187 - val_accuracy: 0.0000e+00\n",
      "Epoch 6/10\n",
      "100/100 [==============================] - 27s 270ms/step - loss: 0.6948 - accuracy: 0.4865 - val_loss: 0.7062 - val_accuracy: 0.0000e+00\n",
      "Epoch 7/10\n",
      "100/100 [==============================] - 27s 267ms/step - loss: 0.6944 - accuracy: 0.4870 - val_loss: 0.6984 - val_accuracy: 0.0000e+00\n",
      "Epoch 8/10\n",
      "100/100 [==============================] - 27s 274ms/step - loss: 0.6948 - accuracy: 0.5100 - val_loss: 0.7045 - val_accuracy: 0.0000e+00\n",
      "Epoch 9/10\n",
      "100/100 [==============================] - 27s 273ms/step - loss: 0.6914 - accuracy: 0.5700 - val_loss: 0.7292 - val_accuracy: 0.0000e+00\n",
      "Epoch 10/10\n",
      "100/100 [==============================] - 27s 271ms/step - loss: 0.6940 - accuracy: 0.5200 - val_loss: 0.7286 - val_accuracy: 0.0000e+00\n"
     ]
    }
   ],
   "source": [
    "history_augmented = model.fit(\n",
    "    train_ds_augmented,\n",
    "    epochs=10,\n",
    "    steps_per_epoch=100,\n",
    "    validation_data=valid_ds,\n",
    "    validation_steps=50,\n",
    "    callbacks=[TqdmCallback()],\n",
    "    verbose=1,\n",
    ")"
   ]
  },
  {
   "cell_type": "code",
   "execution_count": 43,
   "metadata": {},
   "outputs": [
    {
     "data": {
      "text/plain": [
       "<matplotlib.legend.Legend at 0x7efb23e188e0>"
      ]
     },
     "execution_count": 43,
     "metadata": {},
     "output_type": "execute_result"
    },
    {
     "data": {
      "image/png": "[encoded data removed]",
      "text/plain": [
       "<Figure size 432x288 with 1 Axes>"
      ]
     },
     "metadata": {
      "needs_background": "light"
     },
     "output_type": "display_data"
    }
   ],
   "source": [
    "plt.plot(history_augmented.history['loss'], label='train')\n",
    "plt.plot(history_augmented.history['val_loss'], label='val')\n",
    "plt.xticks(np.arange(10))\n",
    "plt.legend()"
   ]
  },
  {
   "cell_type": "code",
   "execution_count": 44,
   "metadata": {},
   "outputs": [
    {
     "data": {
      "text/plain": [
       "<matplotlib.legend.Legend at 0x7efb23d9ec10>"
      ]
     },
     "execution_count": 44,
     "metadata": {},
     "output_type": "execute_result"
    },
    {
     "data": {
      "image/png": "[encoded data removed]",
      "text/plain": [
       "<Figure size 432x288 with 1 Axes>"
      ]
     },
     "metadata": {
      "needs_background": "light"
     },
     "output_type": "display_data"
    }
   ],
   "source": [
    "plt.plot(history_augmented.history['accuracy'], label='train')\n",
    "plt.plot(history_augmented.history['val_accuracy'], label='val')\n",
    "plt.xticks(np.arange(10))\n",
    "plt.legend()"
   ]
  },
  {
   "cell_type": "code",
   "execution_count": 45,
   "metadata": {},
   "outputs": [
    {
     "data": {
      "text/plain": [
       "0.7153533279895783"
      ]
     },
     "execution_count": 45,
     "metadata": {},
     "output_type": "execute_result"
    }
   ],
   "source": [
    "pd.Series(history_augmented.history['val_loss']).mean()"
   ]
  },
  {
   "cell_type": "markdown",
   "metadata": {},
   "source": [
    "**Results history at the end of the notebook**\n",
    "\n",
    "`ANSWER`: 0.67 ?\n",
    "<div style='color:#FF0000'>a valider</div>"
   ]
  },
  {
   "cell_type": "markdown",
   "metadata": {},
   "source": [
    "***\n",
    "## Question 6\n",
    "\n",
    "What is the standard deviation of validation accuracy for the model trained with augmentations?\n",
    "***"
   ]
  },
  {
   "cell_type": "code",
   "execution_count": 46,
   "metadata": {},
   "outputs": [
    {
     "data": {
      "text/plain": [
       "0.0"
      ]
     },
     "execution_count": 46,
     "metadata": {},
     "output_type": "execute_result"
    }
   ],
   "source": [
    "pd.Series(history_augmented.history['val_accuracy']).std()"
   ]
  },
  {
   "cell_type": "markdown",
   "metadata": {},
   "source": [
    "## Question 6 (V2)\n",
    "\n",
    "What's the average of validation accuracy for the last 5 epochs (from 5 to 10) for the model trained with augmentations?"
   ]
  },
  {
   "cell_type": "code",
   "execution_count": 47,
   "metadata": {},
   "outputs": [
    {
     "data": {
      "text/plain": [
       "0.0"
      ]
     },
     "execution_count": 47,
     "metadata": {},
     "output_type": "execute_result"
    }
   ],
   "source": [
    "pd.Series(history_augmented.history['val_accuracy'][5:]).mean()"
   ]
  },
  {
   "cell_type": "markdown",
   "metadata": {},
   "source": [
    "**Results history at the end of the notebook**\n",
    "\n",
    "`ANSWER`: 0.45?<div style='color:#FF0000'>a valider</div>"
   ]
  },
  {
   "cell_type": "markdown",
   "metadata": {},
   "source": [
    "### Results' comparisons"
   ]
  },
  {
   "cell_type": "code",
   "execution_count": 53,
   "metadata": {},
   "outputs": [
    {
     "data": {
      "text/plain": [
       "(0.5122483537385338, 0.08775000274181372)"
      ]
     },
     "execution_count": 53,
     "metadata": {},
     "output_type": "execute_result"
    }
   ],
   "source": [
    "Q3 = np.array([\n",
    "    0.5099999904632568, #(from_logits=True & activation=None & batch_size=32)\n",
    "    0.5079687535762787, #(from_logits=False & activation='sigmoid' & batch_size=32)\n",
    "    0.5167187452316284, #(from_logits=False & activation='sigmoid' & batch_size=32)\n",
    "    0.5424999892711639, #(from_logits=False & activation='sigmoid' & batch_size=32)\n",
    "    0.4920312464237213, #(from_logits=False & activation='sigmoid' & batch_size=32)\n",
    "    0.4968749880790710, #(from_logits=False & activation='sigmoid' & batch_size=32)\n",
    "    0.528124988079071,  #(from_logits=False & activation='sigmoid' & batch_size=32)\n",
    "    0.5049999952316284, #(from_logits=False & activation='sigmoid' & batch_size=20)\n",
    "    0.4847500026226043, #(from_logits=False & activation='sigmoid' & batch_size=20)\n",
    "    0.5637499988079071, #(from_logits=False & activation='sigmoid' & batch_size=20)\n",
    "    0.4892500042915344, #(from_logits=False & activation='sigmoid' & batch_size=20)\n",
    "    0.5252500176429749, #(from_logits=False & activation='sigmoid' & batch_size=20)\n",
    "    0.5037499964237213, #(from_logits=False & activation='sigmoid' & batch_size=20)\n",
    "    0.5332500040531158, #(from_logits=False & activation='sigmoid' & batch_size=20)\n",
    "    0.5029999911785126, #(from_logits=False & activation='sigmoid' & batch_size=20)\n",
    "    0.5127499997615814, #(from_logits=False & activation='sigmoid' & batch_size=20)\n",
    "    0.5197499990463257, #(from_logits=False & activation='sigmoid' & batch_size=20)\n",
    "    0.5220000147819519, #(from_logits=False & activation='sigmoid' & batch_size=20)\n",
    "    0.4759999960660934, #(from_logits=False & activation='sigmoid' & batch_size=20)\n",
    "])\n",
    "Q3.mean(), Q3.max()-Q3.min()"
   ]
  },
  {
   "cell_type": "code",
   "execution_count": 49,
   "metadata": {},
   "outputs": [
    {
     "data": {
      "text/plain": [
       "(0.012466480760637505, 0.017581860642603968)"
      ]
     },
     "execution_count": 49,
     "metadata": {},
     "output_type": "execute_result"
    }
   ],
   "source": [
    "Q4 = np.array([\n",
    "    0.01770461249596647, #(from_logits=True & activation=None & batch_size=32)\n",
    "    0.02163280253055086, #(from_logits=False & activation='sigmoid' & batch_size=32)\n",
    "    0.00671274811618648, #(from_logits=False & activation='sigmoid' & batch_size=32) !\n",
    "    0.02022200281446467, #(from_logits=False & activation='sigmoid' & batch_size=32)\n",
    "    0.01097479938158576, #(from_logits=False & activation='sigmoid' & batch_size=32)\n",
    "    0.00405094188794689, #(from_logits=False & activation='sigmoid' & batch_size=32) !\n",
    "    0.02018709408811227, #(from_logits=False & activation='sigmoid' & batch_size=32)\n",
    "    0.00916966043551551, #(from_logits=False & activation='sigmoid' & batch_size=20)\n",
    "    0.01163930784486423, #(from_logits=False & activation='sigmoid' & batch_size=20)\n",
    "    0.01703455528339643, #(from_logits=False & activation='sigmoid' & batch_size=20)\n",
    "    0.01433750647812146, #(from_logits=False & activation='sigmoid' & batch_size=20)\n",
    "    0.01275301985720974, #(from_logits=False & activation='sigmoid' & batch_size=20)\n",
    "    0.00752412130853628, #(from_logits=False & activation='sigmoid' & batch_size=20)\n",
    "    0.01433501203918285, #(from_logits=False & activation='sigmoid' & batch_size=20)\n",
    "    0.01289621850837832, #(from_logits=False & activation='sigmoid' & batch_size=20)\n",
    "    0.01087434749256912, #(from_logits=False & activation='sigmoid' & batch_size=20)\n",
    "    0.00554904911415266, #(from_logits=False & activation='sigmoid' & batch_size=20)\n",
    "    0.00679885401473510, #(from_logits=False & activation='sigmoid' & batch_size=20)\n",
    "    0.01150445343307369, #(from_logits=False & activation='sigmoid' & batch_size=20)\n",
    "])\n",
    "Q4.mean(), Q4.max()-Q4.min()"
   ]
  },
  {
   "cell_type": "code",
   "execution_count": 54,
   "metadata": {},
   "outputs": [
    {
     "data": {
      "text/plain": [
       "(0.7060792974735559, 0.13415172398090425)"
      ]
     },
     "execution_count": 54,
     "metadata": {},
     "output_type": "execute_result"
    }
   ],
   "source": [
    "Q5 = np.array([\n",
    "    0.719238418340683,  #(from_logits=True & activation=None)\n",
    "    0.6899284362792969, #(from_logits=False & activation='sigmoid' & batch_size=32)\n",
    "    0.7183369338512421, #(from_logits=False & activation='sigmoid' & batch_size=32)\n",
    "    0.7208340525627136, #(from_logits=False & activation='sigmoid' & batch_size=32)\n",
    "    0.6942334115505219, #(from_logits=False & activation='sigmoid' & batch_size=32)\n",
    "    0.6979979813098908, #(from_logits=False & activation='sigmoid' & batch_size=32)\n",
    "    0.7356114387512207, #(from_logits=False & activation='sigmoid' & batch_size=32)\n",
    "    0.6841434001922607, #(from_logits=False & activation='sigmoid' & batch_size=20)\n",
    "    0.716226440668106,  #(from_logits=False & activation='sigmoid' & batch_size=20)\n",
    "    0.7970493465662003, #(from_logits=False & activation='sigmoid' & batch_size=20)\n",
    "    0.6962861537933349, #(from_logits=False & activation='sigmoid' & batch_size=20)\n",
    "    0.7336579084396362, #(from_logits=False & activation='sigmoid' & batch_size=20)\n",
    "    0.6925844430923462, #(from_logits=False & activation='sigmoid' & batch_size=20)\n",
    "    0.675023740530014,  #(from_logits=False & activation='sigmoid' & batch_size=20) \n",
    "    0.695951521396637,  #(from_logits=False & activation='sigmoid' & batch_size=20 & New Valid)\n",
    "    0.668485474586486,  #(from_logits=False & activation='sigmoid' & batch_size=20 & New Valid)\n",
    "    0.701666599512100,  #(from_logits=False & activation='sigmoid' & batch_size=20 & New Valid)\n",
    "    0.662897622585296,  #(from_logits=False & activation='sigmoid' & batch_size=20 & New Valid)\n",
    "    0.715353327989578,  #(from_logits=False & activation='sigmoid' & batch_size=20 & New Valid)\n",
    "])\n",
    "Q5.mean(), Q5.max()-Q5.min()"
   ]
  },
  {
   "cell_type": "code",
   "execution_count": 55,
   "metadata": {},
   "outputs": [
    {
     "data": {
      "text/plain": [
       "(0.3357652973617783, 0.5047106561702475)"
      ]
     },
     "execution_count": 55,
     "metadata": {},
     "output_type": "execute_result"
    }
   ],
   "source": [
    "Q6 = np.array([\n",
    "    0.0180913280411857, #(from_logits=True & activation=None & batch_size=32)       !\n",
    "    0.3564355199573978, #(from_logits=False & activation='sigmoid' & batch_size=32)\n",
    "    0.3062359688388245, #(from_logits=False & activation='sigmoid' & batch_size=32)\n",
    "    0.3475699082481783, #(from_logits=False & activation='sigmoid' & batch_size=32)\n",
    "    0.3880283136295986, #(from_logits=False & activation='sigmoid' & batch_size=32)\n",
    "    0.4312848003363450, #(from_logits=False & activation='sigmoid' & batch_size=32)\n",
    "    0.3580108473331330, #(from_logits=False & activation='sigmoid' & batch_size=32)\n",
    "    0.5047106561702475, #(from_logits=False & activation='sigmoid' & batch_size=20) !\n",
    "    0.2000251436315092, #(from_logits=False & activation='sigmoid' & batch_size=20) !\n",
    "    0.4741418520955114, #(from_logits=False & activation='sigmoid' & batch_size=20) !\n",
    "    0.3746727265799448, #(from_logits=False & activation='sigmoid' & batch_size=20)\n",
    "    0.3993567015502656, #(from_logits=False & activation='sigmoid' & batch_size=20)\n",
    "    0.3858428112319295, #(from_logits=False & activation='sigmoid' & batch_size=20)\n",
    "    0.3606789338880127, #(from_logits=False & activation='sigmoid' & batch_size=20)\n",
    "    0.2112468030815043, #(from_logits=False & activation='sigmoid' & batch_size=20 & New Valid)\n",
    "    0.3780625451000933, #(from_logits=False & activation='sigmoid' & batch_size=20 & New Valid)\n",
    "    0.4817031009921554, #(from_logits=False & activation='sigmoid' & batch_size=20 & New Valid)\n",
    "    0.4034426891679504, #(from_logits=False & activation='sigmoid' & batch_size=20 & New Valid)\n",
    "    0.0000000000000000, #(from_logits=False & activation='sigmoid' & batch_size=20 & New Valid)\n",
    "])\n",
    "Q6.mean(), Q6.max()-Q6.min()"
   ]
  },
  {
   "cell_type": "code",
   "execution_count": 56,
   "metadata": {},
   "outputs": [
    {
     "data": {
      "text/plain": [
       "(0.5365400000289082, 0.9872000098228455)"
      ]
     },
     "execution_count": 56,
     "metadata": {},
     "output_type": "execute_result"
    }
   ],
   "source": [
    "Q6V2 = np.array([\n",
    "    0.5859999917447567, #(from_logits=False & activation='sigmoid' & batch_size=20)\n",
    "    0.5852000057697296, #(from_logits=False & activation='sigmoid' & batch_size=20)\n",
    "    0.3723999988287687, #(from_logits=False & activation='sigmoid' & batch_size=20)\n",
    "    0.4557999968528747, #(from_logits=False & activation='sigmoid' & batch_size=20)\n",
    "    0.5610000073909760, #(from_logits=False & activation='sigmoid' & batch_size=20)\n",
    "    0.3199999943375587, #(from_logits=False & activation='sigmoid' & batch_size=20 & New Valid)\n",
    "    0.7619999945163727, #(from_logits=False & activation='sigmoid' & batch_size=20 & New Valid)\n",
    "    0.7358000010251999, #(from_logits=False & activation='sigmoid' & batch_size=20 & New Valid)\n",
    "    0.9872000098228455, #(from_logits=False & activation='sigmoid' & batch_size=20 & New Valid)\n",
    "    0.0000000000000000, #(from_logits=False & activation='sigmoid' & batch_size=20 & New Valid)\n",
    "])\n",
    "Q6V2.mean(), Q6V2.max()-Q6V2.min()"
   ]
  },
  {
   "cell_type": "code",
   "execution_count": null,
   "metadata": {},
   "outputs": [],
   "source": []
  }
 ],
 "metadata": {
  "kernelspec": {
   "display_name": "Python 3",
   "language": "python",
   "name": "python3"
  },
  "language_info": {
   "codemirror_mode": {
    "name": "ipython",
    "version": 3
   },
   "file_extension": ".py",
   "mimetype": "text/x-python",
   "name": "python",
   "nbconvert_exporter": "python",
   "pygments_lexer": "ipython3",
   "version": "3.8.10"
  }
 },
 "nbformat": 4,
 "nbformat_minor": 4
}
