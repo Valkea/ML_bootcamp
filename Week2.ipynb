{
 "cells": [
  {
   "cell_type": "code",
   "execution_count": 1,
   "metadata": {},
   "outputs": [],
   "source": [
    "import pandas as pd\n",
    "import numpy as np\n",
    "\n",
    "import matplotlib as plt\n",
    "import seaborn as sns"
   ]
  },
  {
   "cell_type": "markdown",
   "metadata": {},
   "source": [
    "In this homework, we will use the New York City Airbnb Open Data. "
   ]
  },
  {
   "cell_type": "markdown",
   "metadata": {},
   "source": [
    "The **goal of this homework** is to create a regression model for prediction apartment prices (column 'price')."
   ]
  },
  {
   "cell_type": "markdown",
   "metadata": {},
   "source": [
    "## <font color='blue'>Load the data</font>"
   ]
  },
  {
   "cell_type": "code",
   "execution_count": 2,
   "metadata": {},
   "outputs": [],
   "source": [
    "data = pd.read_csv('data/data-week2.csv', sep=',', decimal='.')"
   ]
  },
  {
   "cell_type": "markdown",
   "metadata": {},
   "source": [
    "## <font color='blue'>Explore the data</font>"
   ]
  },
  {
   "cell_type": "code",
   "execution_count": 3,
   "metadata": {},
   "outputs": [
    {
     "data": {
      "text/plain": [
       "id                                  int64\n",
       "name                               object\n",
       "host_id                             int64\n",
       "host_name                          object\n",
       "neighbourhood_group                object\n",
       "neighbourhood                      object\n",
       "latitude                          float64\n",
       "longitude                         float64\n",
       "room_type                          object\n",
       "price                               int64\n",
       "minimum_nights                      int64\n",
       "number_of_reviews                   int64\n",
       "last_review                        object\n",
       "reviews_per_month                 float64\n",
       "calculated_host_listings_count      int64\n",
       "availability_365                    int64\n",
       "dtype: object"
      ]
     },
     "execution_count": 3,
     "metadata": {},
     "output_type": "execute_result"
    }
   ],
   "source": [
    "data.dtypes"
   ]
  },
  {
   "cell_type": "code",
   "execution_count": 4,
   "metadata": {},
   "outputs": [
    {
     "data": {
      "text/html": [
       "<div>\n",
       "<style scoped>\n",
       "    .dataframe tbody tr th:only-of-type {\n",
       "        vertical-align: middle;\n",
       "    }\n",
       "\n",
       "    .dataframe tbody tr th {\n",
       "        vertical-align: top;\n",
       "    }\n",
       "\n",
       "    .dataframe thead th {\n",
       "        text-align: right;\n",
       "    }\n",
       "</style>\n",
       "<table border=\"1\" class=\"dataframe\">\n",
       "  <thead>\n",
       "    <tr style=\"text-align: right;\">\n",
       "      <th></th>\n",
       "      <th>id</th>\n",
       "      <th>name</th>\n",
       "      <th>host_id</th>\n",
       "      <th>host_name</th>\n",
       "      <th>neighbourhood_group</th>\n",
       "      <th>neighbourhood</th>\n",
       "      <th>latitude</th>\n",
       "      <th>longitude</th>\n",
       "      <th>room_type</th>\n",
       "      <th>price</th>\n",
       "      <th>minimum_nights</th>\n",
       "      <th>number_of_reviews</th>\n",
       "      <th>last_review</th>\n",
       "      <th>reviews_per_month</th>\n",
       "      <th>calculated_host_listings_count</th>\n",
       "      <th>availability_365</th>\n",
       "    </tr>\n",
       "  </thead>\n",
       "  <tbody>\n",
       "    <tr>\n",
       "      <th>count</th>\n",
       "      <td>4.889500e+04</td>\n",
       "      <td>48879</td>\n",
       "      <td>4.889500e+04</td>\n",
       "      <td>48874</td>\n",
       "      <td>48895</td>\n",
       "      <td>48895</td>\n",
       "      <td>48895.000000</td>\n",
       "      <td>48895.000000</td>\n",
       "      <td>48895</td>\n",
       "      <td>48895.000000</td>\n",
       "      <td>48895.000000</td>\n",
       "      <td>48895.000000</td>\n",
       "      <td>38843</td>\n",
       "      <td>38843.000000</td>\n",
       "      <td>48895.000000</td>\n",
       "      <td>48895.000000</td>\n",
       "    </tr>\n",
       "    <tr>\n",
       "      <th>unique</th>\n",
       "      <td>NaN</td>\n",
       "      <td>47905</td>\n",
       "      <td>NaN</td>\n",
       "      <td>11452</td>\n",
       "      <td>5</td>\n",
       "      <td>221</td>\n",
       "      <td>NaN</td>\n",
       "      <td>NaN</td>\n",
       "      <td>3</td>\n",
       "      <td>NaN</td>\n",
       "      <td>NaN</td>\n",
       "      <td>NaN</td>\n",
       "      <td>1764</td>\n",
       "      <td>NaN</td>\n",
       "      <td>NaN</td>\n",
       "      <td>NaN</td>\n",
       "    </tr>\n",
       "    <tr>\n",
       "      <th>top</th>\n",
       "      <td>NaN</td>\n",
       "      <td>Hillside Hotel</td>\n",
       "      <td>NaN</td>\n",
       "      <td>Michael</td>\n",
       "      <td>Manhattan</td>\n",
       "      <td>Williamsburg</td>\n",
       "      <td>NaN</td>\n",
       "      <td>NaN</td>\n",
       "      <td>Entire home/apt</td>\n",
       "      <td>NaN</td>\n",
       "      <td>NaN</td>\n",
       "      <td>NaN</td>\n",
       "      <td>2019-06-23</td>\n",
       "      <td>NaN</td>\n",
       "      <td>NaN</td>\n",
       "      <td>NaN</td>\n",
       "    </tr>\n",
       "    <tr>\n",
       "      <th>freq</th>\n",
       "      <td>NaN</td>\n",
       "      <td>18</td>\n",
       "      <td>NaN</td>\n",
       "      <td>417</td>\n",
       "      <td>21661</td>\n",
       "      <td>3920</td>\n",
       "      <td>NaN</td>\n",
       "      <td>NaN</td>\n",
       "      <td>25409</td>\n",
       "      <td>NaN</td>\n",
       "      <td>NaN</td>\n",
       "      <td>NaN</td>\n",
       "      <td>1413</td>\n",
       "      <td>NaN</td>\n",
       "      <td>NaN</td>\n",
       "      <td>NaN</td>\n",
       "    </tr>\n",
       "    <tr>\n",
       "      <th>mean</th>\n",
       "      <td>1.901714e+07</td>\n",
       "      <td>NaN</td>\n",
       "      <td>6.762001e+07</td>\n",
       "      <td>NaN</td>\n",
       "      <td>NaN</td>\n",
       "      <td>NaN</td>\n",
       "      <td>40.728949</td>\n",
       "      <td>-73.952170</td>\n",
       "      <td>NaN</td>\n",
       "      <td>152.720687</td>\n",
       "      <td>7.029962</td>\n",
       "      <td>23.274466</td>\n",
       "      <td>NaN</td>\n",
       "      <td>1.373221</td>\n",
       "      <td>7.143982</td>\n",
       "      <td>112.781327</td>\n",
       "    </tr>\n",
       "    <tr>\n",
       "      <th>std</th>\n",
       "      <td>1.098311e+07</td>\n",
       "      <td>NaN</td>\n",
       "      <td>7.861097e+07</td>\n",
       "      <td>NaN</td>\n",
       "      <td>NaN</td>\n",
       "      <td>NaN</td>\n",
       "      <td>0.054530</td>\n",
       "      <td>0.046157</td>\n",
       "      <td>NaN</td>\n",
       "      <td>240.154170</td>\n",
       "      <td>20.510550</td>\n",
       "      <td>44.550582</td>\n",
       "      <td>NaN</td>\n",
       "      <td>1.680442</td>\n",
       "      <td>32.952519</td>\n",
       "      <td>131.622289</td>\n",
       "    </tr>\n",
       "    <tr>\n",
       "      <th>min</th>\n",
       "      <td>2.539000e+03</td>\n",
       "      <td>NaN</td>\n",
       "      <td>2.438000e+03</td>\n",
       "      <td>NaN</td>\n",
       "      <td>NaN</td>\n",
       "      <td>NaN</td>\n",
       "      <td>40.499790</td>\n",
       "      <td>-74.244420</td>\n",
       "      <td>NaN</td>\n",
       "      <td>0.000000</td>\n",
       "      <td>1.000000</td>\n",
       "      <td>0.000000</td>\n",
       "      <td>NaN</td>\n",
       "      <td>0.010000</td>\n",
       "      <td>1.000000</td>\n",
       "      <td>0.000000</td>\n",
       "    </tr>\n",
       "    <tr>\n",
       "      <th>25%</th>\n",
       "      <td>9.471945e+06</td>\n",
       "      <td>NaN</td>\n",
       "      <td>7.822033e+06</td>\n",
       "      <td>NaN</td>\n",
       "      <td>NaN</td>\n",
       "      <td>NaN</td>\n",
       "      <td>40.690100</td>\n",
       "      <td>-73.983070</td>\n",
       "      <td>NaN</td>\n",
       "      <td>69.000000</td>\n",
       "      <td>1.000000</td>\n",
       "      <td>1.000000</td>\n",
       "      <td>NaN</td>\n",
       "      <td>0.190000</td>\n",
       "      <td>1.000000</td>\n",
       "      <td>0.000000</td>\n",
       "    </tr>\n",
       "    <tr>\n",
       "      <th>50%</th>\n",
       "      <td>1.967728e+07</td>\n",
       "      <td>NaN</td>\n",
       "      <td>3.079382e+07</td>\n",
       "      <td>NaN</td>\n",
       "      <td>NaN</td>\n",
       "      <td>NaN</td>\n",
       "      <td>40.723070</td>\n",
       "      <td>-73.955680</td>\n",
       "      <td>NaN</td>\n",
       "      <td>106.000000</td>\n",
       "      <td>3.000000</td>\n",
       "      <td>5.000000</td>\n",
       "      <td>NaN</td>\n",
       "      <td>0.720000</td>\n",
       "      <td>1.000000</td>\n",
       "      <td>45.000000</td>\n",
       "    </tr>\n",
       "    <tr>\n",
       "      <th>75%</th>\n",
       "      <td>2.915218e+07</td>\n",
       "      <td>NaN</td>\n",
       "      <td>1.074344e+08</td>\n",
       "      <td>NaN</td>\n",
       "      <td>NaN</td>\n",
       "      <td>NaN</td>\n",
       "      <td>40.763115</td>\n",
       "      <td>-73.936275</td>\n",
       "      <td>NaN</td>\n",
       "      <td>175.000000</td>\n",
       "      <td>5.000000</td>\n",
       "      <td>24.000000</td>\n",
       "      <td>NaN</td>\n",
       "      <td>2.020000</td>\n",
       "      <td>2.000000</td>\n",
       "      <td>227.000000</td>\n",
       "    </tr>\n",
       "    <tr>\n",
       "      <th>max</th>\n",
       "      <td>3.648724e+07</td>\n",
       "      <td>NaN</td>\n",
       "      <td>2.743213e+08</td>\n",
       "      <td>NaN</td>\n",
       "      <td>NaN</td>\n",
       "      <td>NaN</td>\n",
       "      <td>40.913060</td>\n",
       "      <td>-73.712990</td>\n",
       "      <td>NaN</td>\n",
       "      <td>10000.000000</td>\n",
       "      <td>1250.000000</td>\n",
       "      <td>629.000000</td>\n",
       "      <td>NaN</td>\n",
       "      <td>58.500000</td>\n",
       "      <td>327.000000</td>\n",
       "      <td>365.000000</td>\n",
       "    </tr>\n",
       "  </tbody>\n",
       "</table>\n",
       "</div>"
      ],
      "text/plain": [
       "                  id            name       host_id host_name  \\\n",
       "count   4.889500e+04           48879  4.889500e+04     48874   \n",
       "unique           NaN           47905           NaN     11452   \n",
       "top              NaN  Hillside Hotel           NaN   Michael   \n",
       "freq             NaN              18           NaN       417   \n",
       "mean    1.901714e+07             NaN  6.762001e+07       NaN   \n",
       "std     1.098311e+07             NaN  7.861097e+07       NaN   \n",
       "min     2.539000e+03             NaN  2.438000e+03       NaN   \n",
       "25%     9.471945e+06             NaN  7.822033e+06       NaN   \n",
       "50%     1.967728e+07             NaN  3.079382e+07       NaN   \n",
       "75%     2.915218e+07             NaN  1.074344e+08       NaN   \n",
       "max     3.648724e+07             NaN  2.743213e+08       NaN   \n",
       "\n",
       "       neighbourhood_group neighbourhood      latitude     longitude  \\\n",
       "count                48895         48895  48895.000000  48895.000000   \n",
       "unique                   5           221           NaN           NaN   \n",
       "top              Manhattan  Williamsburg           NaN           NaN   \n",
       "freq                 21661          3920           NaN           NaN   \n",
       "mean                   NaN           NaN     40.728949    -73.952170   \n",
       "std                    NaN           NaN      0.054530      0.046157   \n",
       "min                    NaN           NaN     40.499790    -74.244420   \n",
       "25%                    NaN           NaN     40.690100    -73.983070   \n",
       "50%                    NaN           NaN     40.723070    -73.955680   \n",
       "75%                    NaN           NaN     40.763115    -73.936275   \n",
       "max                    NaN           NaN     40.913060    -73.712990   \n",
       "\n",
       "              room_type         price  minimum_nights  number_of_reviews  \\\n",
       "count             48895  48895.000000    48895.000000       48895.000000   \n",
       "unique                3           NaN             NaN                NaN   \n",
       "top     Entire home/apt           NaN             NaN                NaN   \n",
       "freq              25409           NaN             NaN                NaN   \n",
       "mean                NaN    152.720687        7.029962          23.274466   \n",
       "std                 NaN    240.154170       20.510550          44.550582   \n",
       "min                 NaN      0.000000        1.000000           0.000000   \n",
       "25%                 NaN     69.000000        1.000000           1.000000   \n",
       "50%                 NaN    106.000000        3.000000           5.000000   \n",
       "75%                 NaN    175.000000        5.000000          24.000000   \n",
       "max                 NaN  10000.000000     1250.000000         629.000000   \n",
       "\n",
       "       last_review  reviews_per_month  calculated_host_listings_count  \\\n",
       "count        38843       38843.000000                    48895.000000   \n",
       "unique        1764                NaN                             NaN   \n",
       "top     2019-06-23                NaN                             NaN   \n",
       "freq          1413                NaN                             NaN   \n",
       "mean           NaN           1.373221                        7.143982   \n",
       "std            NaN           1.680442                       32.952519   \n",
       "min            NaN           0.010000                        1.000000   \n",
       "25%            NaN           0.190000                        1.000000   \n",
       "50%            NaN           0.720000                        1.000000   \n",
       "75%            NaN           2.020000                        2.000000   \n",
       "max            NaN          58.500000                      327.000000   \n",
       "\n",
       "        availability_365  \n",
       "count       48895.000000  \n",
       "unique               NaN  \n",
       "top                  NaN  \n",
       "freq                 NaN  \n",
       "mean          112.781327  \n",
       "std           131.622289  \n",
       "min             0.000000  \n",
       "25%             0.000000  \n",
       "50%            45.000000  \n",
       "75%           227.000000  \n",
       "max           365.000000  "
      ]
     },
     "execution_count": 4,
     "metadata": {},
     "output_type": "execute_result"
    }
   ],
   "source": [
    "data.describe(include='all')"
   ]
  },
  {
   "cell_type": "code",
   "execution_count": 5,
   "metadata": {},
   "outputs": [
    {
     "data": {
      "text/plain": [
       "id                                    0\n",
       "name                                 16\n",
       "host_id                               0\n",
       "host_name                            21\n",
       "neighbourhood_group                   0\n",
       "neighbourhood                         0\n",
       "latitude                              0\n",
       "longitude                             0\n",
       "room_type                             0\n",
       "price                                 0\n",
       "minimum_nights                        0\n",
       "number_of_reviews                     0\n",
       "last_review                       10052\n",
       "reviews_per_month                 10052\n",
       "calculated_host_listings_count        0\n",
       "availability_365                      0\n",
       "dtype: int64"
      ]
     },
     "execution_count": 5,
     "metadata": {},
     "output_type": "execute_result"
    }
   ],
   "source": [
    "data.isnull().sum()"
   ]
  },
  {
   "cell_type": "markdown",
   "metadata": {},
   "source": [
    "## <font color='blue'>Plot the `price` variable</font>"
   ]
  },
  {
   "cell_type": "code",
   "execution_count": 6,
   "metadata": {},
   "outputs": [],
   "source": [
    "y = data['price']"
   ]
  },
  {
   "cell_type": "code",
   "execution_count": 7,
   "metadata": {},
   "outputs": [
    {
     "data": {
      "text/plain": [
       "<AxesSubplot:xlabel='price', ylabel='Count'>"
      ]
     },
     "execution_count": 7,
     "metadata": {},
     "output_type": "execute_result"
    },
    {
     "data": {
      "image/png": "[encoded data removed]",
      "text/plain": [
       "<Figure size 432x288 with 1 Axes>"
      ]
     },
     "metadata": {
      "needs_background": "light"
     },
     "output_type": "display_data"
    }
   ],
   "source": [
    "sns.histplot(y, bins=50)"
   ]
  },
  {
   "cell_type": "markdown",
   "metadata": {},
   "source": [
    "### Does it have a long tail?"
   ]
  },
  {
   "cell_type": "markdown",
   "metadata": {},
   "source": [
    "<font color='red'>YES</font>\n",
    "\n",
    "So we will use log1n on the values."
   ]
  },
  {
   "cell_type": "markdown",
   "metadata": {},
   "source": [
    "## <font color='blue'>Remove longtail on the `price` values</font>"
   ]
  },
  {
   "cell_type": "code",
   "execution_count": 8,
   "metadata": {},
   "outputs": [
    {
     "data": {
      "text/plain": [
       "count    48895.000000\n",
       "mean       152.720687\n",
       "std        240.154170\n",
       "min          0.000000\n",
       "25%         69.000000\n",
       "50%        106.000000\n",
       "75%        175.000000\n",
       "max      10000.000000\n",
       "Name: price, dtype: float64"
      ]
     },
     "execution_count": 8,
     "metadata": {},
     "output_type": "execute_result"
    }
   ],
   "source": [
    "y.describe()"
   ]
  },
  {
   "cell_type": "code",
   "execution_count": 9,
   "metadata": {},
   "outputs": [],
   "source": [
    "y_log = np.log1p(y)"
   ]
  },
  {
   "cell_type": "code",
   "execution_count": 10,
   "metadata": {},
   "outputs": [
    {
     "data": {
      "text/plain": [
       "count    48895.000000\n",
       "mean         4.736885\n",
       "std          0.695344\n",
       "min          0.000000\n",
       "25%          4.248495\n",
       "50%          4.672829\n",
       "75%          5.170484\n",
       "max          9.210440\n",
       "Name: price, dtype: float64"
      ]
     },
     "execution_count": 10,
     "metadata": {},
     "output_type": "execute_result"
    }
   ],
   "source": [
    "y_log.describe()"
   ]
  },
  {
   "cell_type": "code",
   "execution_count": 11,
   "metadata": {},
   "outputs": [
    {
     "data": {
      "text/plain": [
       "<AxesSubplot:xlabel='price', ylabel='Count'>"
      ]
     },
     "execution_count": 11,
     "metadata": {},
     "output_type": "execute_result"
    },
    {
     "data": {
      "image/png": "[encoded data removed]",
      "text/plain": [
       "<Figure size 432x288 with 1 Axes>"
      ]
     },
     "metadata": {
      "needs_background": "light"
     },
     "output_type": "display_data"
    }
   ],
   "source": [
    "sns.histplot(y_log, bins=50)"
   ]
  },
  {
   "cell_type": "markdown",
   "metadata": {},
   "source": [
    "## <font color='blue'>Prepare the data</font>"
   ]
  },
  {
   "cell_type": "code",
   "execution_count": 12,
   "metadata": {},
   "outputs": [],
   "source": [
    "selected_cols = [\n",
    "    'latitude',\n",
    "    'longitude',\n",
    "    'price',\n",
    "    'minimum_nights',\n",
    "    'number_of_reviews',\n",
    "    'reviews_per_month',\n",
    "    'calculated_host_listings_count',\n",
    "    'availability_365',\n",
    "]"
   ]
  },
  {
   "cell_type": "code",
   "execution_count": 13,
   "metadata": {},
   "outputs": [],
   "source": [
    "df = data[selected_cols]"
   ]
  },
  {
   "cell_type": "markdown",
   "metadata": {},
   "source": [
    "### <font color='green'>Question 1</font>\n",
    "\n",
    "Find a feature with missing values. How many missing values does it have?"
   ]
  },
  {
   "cell_type": "code",
   "execution_count": 14,
   "metadata": {},
   "outputs": [
    {
     "data": {
      "text/plain": [
       "latitude                              0\n",
       "longitude                             0\n",
       "price                                 0\n",
       "minimum_nights                        0\n",
       "number_of_reviews                     0\n",
       "reviews_per_month                 10052\n",
       "calculated_host_listings_count        0\n",
       "availability_365                      0\n",
       "dtype: int64"
      ]
     },
     "execution_count": 14,
     "metadata": {},
     "output_type": "execute_result"
    }
   ],
   "source": [
    "df.isnull().sum()"
   ]
  },
  {
   "cell_type": "markdown",
   "metadata": {},
   "source": [
    "<font color='red'>ANSWER: </font> `reviews_per_month` is missing 10052 values"
   ]
  },
  {
   "cell_type": "markdown",
   "metadata": {},
   "source": [
    "### <font color='green'>Question 2</font>\n",
    "\n",
    "What's the median (50% percentile) for variable 'minimum_nights'?"
   ]
  },
  {
   "cell_type": "code",
   "execution_count": 15,
   "metadata": {},
   "outputs": [
    {
     "data": {
      "text/plain": [
       "3.0"
      ]
     },
     "execution_count": 15,
     "metadata": {},
     "output_type": "execute_result"
    }
   ],
   "source": [
    "df['minimum_nights'].median()"
   ]
  },
  {
   "cell_type": "code",
   "execution_count": 16,
   "metadata": {},
   "outputs": [
    {
     "data": {
      "text/plain": [
       "count    48895.000000\n",
       "mean         7.029962\n",
       "std         20.510550\n",
       "min          1.000000\n",
       "25%          1.000000\n",
       "50%          3.000000\n",
       "75%          5.000000\n",
       "max       1250.000000\n",
       "Name: minimum_nights, dtype: float64"
      ]
     },
     "execution_count": 16,
     "metadata": {},
     "output_type": "execute_result"
    }
   ],
   "source": [
    "df['minimum_nights'].describe()"
   ]
  },
  {
   "cell_type": "markdown",
   "metadata": {},
   "source": [
    "<font color='red'>ANSWER: </font> the median for `minimum_nights` is 3.0"
   ]
  },
  {
   "cell_type": "markdown",
   "metadata": {},
   "source": [
    "## <font color='blue'>Split the Data</font>\n",
    "\n",
    "\n",
    "- Shuffle the initial dataset, use seed 42.\n",
    "- Split your data in train/val/test sets, with 60%/20%/20% distribution.\n",
    "- Make sure that the target value ('price') is not in your dataframe.\n",
    "- Apply the log transformation to the price variable using the np.log1p() function."
   ]
  },
  {
   "cell_type": "code",
   "execution_count": 17,
   "metadata": {},
   "outputs": [],
   "source": [
    "def split_train_valid_test(df, train_percent, valid_percent, test_percent, seed_value=42):\n",
    "    assert (train_percent + valid_percent + test_percent) == 100\n",
    "    \n",
    "    # Define sets size\n",
    "    n_total = df.shape[0]\n",
    "    \n",
    "    n_testing = int(n_total/100*test_percent)\n",
    "    n_validation = int(n_total/100*valid_percent)\n",
    "    n_training = n_total - n_validation - n_testing\n",
    "    \n",
    "    train_index = 0\n",
    "    valid_index = n_training\n",
    "    tests_index = valid_index + n_validation\n",
    "\n",
    "    print(f\"n_training: {n_training} / n_validation: {n_validation} / n_testing: {n_testing}\")\n",
    "    print(f\"n_total:{n_total} vs sum:{n_validation + n_testing + n_training}\\n\")\n",
    "    \n",
    "    # Initialize randomness\n",
    "    idx = np.arange(n_total)\n",
    "    np.random.seed(seed_value)\n",
    "    np.random.shuffle(idx)\n",
    "    \n",
    "    print(idx[:3])\n",
    "    \n",
    "    # Split X    \n",
    "    df_train = df.iloc[idx[train_index:valid_index]]\n",
    "    df_valid = df.iloc[idx[valid_index:tests_index]]\n",
    "    df_tests = df.iloc[idx[tests_index:]]\n",
    "    \n",
    "    print(df_train.head(3))\n",
    "    \n",
    "    splits_X = [df_train, df_valid, df_tests]\n",
    "    splits_y = []\n",
    "    \n",
    "    for split in splits_X:\n",
    "        # Reset X indexes\n",
    "        split.reset_index(drop=True)\n",
    "    \n",
    "        # Create y sets\n",
    "        y_split = split['price']\n",
    "    \n",
    "        # Log the prices\n",
    "        y_split = np.log1p(y_split)\n",
    "        \n",
    "        # Add to splits_y \n",
    "        splits_y.append(y_split)\n",
    "        \n",
    "        # Remove 'price' from X\n",
    "        del split['price']\n",
    "            \n",
    "    return *splits_X, *splits_y\n"
   ]
  },
  {
   "cell_type": "code",
   "execution_count": 18,
   "metadata": {},
   "outputs": [
    {
     "name": "stdout",
     "output_type": "stream",
     "text": [
      "n_training: 29337 / n_validation: 9779 / n_testing: 9779\n",
      "n_total:48895 vs sum:48895\n",
      "\n",
      "[  879 44383 15394]\n",
      "       latitude  longitude  price  minimum_nights  number_of_reviews  \\\n",
      "879    40.64354  -73.97777     89               3                 62   \n",
      "44383  40.70666  -73.90779     30              21                  0   \n",
      "15394  40.76116  -73.99016    120               2                 17   \n",
      "\n",
      "       reviews_per_month  calculated_host_listings_count  availability_365  \n",
      "879                 0.71                               1               189  \n",
      "44383                NaN                               1                73  \n",
      "15394               0.43                               1                 0  \n"
     ]
    }
   ],
   "source": [
    "df_training, df_validation, df_testing, \\\n",
    "y_training, y_validation, y_testing = split_train_valid_test(df, 60, 20, 20)"
   ]
  },
  {
   "cell_type": "code",
   "execution_count": 19,
   "metadata": {},
   "outputs": [
    {
     "data": {
      "text/plain": [
       "((29337, 7), (9779, 7), (9779, 7), (9779,), (9779,), (9779,))"
      ]
     },
     "execution_count": 19,
     "metadata": {},
     "output_type": "execute_result"
    }
   ],
   "source": [
    "df_training.shape, df_validation.shape, df_testing.shape, y_testing.shape, y_validation.shape, y_testing.shape"
   ]
  },
  {
   "cell_type": "code",
   "execution_count": 20,
   "metadata": {},
   "outputs": [
    {
     "data": {
      "text/html": [
       "<div>\n",
       "<style scoped>\n",
       "    .dataframe tbody tr th:only-of-type {\n",
       "        vertical-align: middle;\n",
       "    }\n",
       "\n",
       "    .dataframe tbody tr th {\n",
       "        vertical-align: top;\n",
       "    }\n",
       "\n",
       "    .dataframe thead th {\n",
       "        text-align: right;\n",
       "    }\n",
       "</style>\n",
       "<table border=\"1\" class=\"dataframe\">\n",
       "  <thead>\n",
       "    <tr style=\"text-align: right;\">\n",
       "      <th></th>\n",
       "      <th>latitude</th>\n",
       "      <th>longitude</th>\n",
       "      <th>minimum_nights</th>\n",
       "      <th>number_of_reviews</th>\n",
       "      <th>reviews_per_month</th>\n",
       "      <th>calculated_host_listings_count</th>\n",
       "      <th>availability_365</th>\n",
       "    </tr>\n",
       "  </thead>\n",
       "  <tbody>\n",
       "    <tr>\n",
       "      <th>879</th>\n",
       "      <td>40.64354</td>\n",
       "      <td>-73.97777</td>\n",
       "      <td>3</td>\n",
       "      <td>62</td>\n",
       "      <td>0.71</td>\n",
       "      <td>1</td>\n",
       "      <td>189</td>\n",
       "    </tr>\n",
       "    <tr>\n",
       "      <th>44383</th>\n",
       "      <td>40.70666</td>\n",
       "      <td>-73.90779</td>\n",
       "      <td>21</td>\n",
       "      <td>0</td>\n",
       "      <td>NaN</td>\n",
       "      <td>1</td>\n",
       "      <td>73</td>\n",
       "    </tr>\n",
       "    <tr>\n",
       "      <th>15394</th>\n",
       "      <td>40.76116</td>\n",
       "      <td>-73.99016</td>\n",
       "      <td>2</td>\n",
       "      <td>17</td>\n",
       "      <td>0.43</td>\n",
       "      <td>1</td>\n",
       "      <td>0</td>\n",
       "    </tr>\n",
       "    <tr>\n",
       "      <th>43230</th>\n",
       "      <td>40.70763</td>\n",
       "      <td>-74.01050</td>\n",
       "      <td>2</td>\n",
       "      <td>5</td>\n",
       "      <td>1.88</td>\n",
       "      <td>327</td>\n",
       "      <td>272</td>\n",
       "    </tr>\n",
       "    <tr>\n",
       "      <th>16332</th>\n",
       "      <td>40.79658</td>\n",
       "      <td>-73.93287</td>\n",
       "      <td>2</td>\n",
       "      <td>30</td>\n",
       "      <td>0.80</td>\n",
       "      <td>1</td>\n",
       "      <td>30</td>\n",
       "    </tr>\n",
       "  </tbody>\n",
       "</table>\n",
       "</div>"
      ],
      "text/plain": [
       "       latitude  longitude  minimum_nights  number_of_reviews  \\\n",
       "879    40.64354  -73.97777               3                 62   \n",
       "44383  40.70666  -73.90779              21                  0   \n",
       "15394  40.76116  -73.99016               2                 17   \n",
       "43230  40.70763  -74.01050               2                  5   \n",
       "16332  40.79658  -73.93287               2                 30   \n",
       "\n",
       "       reviews_per_month  calculated_host_listings_count  availability_365  \n",
       "879                 0.71                               1               189  \n",
       "44383                NaN                               1                73  \n",
       "15394               0.43                               1                 0  \n",
       "43230               1.88                             327               272  \n",
       "16332               0.80                               1                30  "
      ]
     },
     "execution_count": 20,
     "metadata": {},
     "output_type": "execute_result"
    }
   ],
   "source": [
    "df_training.head()"
   ]
  },
  {
   "cell_type": "code",
   "execution_count": 21,
   "metadata": {},
   "outputs": [
    {
     "data": {
      "text/plain": [
       "879      4.499810\n",
       "44383    3.433987\n",
       "15394    4.795791\n",
       "43230    6.154858\n",
       "16332    5.298317\n",
       "           ...   \n",
       "14975    4.564348\n",
       "14661    4.624973\n",
       "24515    4.615121\n",
       "31460    4.234107\n",
       "29114    3.828641\n",
       "Name: price, Length: 29337, dtype: float64"
      ]
     },
     "execution_count": 21,
     "metadata": {},
     "output_type": "execute_result"
    }
   ],
   "source": [
    "y_training"
   ]
  },
  {
   "cell_type": "markdown",
   "metadata": {},
   "source": [
    "### <font color='green'>Question 3</font>\n",
    "\n",
    "- We need to deal with missing values for the column from Q1.\n",
    "- We have two options: fill it with 0 or with the mean of this variable.\n",
    "- Try both options. For each, train a linear regression model without regularization using the code from the lessons.\n",
    "- For computing the mean, use the training only!\n",
    "- Use the validation dataset to evaluate the models and compare the RMSE of each option.\n",
    "- Round the RMSE scores to 2 decimal digits using round(score, 2)\n",
    "\n",
    "Which option gives better RMSE?"
   ]
  },
  {
   "cell_type": "code",
   "execution_count": 22,
   "metadata": {},
   "outputs": [],
   "source": [
    "def train_linear_regression(X, y):\n",
    "    \n",
    "    ones = np.ones(X.shape[0])\n",
    "    X = np.column_stack([ones,X])\n",
    "    \n",
    "    gram_matrix = np.dot(X.T,X)\n",
    "    inv_matrix = np.linalg.inv(gram_matrix)\n",
    "    \n",
    "    #theta = np.dot(inv_matrix, np.dot(X.T, y))\n",
    "    theta = inv_matrix.dot(X.T).dot(y)\n",
    "    return theta[0], theta[1:]"
   ]
  },
  {
   "cell_type": "code",
   "execution_count": 23,
   "metadata": {},
   "outputs": [],
   "source": [
    "def RMSE(y_true, y_pred):\n",
    "    se = (y_true - y_pred)**2\n",
    "    mse = np.mean(se)\n",
    "    return np.sqrt(mse)"
   ]
  },
  {
   "cell_type": "markdown",
   "metadata": {},
   "source": [
    "#### Filling with `0`"
   ]
  },
  {
   "cell_type": "code",
   "execution_count": 24,
   "metadata": {},
   "outputs": [],
   "source": [
    "def prepare_X(df):\n",
    "    df = df.copy()\n",
    "    \n",
    "    df_num = df.fillna(0)\n",
    "    \n",
    "    return df_num.values"
   ]
  },
  {
   "cell_type": "code",
   "execution_count": 25,
   "metadata": {},
   "outputs": [],
   "source": [
    "X_training = prepare_X(df_training)\n",
    "X_validation = prepare_X(df_validation)"
   ]
  },
  {
   "cell_type": "code",
   "execution_count": 26,
   "metadata": {},
   "outputs": [],
   "source": [
    "theta0, thetas = train_linear_regression(X_training, y_training)"
   ]
  },
  {
   "cell_type": "code",
   "execution_count": 27,
   "metadata": {},
   "outputs": [],
   "source": [
    "y_pred = theta0 + np.dot(X_validation, thetas)"
   ]
  },
  {
   "cell_type": "code",
   "execution_count": 28,
   "metadata": {},
   "outputs": [
    {
     "data": {
      "text/plain": [
       "0.64"
      ]
     },
     "execution_count": 28,
     "metadata": {},
     "output_type": "execute_result"
    }
   ],
   "source": [
    "round(RMSE(y_validation, y_pred), 2)"
   ]
  },
  {
   "cell_type": "markdown",
   "metadata": {},
   "source": [
    "#### Filling with `mean`"
   ]
  },
  {
   "cell_type": "code",
   "execution_count": 29,
   "metadata": {},
   "outputs": [],
   "source": [
    "def prepare_X(df):\n",
    "    df = df.copy()\n",
    "    \n",
    "    mean_reviews_per_month = np.mean(df_training['reviews_per_month'])\n",
    "    \n",
    "    df_num = df.fillna(mean_reviews_per_month)\n",
    "    \n",
    "    return df_num.values"
   ]
  },
  {
   "cell_type": "code",
   "execution_count": 30,
   "metadata": {},
   "outputs": [],
   "source": [
    "X_training = prepare_X(df_training)\n",
    "X_validation = prepare_X(df_validation)"
   ]
  },
  {
   "cell_type": "code",
   "execution_count": 31,
   "metadata": {},
   "outputs": [],
   "source": [
    "theta0, thetas = train_linear_regression(X_training, y_training)"
   ]
  },
  {
   "cell_type": "code",
   "execution_count": 32,
   "metadata": {},
   "outputs": [],
   "source": [
    "y_pred = theta0 + np.dot(X_validation, thetas)"
   ]
  },
  {
   "cell_type": "code",
   "execution_count": 33,
   "metadata": {},
   "outputs": [
    {
     "data": {
      "text/plain": [
       "0.64"
      ]
     },
     "execution_count": 33,
     "metadata": {},
     "output_type": "execute_result"
    }
   ],
   "source": [
    "round(RMSE(y_validation, y_pred), 2)"
   ]
  },
  {
   "cell_type": "markdown",
   "metadata": {},
   "source": [
    "<font color='red'>ANSWER:</font> both models return an RMSE of 0.64"
   ]
  },
  {
   "cell_type": "markdown",
   "metadata": {},
   "source": [
    "### <font color='green'>Question 4</font>\n",
    "\n",
    "- Now let's train a regularized linear regression.\n",
    "- For this question, fill the NAs with 0.\n",
    "- Try different values of r from this list: [0, 0.000001, 0.0001, 0.001, 0.01, 0.1, 1, 5, 10].\n",
    "- Use RMSE to evaluate the model on the validation dataset.\n",
    "- Round the RMSE scores to 2 decimal digits.\n",
    "- Which r gives the best RMSE?\n",
    "\n",
    "If there are multiple options, select the smallest r."
   ]
  },
  {
   "cell_type": "code",
   "execution_count": 34,
   "metadata": {},
   "outputs": [],
   "source": [
    "def prepare_X(df):\n",
    "    df = df.copy()\n",
    "    \n",
    "    #df_num = df[selected_cols]\n",
    "    df_num = df.fillna(0)\n",
    "    \n",
    "    return df_num.values"
   ]
  },
  {
   "cell_type": "code",
   "execution_count": 35,
   "metadata": {},
   "outputs": [],
   "source": [
    "def train_linear_regression_reg(X, y, lamb):\n",
    "    \n",
    "    ones = np.ones(X.shape[0])\n",
    "    X = np.column_stack([ones,X])\n",
    "    \n",
    "    gram_matrix = np.dot(X.T,X)\n",
    "    regulized_matrix = gram_matrix + np.eye(gram_matrix.shape[0]) * lamb\n",
    "    inv_matrix = np.linalg.inv(regulized_matrix)\n",
    "    \n",
    "    theta = np.dot(inv_matrix, np.dot(X.T, y))\n",
    "    return theta[0], theta[1:]"
   ]
  },
  {
   "cell_type": "code",
   "execution_count": 36,
   "metadata": {},
   "outputs": [],
   "source": [
    "def search_reg_lambda(X_train, X_valid, y_train, y_valid):\n",
    "    lambdas = [0, 0.000001, 0.0001, 0.001, 0.01, 0.1, 1, 5, 10]\n",
    "\n",
    "    for lamb in lambdas:\n",
    "        theta0, thetas = train_linear_regression_reg(X_train, y_train, lamb)\n",
    "        y_pred = theta0 + np.dot(X_valid, thetas)\n",
    "        print(f\"lambda: {lamb:8} -- theta0: {theta0:.8} -- RMSE: {round(RMSE(y_valid, y_pred), 2)}\")"
   ]
  },
  {
   "cell_type": "code",
   "execution_count": 37,
   "metadata": {},
   "outputs": [],
   "source": [
    "X_training = prepare_X(df_training)\n",
    "X_validation = prepare_X(df_validation)"
   ]
  },
  {
   "cell_type": "code",
   "execution_count": 38,
   "metadata": {},
   "outputs": [
    {
     "name": "stdout",
     "output_type": "stream",
     "text": [
      "lambda:        0 -- theta0: -419.91266 -- RMSE: 0.64\n",
      "lambda:    1e-06 -- theta0: -419.86272 -- RMSE: 0.64\n",
      "lambda:   0.0001 -- theta0: -414.97649 -- RMSE: 0.64\n",
      "lambda:    0.001 -- theta0: -375.27365 -- RMSE: 0.64\n",
      "lambda:     0.01 -- theta0: -191.78384 -- RMSE: 0.66\n",
      "lambda:      0.1 -- theta0: -32.562561 -- RMSE: 0.68\n",
      "lambda:        1 -- theta0: -3.4992168 -- RMSE: 0.68\n",
      "lambda:        5 -- theta0: -0.70336232 -- RMSE: 0.68\n",
      "lambda:       10 -- theta0: -0.35127676 -- RMSE: 0.68\n"
     ]
    }
   ],
   "source": [
    "search_reg_lambda(X_training, X_validation, y_training, y_validation)"
   ]
  },
  {
   "cell_type": "markdown",
   "metadata": {},
   "source": [
    "<font color='red'>ANSWER: </font> The best lamba seems to be 0.001 because the RMSE is low (0.64) and this is the larger one on this value (so this lambda value will converge faster)"
   ]
  },
  {
   "cell_type": "markdown",
   "metadata": {},
   "source": [
    "### <font color='green'>Question 5</font>\n",
    "\n",
    "- We used seed 42 for splitting the data. Let's find out how selecting the seed influences our score.\n",
    "- Try different seed values: [0, 1, 2, 3, 4, 5, 6, 7, 8, 9].\n",
    "- For each seed, do the train/validation/test split with 60%/20%/20% distribution.\n",
    "- Fill the missing values with 0 and train a model without regularization.\n",
    "- For each seed, evaluate the model on the validation dataset and collect the RMSE scores.\n",
    "- What's the standard deviation of all the scores? To compute the standard deviation, use np.std.\n",
    "- Round the result to 3 decimal digits (round(std, 3))\n",
    "\n",
    "Note: Standard deviation shows how different the values are. If it's low, then all values are approximately the same. If it's high, the values are different. If standard deviation of scores is low, then our model is stable.\n"
   ]
  },
  {
   "cell_type": "code",
   "execution_count": 39,
   "metadata": {},
   "outputs": [],
   "source": [
    "def prepare_X(df):\n",
    "    df = df.copy()\n",
    "    \n",
    "    df_num = df.fillna(0)\n",
    "    \n",
    "    return df_num.values"
   ]
  },
  {
   "cell_type": "code",
   "execution_count": 40,
   "metadata": {
    "scrolled": false
   },
   "outputs": [
    {
     "name": "stdout",
     "output_type": "stream",
     "text": [
      "n_training: 29337 / n_validation: 9779 / n_testing: 9779\n",
      "n_total:48895 vs sum:48895\n",
      "\n",
      "[43813 32734 25276]\n",
      "       latitude  longitude  price  minimum_nights  number_of_reviews  \\\n",
      "43813  40.72430  -74.01110    225               3                  0   \n",
      "32734  40.72555  -73.99283    649               1                  5   \n",
      "25276  40.71687  -73.95012    300               5                  5   \n",
      "\n",
      "       reviews_per_month  calculated_host_listings_count  availability_365  \n",
      "43813                NaN                               1                42  \n",
      "32734               0.40                               1                75  \n",
      "25276               0.35                               3                31  \n",
      "\n",
      "******************** seed: 0 -- RMSE: 0.65 ********************\n",
      "\n",
      "\n",
      "n_training: 29337 / n_validation: 9779 / n_testing: 9779\n",
      "n_total:48895 vs sum:48895\n",
      "\n",
      "[18907 46663 19757]\n",
      "       latitude  longitude  price  minimum_nights  number_of_reviews  \\\n",
      "18907  40.74596  -73.87762     60               2                  0   \n",
      "46663  40.75883  -73.92160    250               2                  0   \n",
      "19757  40.69670  -73.97477     80               1                 53   \n",
      "\n",
      "       reviews_per_month  calculated_host_listings_count  availability_365  \n",
      "18907                NaN                               2                66  \n",
      "46663                NaN                               1               282  \n",
      "19757               2.15                               1                 0  \n",
      "\n",
      "******************** seed: 1 -- RMSE: 0.65 ********************\n",
      "\n",
      "\n",
      "n_training: 29337 / n_validation: 9779 / n_testing: 9779\n",
      "n_total:48895 vs sum:48895\n",
      "\n",
      "[22043 39679 45220]\n",
      "       latitude  longitude  price  minimum_nights  number_of_reviews  \\\n",
      "22043  40.76060  -73.99345    150               8                  8   \n",
      "39679  40.73879  -73.98135    220               2                  1   \n",
      "45220  40.80013  -73.93742    150               1                  5   \n",
      "\n",
      "       reviews_per_month  calculated_host_listings_count  availability_365  \n",
      "22043               0.30                               1                11  \n",
      "39679               0.15                               1                 0  \n",
      "45220               2.88                               1                21  \n",
      "\n",
      "******************** seed: 2 -- RMSE: 0.65 ********************\n",
      "\n",
      "\n",
      "n_training: 29337 / n_validation: 9779 / n_testing: 9779\n",
      "n_total:48895 vs sum:48895\n",
      "\n",
      "[ 6920 38903 30764]\n",
      "       latitude  longitude  price  minimum_nights  number_of_reviews  \\\n",
      "6920   40.66599  -73.98690    120               2                149   \n",
      "38903  40.76160  -73.95052     55              21                  1   \n",
      "30764  40.71297  -73.94242    190               1                  0   \n",
      "\n",
      "       reviews_per_month  calculated_host_listings_count  availability_365  \n",
      "6920                2.76                               1                 0  \n",
      "38903               0.24                               1               342  \n",
      "30764                NaN                               1                53  \n",
      "\n",
      "******************** seed: 3 -- RMSE: 0.64 ********************\n",
      "\n",
      "\n",
      "n_training: 29337 / n_validation: 9779 / n_testing: 9779\n",
      "n_total:48895 vs sum:48895\n",
      "\n",
      "[25022 38145  2095]\n",
      "       latitude  longitude  price  minimum_nights  number_of_reviews  \\\n",
      "25022  40.63529  -74.09068     59               3                 26   \n",
      "38145  40.72815  -73.98455    120               1                  5   \n",
      "2095   40.67450  -73.99582    400              30                 30   \n",
      "\n",
      "       reviews_per_month  calculated_host_listings_count  availability_365  \n",
      "25022               1.11                               3               351  \n",
      "38145               0.65                               1               191  \n",
      "2095                0.39                               1                67  \n",
      "\n",
      "******************** seed: 4 -- RMSE: 0.64 ********************\n",
      "\n",
      "\n",
      "n_training: 29337 / n_validation: 9779 / n_testing: 9779\n",
      "n_total:48895 vs sum:48895\n",
      "\n",
      "[20531 20353 26436]\n",
      "       latitude  longitude  price  minimum_nights  number_of_reviews  \\\n",
      "20531  40.71457  -73.96332     60               2                  1   \n",
      "20353  40.76755  -73.92320    110              30                  0   \n",
      "26436  40.74594  -73.99829    125               3                  0   \n",
      "\n",
      "       reviews_per_month  calculated_host_listings_count  availability_365  \n",
      "20531               0.03                               1                 0  \n",
      "20353                NaN                               1                 0  \n",
      "26436                NaN                               2                 0  \n",
      "\n",
      "******************** seed: 5 -- RMSE: 0.63 ********************\n",
      "\n",
      "\n",
      "n_training: 29337 / n_validation: 9779 / n_testing: 9779\n",
      "n_total:48895 vs sum:48895\n",
      "\n",
      "[27383  7800 18787]\n",
      "       latitude  longitude  price  minimum_nights  number_of_reviews  \\\n",
      "27383  40.70632  -73.94978    102               3                  0   \n",
      "7800   40.69634  -73.97296     70               1                152   \n",
      "18787  40.76505  -73.97857    125              30                  3   \n",
      "\n",
      "       reviews_per_month  calculated_host_listings_count  availability_365  \n",
      "27383                NaN                               1                 0  \n",
      "7800                3.02                               1               249  \n",
      "18787               0.09                               9                 0  \n",
      "\n",
      "******************** seed: 6 -- RMSE: 0.63 ********************\n",
      "\n",
      "\n",
      "n_training: 29337 / n_validation: 9779 / n_testing: 9779\n",
      "n_total:48895 vs sum:48895\n",
      "\n",
      "[13636 25054 15227]\n",
      "       latitude  longitude  price  minimum_nights  number_of_reviews  \\\n",
      "13636  40.73008  -73.98996     91               4                  8   \n",
      "25054  40.73001  -73.98411    230               5                  1   \n",
      "15227  40.76740  -73.95559     95               1                 10   \n",
      "\n",
      "       reviews_per_month  calculated_host_listings_count  availability_365  \n",
      "13636               0.19                               3                 0  \n",
      "25054               0.11                               1                 0  \n",
      "15227               0.25                               1                 0  \n",
      "\n",
      "******************** seed: 7 -- RMSE: 0.65 ********************\n",
      "\n",
      "\n",
      "n_training: 29337 / n_validation: 9779 / n_testing: 9779\n",
      "n_total:48895 vs sum:48895\n",
      "\n",
      "[42099 22672  8754]\n",
      "       latitude  longitude  price  minimum_nights  number_of_reviews  \\\n",
      "42099  40.75106  -73.99792    149               2                  9   \n",
      "22672  40.76480  -73.92081     50               1                  6   \n",
      "8754   40.77878  -73.94491    170              10                 11   \n",
      "\n",
      "       reviews_per_month  calculated_host_listings_count  availability_365  \n",
      "42099               2.31                               1               129  \n",
      "22672               0.23                               1                 0  \n",
      "8754                0.24                               1                 0  \n",
      "\n",
      "******************** seed: 8 -- RMSE: 0.65 ********************\n",
      "\n",
      "\n",
      "n_training: 29337 / n_validation: 9779 / n_testing: 9779\n",
      "n_total:48895 vs sum:48895\n",
      "\n",
      "[25415  1329 31738]\n",
      "       latitude  longitude  price  minimum_nights  number_of_reviews  \\\n",
      "25415  40.70423  -73.91595     75               1                  3   \n",
      "1329   40.77115  -73.92275     69              40                 23   \n",
      "31738  40.70401  -74.00932    179              29                  0   \n",
      "\n",
      "       reviews_per_month  calculated_host_listings_count  availability_365  \n",
      "25415               0.13                               1                 0  \n",
      "1329                0.27                               1               207  \n",
      "31738                NaN                              96                 1  \n",
      "\n",
      "******************** seed: 9 -- RMSE: 0.64 ********************\n",
      "\n",
      "\n",
      "std rmse: 0.008\n"
     ]
    }
   ],
   "source": [
    "def test_seeds():\n",
    "    seeds = [0, 1, 2, 3, 4, 5, 6, 7, 8, 9]\n",
    "    \n",
    "    rmse_values = []\n",
    "    \n",
    "    for seed in seeds:\n",
    "        df_training, df_validation, df_testing, \\\n",
    "        y_training, y_validation, y_testing = split_train_valid_test(df, 60, 20, 20, seed)\n",
    "        \n",
    "        X_training = prepare_X(df_training)\n",
    "        X_validation = prepare_X(df_validation)\n",
    "        \n",
    "        theta0, thetas = train_linear_regression(X_training, y_training)\n",
    "        y_pred = theta0 + np.dot(X_validation, thetas)\n",
    "        rmse = RMSE(y_validation, y_pred)\n",
    "        \n",
    "        print(f\"\\n{20*'*'} seed: {seed} -- RMSE: {round(rmse,2)} {20*'*'}\\n\\n\")\n",
    "        rmse_values.append(rmse)\n",
    "        \n",
    "    print(f\"std rmse: {round(np.std(rmse_values),3)}\")\n",
    "        \n",
    "test_seeds()"
   ]
  },
  {
   "cell_type": "markdown",
   "metadata": {},
   "source": [
    "### <font color='green'>Question 6</font>\n",
    "\n",
    "- Split the dataset like previously, use seed 9.\n",
    "- Combine train and validation datasets.\n",
    "- Fill the missing values with 0 and train a model with r=0.001.\n",
    "\n",
    "What's the RMSE on the test dataset?\n"
   ]
  },
  {
   "cell_type": "code",
   "execution_count": 41,
   "metadata": {},
   "outputs": [],
   "source": [
    "def prepare_X(df):\n",
    "    df = df.copy()\n",
    "    \n",
    "    df_num = df.fillna(0)\n",
    "    \n",
    "    return df_num.values"
   ]
  },
  {
   "cell_type": "code",
   "execution_count": 42,
   "metadata": {},
   "outputs": [
    {
     "name": "stdout",
     "output_type": "stream",
     "text": [
      "n_training: 29337 / n_validation: 9779 / n_testing: 9779\n",
      "n_total:48895 vs sum:48895\n",
      "\n",
      "[25415  1329 31738]\n",
      "       latitude  longitude  price  minimum_nights  number_of_reviews  \\\n",
      "25415  40.70423  -73.91595     75               1                  3   \n",
      "1329   40.77115  -73.92275     69              40                 23   \n",
      "31738  40.70401  -74.00932    179              29                  0   \n",
      "\n",
      "       reviews_per_month  calculated_host_listings_count  availability_365  \n",
      "25415               0.13                               1                 0  \n",
      "1329                0.27                               1               207  \n",
      "31738                NaN                              96                 1  \n",
      "Blop 0        4.330733\n",
      "1        4.248495\n",
      "2        5.192957\n",
      "3        5.017280\n",
      "4        4.110874\n",
      "           ...   \n",
      "39111    4.510860\n",
      "39112    4.859812\n",
      "39113    4.948760\n",
      "39114    5.375278\n",
      "39115    4.189655\n",
      "Name: price, Length: 39116, dtype: float64\n",
      "RMSE: 0.65\n"
     ]
    }
   ],
   "source": [
    "df_training, df_validation, df_testing, \\\n",
    "y_training, y_validation, y_testing = split_train_valid_test(df, 60, 20, 20, 9)\n",
    "\n",
    "df_train_valid = pd.concat([df_training, df_validation])\n",
    "df_train_valid = df_train_valid.reset_index(drop=True)\n",
    "y_train_valid = pd.concat([y_training, y_validation])\n",
    "y_train_valid = y_train_valid.reset_index(drop=True)\n",
    "\n",
    "print(\"Blop\", y_train_valid)\n",
    "\n",
    "X_training = prepare_X(df_train_valid)\n",
    "X_testing = prepare_X(df_testing)\n",
    "        \n",
    "theta0, thetas = train_linear_regression_reg(X_training, y_train_valid, 0.001)\n",
    "y_pred = theta0 + np.dot(X_testing, thetas)\n",
    "print(f\"RMSE: {round(RMSE(y_testing, y_pred),2)}\")"
   ]
  },
  {
   "cell_type": "code",
   "execution_count": null,
   "metadata": {},
   "outputs": [],
   "source": []
  }
 ],
 "metadata": {
  "kernelspec": {
   "display_name": "Python 3",
   "language": "python",
   "name": "python3"
  },
  "language_info": {
   "codemirror_mode": {
    "name": "ipython",
    "version": 3
   },
   "file_extension": ".py",
   "mimetype": "text/x-python",
   "name": "python",
   "nbconvert_exporter": "python",
   "pygments_lexer": "ipython3",
   "version": "3.8.10"
  }
 },
 "nbformat": 4,
 "nbformat_minor": 4
}
