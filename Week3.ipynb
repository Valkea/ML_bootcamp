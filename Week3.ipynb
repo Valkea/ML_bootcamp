{
 "cells": [
  {
   "cell_type": "code",
   "execution_count": 1,
   "metadata": {},
   "outputs": [],
   "source": [
    "import pandas as pd\n",
    "import numpy as np\n",
    "import matplotlib.pyplot as plt\n",
    "import seaborn as sns"
   ]
  },
  {
   "cell_type": "markdown",
   "metadata": {},
   "source": [
    "## Load the data"
   ]
  },
  {
   "cell_type": "code",
   "execution_count": 2,
   "metadata": {},
   "outputs": [
    {
     "data": {
      "text/html": [
       "<div>\n",
       "<style scoped>\n",
       "    .dataframe tbody tr th:only-of-type {\n",
       "        vertical-align: middle;\n",
       "    }\n",
       "\n",
       "    .dataframe tbody tr th {\n",
       "        vertical-align: top;\n",
       "    }\n",
       "\n",
       "    .dataframe thead th {\n",
       "        text-align: right;\n",
       "    }\n",
       "</style>\n",
       "<table border=\"1\" class=\"dataframe\">\n",
       "  <thead>\n",
       "    <tr style=\"text-align: right;\">\n",
       "      <th></th>\n",
       "      <th>id</th>\n",
       "      <th>name</th>\n",
       "      <th>host_id</th>\n",
       "      <th>host_name</th>\n",
       "      <th>neighbourhood_group</th>\n",
       "      <th>neighbourhood</th>\n",
       "      <th>latitude</th>\n",
       "      <th>longitude</th>\n",
       "      <th>room_type</th>\n",
       "      <th>price</th>\n",
       "      <th>minimum_nights</th>\n",
       "      <th>number_of_reviews</th>\n",
       "      <th>last_review</th>\n",
       "      <th>reviews_per_month</th>\n",
       "      <th>calculated_host_listings_count</th>\n",
       "      <th>availability_365</th>\n",
       "    </tr>\n",
       "  </thead>\n",
       "  <tbody>\n",
       "    <tr>\n",
       "      <th>0</th>\n",
       "      <td>2539</td>\n",
       "      <td>Clean &amp; quiet apt home by the park</td>\n",
       "      <td>2787</td>\n",
       "      <td>John</td>\n",
       "      <td>Brooklyn</td>\n",
       "      <td>Kensington</td>\n",
       "      <td>40.64749</td>\n",
       "      <td>-73.97237</td>\n",
       "      <td>Private room</td>\n",
       "      <td>149</td>\n",
       "      <td>1</td>\n",
       "      <td>9</td>\n",
       "      <td>2018-10-19</td>\n",
       "      <td>0.21</td>\n",
       "      <td>6</td>\n",
       "      <td>365</td>\n",
       "    </tr>\n",
       "    <tr>\n",
       "      <th>1</th>\n",
       "      <td>2595</td>\n",
       "      <td>Skylit Midtown Castle</td>\n",
       "      <td>2845</td>\n",
       "      <td>Jennifer</td>\n",
       "      <td>Manhattan</td>\n",
       "      <td>Midtown</td>\n",
       "      <td>40.75362</td>\n",
       "      <td>-73.98377</td>\n",
       "      <td>Entire home/apt</td>\n",
       "      <td>225</td>\n",
       "      <td>1</td>\n",
       "      <td>45</td>\n",
       "      <td>2019-05-21</td>\n",
       "      <td>0.38</td>\n",
       "      <td>2</td>\n",
       "      <td>355</td>\n",
       "    </tr>\n",
       "    <tr>\n",
       "      <th>2</th>\n",
       "      <td>3647</td>\n",
       "      <td>THE VILLAGE OF HARLEM....NEW YORK !</td>\n",
       "      <td>4632</td>\n",
       "      <td>Elisabeth</td>\n",
       "      <td>Manhattan</td>\n",
       "      <td>Harlem</td>\n",
       "      <td>40.80902</td>\n",
       "      <td>-73.94190</td>\n",
       "      <td>Private room</td>\n",
       "      <td>150</td>\n",
       "      <td>3</td>\n",
       "      <td>0</td>\n",
       "      <td>NaN</td>\n",
       "      <td>NaN</td>\n",
       "      <td>1</td>\n",
       "      <td>365</td>\n",
       "    </tr>\n",
       "    <tr>\n",
       "      <th>3</th>\n",
       "      <td>3831</td>\n",
       "      <td>Cozy Entire Floor of Brownstone</td>\n",
       "      <td>4869</td>\n",
       "      <td>LisaRoxanne</td>\n",
       "      <td>Brooklyn</td>\n",
       "      <td>Clinton Hill</td>\n",
       "      <td>40.68514</td>\n",
       "      <td>-73.95976</td>\n",
       "      <td>Entire home/apt</td>\n",
       "      <td>89</td>\n",
       "      <td>1</td>\n",
       "      <td>270</td>\n",
       "      <td>2019-07-05</td>\n",
       "      <td>4.64</td>\n",
       "      <td>1</td>\n",
       "      <td>194</td>\n",
       "    </tr>\n",
       "    <tr>\n",
       "      <th>4</th>\n",
       "      <td>5022</td>\n",
       "      <td>Entire Apt: Spacious Studio/Loft by central park</td>\n",
       "      <td>7192</td>\n",
       "      <td>Laura</td>\n",
       "      <td>Manhattan</td>\n",
       "      <td>East Harlem</td>\n",
       "      <td>40.79851</td>\n",
       "      <td>-73.94399</td>\n",
       "      <td>Entire home/apt</td>\n",
       "      <td>80</td>\n",
       "      <td>10</td>\n",
       "      <td>9</td>\n",
       "      <td>2018-11-19</td>\n",
       "      <td>0.10</td>\n",
       "      <td>1</td>\n",
       "      <td>0</td>\n",
       "    </tr>\n",
       "  </tbody>\n",
       "</table>\n",
       "</div>"
      ],
      "text/plain": [
       "     id                                              name  host_id  \\\n",
       "0  2539                Clean & quiet apt home by the park     2787   \n",
       "1  2595                             Skylit Midtown Castle     2845   \n",
       "2  3647               THE VILLAGE OF HARLEM....NEW YORK !     4632   \n",
       "3  3831                   Cozy Entire Floor of Brownstone     4869   \n",
       "4  5022  Entire Apt: Spacious Studio/Loft by central park     7192   \n",
       "\n",
       "     host_name neighbourhood_group neighbourhood  latitude  longitude  \\\n",
       "0         John            Brooklyn    Kensington  40.64749  -73.97237   \n",
       "1     Jennifer           Manhattan       Midtown  40.75362  -73.98377   \n",
       "2    Elisabeth           Manhattan        Harlem  40.80902  -73.94190   \n",
       "3  LisaRoxanne            Brooklyn  Clinton Hill  40.68514  -73.95976   \n",
       "4        Laura           Manhattan   East Harlem  40.79851  -73.94399   \n",
       "\n",
       "         room_type  price  minimum_nights  number_of_reviews last_review  \\\n",
       "0     Private room    149               1                  9  2018-10-19   \n",
       "1  Entire home/apt    225               1                 45  2019-05-21   \n",
       "2     Private room    150               3                  0         NaN   \n",
       "3  Entire home/apt     89               1                270  2019-07-05   \n",
       "4  Entire home/apt     80              10                  9  2018-11-19   \n",
       "\n",
       "   reviews_per_month  calculated_host_listings_count  availability_365  \n",
       "0               0.21                               6               365  \n",
       "1               0.38                               2               355  \n",
       "2                NaN                               1               365  \n",
       "3               4.64                               1               194  \n",
       "4               0.10                               1                 0  "
      ]
     },
     "execution_count": 2,
     "metadata": {},
     "output_type": "execute_result"
    }
   ],
   "source": [
    "data = pd.read_csv('data/data-week2.csv', sep=',', decimal='.')\n",
    "data.head()"
   ]
  },
  {
   "cell_type": "markdown",
   "metadata": {},
   "source": [
    "## Explore the data"
   ]
  },
  {
   "cell_type": "code",
   "execution_count": 3,
   "metadata": {},
   "outputs": [
    {
     "data": {
      "text/html": [
       "<div>\n",
       "<style scoped>\n",
       "    .dataframe tbody tr th:only-of-type {\n",
       "        vertical-align: middle;\n",
       "    }\n",
       "\n",
       "    .dataframe tbody tr th {\n",
       "        vertical-align: top;\n",
       "    }\n",
       "\n",
       "    .dataframe thead th {\n",
       "        text-align: right;\n",
       "    }\n",
       "</style>\n",
       "<table border=\"1\" class=\"dataframe\">\n",
       "  <thead>\n",
       "    <tr style=\"text-align: right;\">\n",
       "      <th></th>\n",
       "      <th>id</th>\n",
       "      <th>name</th>\n",
       "      <th>host_id</th>\n",
       "      <th>host_name</th>\n",
       "      <th>neighbourhood_group</th>\n",
       "      <th>neighbourhood</th>\n",
       "      <th>latitude</th>\n",
       "      <th>longitude</th>\n",
       "      <th>room_type</th>\n",
       "      <th>price</th>\n",
       "      <th>minimum_nights</th>\n",
       "      <th>number_of_reviews</th>\n",
       "      <th>last_review</th>\n",
       "      <th>reviews_per_month</th>\n",
       "      <th>calculated_host_listings_count</th>\n",
       "      <th>availability_365</th>\n",
       "    </tr>\n",
       "  </thead>\n",
       "  <tbody>\n",
       "    <tr>\n",
       "      <th>count</th>\n",
       "      <td>4.889500e+04</td>\n",
       "      <td>48879</td>\n",
       "      <td>4.889500e+04</td>\n",
       "      <td>48874</td>\n",
       "      <td>48895</td>\n",
       "      <td>48895</td>\n",
       "      <td>48895.000000</td>\n",
       "      <td>48895.000000</td>\n",
       "      <td>48895</td>\n",
       "      <td>48895.000000</td>\n",
       "      <td>48895.000000</td>\n",
       "      <td>48895.000000</td>\n",
       "      <td>38843</td>\n",
       "      <td>38843.000000</td>\n",
       "      <td>48895.000000</td>\n",
       "      <td>48895.000000</td>\n",
       "    </tr>\n",
       "    <tr>\n",
       "      <th>unique</th>\n",
       "      <td>NaN</td>\n",
       "      <td>47905</td>\n",
       "      <td>NaN</td>\n",
       "      <td>11452</td>\n",
       "      <td>5</td>\n",
       "      <td>221</td>\n",
       "      <td>NaN</td>\n",
       "      <td>NaN</td>\n",
       "      <td>3</td>\n",
       "      <td>NaN</td>\n",
       "      <td>NaN</td>\n",
       "      <td>NaN</td>\n",
       "      <td>1764</td>\n",
       "      <td>NaN</td>\n",
       "      <td>NaN</td>\n",
       "      <td>NaN</td>\n",
       "    </tr>\n",
       "    <tr>\n",
       "      <th>top</th>\n",
       "      <td>NaN</td>\n",
       "      <td>Hillside Hotel</td>\n",
       "      <td>NaN</td>\n",
       "      <td>Michael</td>\n",
       "      <td>Manhattan</td>\n",
       "      <td>Williamsburg</td>\n",
       "      <td>NaN</td>\n",
       "      <td>NaN</td>\n",
       "      <td>Entire home/apt</td>\n",
       "      <td>NaN</td>\n",
       "      <td>NaN</td>\n",
       "      <td>NaN</td>\n",
       "      <td>2019-06-23</td>\n",
       "      <td>NaN</td>\n",
       "      <td>NaN</td>\n",
       "      <td>NaN</td>\n",
       "    </tr>\n",
       "    <tr>\n",
       "      <th>freq</th>\n",
       "      <td>NaN</td>\n",
       "      <td>18</td>\n",
       "      <td>NaN</td>\n",
       "      <td>417</td>\n",
       "      <td>21661</td>\n",
       "      <td>3920</td>\n",
       "      <td>NaN</td>\n",
       "      <td>NaN</td>\n",
       "      <td>25409</td>\n",
       "      <td>NaN</td>\n",
       "      <td>NaN</td>\n",
       "      <td>NaN</td>\n",
       "      <td>1413</td>\n",
       "      <td>NaN</td>\n",
       "      <td>NaN</td>\n",
       "      <td>NaN</td>\n",
       "    </tr>\n",
       "    <tr>\n",
       "      <th>mean</th>\n",
       "      <td>1.901714e+07</td>\n",
       "      <td>NaN</td>\n",
       "      <td>6.762001e+07</td>\n",
       "      <td>NaN</td>\n",
       "      <td>NaN</td>\n",
       "      <td>NaN</td>\n",
       "      <td>40.728949</td>\n",
       "      <td>-73.952170</td>\n",
       "      <td>NaN</td>\n",
       "      <td>152.720687</td>\n",
       "      <td>7.029962</td>\n",
       "      <td>23.274466</td>\n",
       "      <td>NaN</td>\n",
       "      <td>1.373221</td>\n",
       "      <td>7.143982</td>\n",
       "      <td>112.781327</td>\n",
       "    </tr>\n",
       "    <tr>\n",
       "      <th>std</th>\n",
       "      <td>1.098311e+07</td>\n",
       "      <td>NaN</td>\n",
       "      <td>7.861097e+07</td>\n",
       "      <td>NaN</td>\n",
       "      <td>NaN</td>\n",
       "      <td>NaN</td>\n",
       "      <td>0.054530</td>\n",
       "      <td>0.046157</td>\n",
       "      <td>NaN</td>\n",
       "      <td>240.154170</td>\n",
       "      <td>20.510550</td>\n",
       "      <td>44.550582</td>\n",
       "      <td>NaN</td>\n",
       "      <td>1.680442</td>\n",
       "      <td>32.952519</td>\n",
       "      <td>131.622289</td>\n",
       "    </tr>\n",
       "    <tr>\n",
       "      <th>min</th>\n",
       "      <td>2.539000e+03</td>\n",
       "      <td>NaN</td>\n",
       "      <td>2.438000e+03</td>\n",
       "      <td>NaN</td>\n",
       "      <td>NaN</td>\n",
       "      <td>NaN</td>\n",
       "      <td>40.499790</td>\n",
       "      <td>-74.244420</td>\n",
       "      <td>NaN</td>\n",
       "      <td>0.000000</td>\n",
       "      <td>1.000000</td>\n",
       "      <td>0.000000</td>\n",
       "      <td>NaN</td>\n",
       "      <td>0.010000</td>\n",
       "      <td>1.000000</td>\n",
       "      <td>0.000000</td>\n",
       "    </tr>\n",
       "    <tr>\n",
       "      <th>25%</th>\n",
       "      <td>9.471945e+06</td>\n",
       "      <td>NaN</td>\n",
       "      <td>7.822033e+06</td>\n",
       "      <td>NaN</td>\n",
       "      <td>NaN</td>\n",
       "      <td>NaN</td>\n",
       "      <td>40.690100</td>\n",
       "      <td>-73.983070</td>\n",
       "      <td>NaN</td>\n",
       "      <td>69.000000</td>\n",
       "      <td>1.000000</td>\n",
       "      <td>1.000000</td>\n",
       "      <td>NaN</td>\n",
       "      <td>0.190000</td>\n",
       "      <td>1.000000</td>\n",
       "      <td>0.000000</td>\n",
       "    </tr>\n",
       "    <tr>\n",
       "      <th>50%</th>\n",
       "      <td>1.967728e+07</td>\n",
       "      <td>NaN</td>\n",
       "      <td>3.079382e+07</td>\n",
       "      <td>NaN</td>\n",
       "      <td>NaN</td>\n",
       "      <td>NaN</td>\n",
       "      <td>40.723070</td>\n",
       "      <td>-73.955680</td>\n",
       "      <td>NaN</td>\n",
       "      <td>106.000000</td>\n",
       "      <td>3.000000</td>\n",
       "      <td>5.000000</td>\n",
       "      <td>NaN</td>\n",
       "      <td>0.720000</td>\n",
       "      <td>1.000000</td>\n",
       "      <td>45.000000</td>\n",
       "    </tr>\n",
       "    <tr>\n",
       "      <th>75%</th>\n",
       "      <td>2.915218e+07</td>\n",
       "      <td>NaN</td>\n",
       "      <td>1.074344e+08</td>\n",
       "      <td>NaN</td>\n",
       "      <td>NaN</td>\n",
       "      <td>NaN</td>\n",
       "      <td>40.763115</td>\n",
       "      <td>-73.936275</td>\n",
       "      <td>NaN</td>\n",
       "      <td>175.000000</td>\n",
       "      <td>5.000000</td>\n",
       "      <td>24.000000</td>\n",
       "      <td>NaN</td>\n",
       "      <td>2.020000</td>\n",
       "      <td>2.000000</td>\n",
       "      <td>227.000000</td>\n",
       "    </tr>\n",
       "    <tr>\n",
       "      <th>max</th>\n",
       "      <td>3.648724e+07</td>\n",
       "      <td>NaN</td>\n",
       "      <td>2.743213e+08</td>\n",
       "      <td>NaN</td>\n",
       "      <td>NaN</td>\n",
       "      <td>NaN</td>\n",
       "      <td>40.913060</td>\n",
       "      <td>-73.712990</td>\n",
       "      <td>NaN</td>\n",
       "      <td>10000.000000</td>\n",
       "      <td>1250.000000</td>\n",
       "      <td>629.000000</td>\n",
       "      <td>NaN</td>\n",
       "      <td>58.500000</td>\n",
       "      <td>327.000000</td>\n",
       "      <td>365.000000</td>\n",
       "    </tr>\n",
       "  </tbody>\n",
       "</table>\n",
       "</div>"
      ],
      "text/plain": [
       "                  id            name       host_id host_name  \\\n",
       "count   4.889500e+04           48879  4.889500e+04     48874   \n",
       "unique           NaN           47905           NaN     11452   \n",
       "top              NaN  Hillside Hotel           NaN   Michael   \n",
       "freq             NaN              18           NaN       417   \n",
       "mean    1.901714e+07             NaN  6.762001e+07       NaN   \n",
       "std     1.098311e+07             NaN  7.861097e+07       NaN   \n",
       "min     2.539000e+03             NaN  2.438000e+03       NaN   \n",
       "25%     9.471945e+06             NaN  7.822033e+06       NaN   \n",
       "50%     1.967728e+07             NaN  3.079382e+07       NaN   \n",
       "75%     2.915218e+07             NaN  1.074344e+08       NaN   \n",
       "max     3.648724e+07             NaN  2.743213e+08       NaN   \n",
       "\n",
       "       neighbourhood_group neighbourhood      latitude     longitude  \\\n",
       "count                48895         48895  48895.000000  48895.000000   \n",
       "unique                   5           221           NaN           NaN   \n",
       "top              Manhattan  Williamsburg           NaN           NaN   \n",
       "freq                 21661          3920           NaN           NaN   \n",
       "mean                   NaN           NaN     40.728949    -73.952170   \n",
       "std                    NaN           NaN      0.054530      0.046157   \n",
       "min                    NaN           NaN     40.499790    -74.244420   \n",
       "25%                    NaN           NaN     40.690100    -73.983070   \n",
       "50%                    NaN           NaN     40.723070    -73.955680   \n",
       "75%                    NaN           NaN     40.763115    -73.936275   \n",
       "max                    NaN           NaN     40.913060    -73.712990   \n",
       "\n",
       "              room_type         price  minimum_nights  number_of_reviews  \\\n",
       "count             48895  48895.000000    48895.000000       48895.000000   \n",
       "unique                3           NaN             NaN                NaN   \n",
       "top     Entire home/apt           NaN             NaN                NaN   \n",
       "freq              25409           NaN             NaN                NaN   \n",
       "mean                NaN    152.720687        7.029962          23.274466   \n",
       "std                 NaN    240.154170       20.510550          44.550582   \n",
       "min                 NaN      0.000000        1.000000           0.000000   \n",
       "25%                 NaN     69.000000        1.000000           1.000000   \n",
       "50%                 NaN    106.000000        3.000000           5.000000   \n",
       "75%                 NaN    175.000000        5.000000          24.000000   \n",
       "max                 NaN  10000.000000     1250.000000         629.000000   \n",
       "\n",
       "       last_review  reviews_per_month  calculated_host_listings_count  \\\n",
       "count        38843       38843.000000                    48895.000000   \n",
       "unique        1764                NaN                             NaN   \n",
       "top     2019-06-23                NaN                             NaN   \n",
       "freq          1413                NaN                             NaN   \n",
       "mean           NaN           1.373221                        7.143982   \n",
       "std            NaN           1.680442                       32.952519   \n",
       "min            NaN           0.010000                        1.000000   \n",
       "25%            NaN           0.190000                        1.000000   \n",
       "50%            NaN           0.720000                        1.000000   \n",
       "75%            NaN           2.020000                        2.000000   \n",
       "max            NaN          58.500000                      327.000000   \n",
       "\n",
       "        availability_365  \n",
       "count       48895.000000  \n",
       "unique               NaN  \n",
       "top                  NaN  \n",
       "freq                 NaN  \n",
       "mean          112.781327  \n",
       "std           131.622289  \n",
       "min             0.000000  \n",
       "25%             0.000000  \n",
       "50%            45.000000  \n",
       "75%           227.000000  \n",
       "max           365.000000  "
      ]
     },
     "execution_count": 3,
     "metadata": {},
     "output_type": "execute_result"
    }
   ],
   "source": [
    "data.describe(include='all')"
   ]
  },
  {
   "cell_type": "code",
   "execution_count": 4,
   "metadata": {},
   "outputs": [
    {
     "data": {
      "text/plain": [
       "id                                    0\n",
       "name                                 16\n",
       "host_id                               0\n",
       "host_name                            21\n",
       "neighbourhood_group                   0\n",
       "neighbourhood                         0\n",
       "latitude                              0\n",
       "longitude                             0\n",
       "room_type                             0\n",
       "price                                 0\n",
       "minimum_nights                        0\n",
       "number_of_reviews                     0\n",
       "last_review                       10052\n",
       "reviews_per_month                 10052\n",
       "calculated_host_listings_count        0\n",
       "availability_365                      0\n",
       "dtype: int64"
      ]
     },
     "execution_count": 4,
     "metadata": {},
     "output_type": "execute_result"
    }
   ],
   "source": [
    "data.isnull().sum()"
   ]
  },
  {
   "cell_type": "markdown",
   "metadata": {},
   "source": [
    "## Prepare the data"
   ]
  },
  {
   "cell_type": "code",
   "execution_count": 5,
   "metadata": {},
   "outputs": [],
   "source": [
    "selected_features = [\n",
    "    'neighbourhood_group',\n",
    "    'room_type',\n",
    "    'latitude',\n",
    "    'longitude',\n",
    "    'price',\n",
    "    'minimum_nights',\n",
    "    'number_of_reviews',\n",
    "    'reviews_per_month',\n",
    "    'calculated_host_listings_count',\n",
    "    'availability_365',\n",
    "]"
   ]
  },
  {
   "cell_type": "code",
   "execution_count": 6,
   "metadata": {},
   "outputs": [
    {
     "data": {
      "text/html": [
       "<div>\n",
       "<style scoped>\n",
       "    .dataframe tbody tr th:only-of-type {\n",
       "        vertical-align: middle;\n",
       "    }\n",
       "\n",
       "    .dataframe tbody tr th {\n",
       "        vertical-align: top;\n",
       "    }\n",
       "\n",
       "    .dataframe thead th {\n",
       "        text-align: right;\n",
       "    }\n",
       "</style>\n",
       "<table border=\"1\" class=\"dataframe\">\n",
       "  <thead>\n",
       "    <tr style=\"text-align: right;\">\n",
       "      <th></th>\n",
       "      <th>neighbourhood_group</th>\n",
       "      <th>room_type</th>\n",
       "      <th>latitude</th>\n",
       "      <th>longitude</th>\n",
       "      <th>price</th>\n",
       "      <th>minimum_nights</th>\n",
       "      <th>number_of_reviews</th>\n",
       "      <th>reviews_per_month</th>\n",
       "      <th>calculated_host_listings_count</th>\n",
       "      <th>availability_365</th>\n",
       "    </tr>\n",
       "  </thead>\n",
       "  <tbody>\n",
       "    <tr>\n",
       "      <th>0</th>\n",
       "      <td>Brooklyn</td>\n",
       "      <td>Private room</td>\n",
       "      <td>40.64749</td>\n",
       "      <td>-73.97237</td>\n",
       "      <td>149</td>\n",
       "      <td>1</td>\n",
       "      <td>9</td>\n",
       "      <td>0.21</td>\n",
       "      <td>6</td>\n",
       "      <td>365</td>\n",
       "    </tr>\n",
       "    <tr>\n",
       "      <th>1</th>\n",
       "      <td>Manhattan</td>\n",
       "      <td>Entire home/apt</td>\n",
       "      <td>40.75362</td>\n",
       "      <td>-73.98377</td>\n",
       "      <td>225</td>\n",
       "      <td>1</td>\n",
       "      <td>45</td>\n",
       "      <td>0.38</td>\n",
       "      <td>2</td>\n",
       "      <td>355</td>\n",
       "    </tr>\n",
       "    <tr>\n",
       "      <th>2</th>\n",
       "      <td>Manhattan</td>\n",
       "      <td>Private room</td>\n",
       "      <td>40.80902</td>\n",
       "      <td>-73.94190</td>\n",
       "      <td>150</td>\n",
       "      <td>3</td>\n",
       "      <td>0</td>\n",
       "      <td>NaN</td>\n",
       "      <td>1</td>\n",
       "      <td>365</td>\n",
       "    </tr>\n",
       "    <tr>\n",
       "      <th>3</th>\n",
       "      <td>Brooklyn</td>\n",
       "      <td>Entire home/apt</td>\n",
       "      <td>40.68514</td>\n",
       "      <td>-73.95976</td>\n",
       "      <td>89</td>\n",
       "      <td>1</td>\n",
       "      <td>270</td>\n",
       "      <td>4.64</td>\n",
       "      <td>1</td>\n",
       "      <td>194</td>\n",
       "    </tr>\n",
       "    <tr>\n",
       "      <th>4</th>\n",
       "      <td>Manhattan</td>\n",
       "      <td>Entire home/apt</td>\n",
       "      <td>40.79851</td>\n",
       "      <td>-73.94399</td>\n",
       "      <td>80</td>\n",
       "      <td>10</td>\n",
       "      <td>9</td>\n",
       "      <td>0.10</td>\n",
       "      <td>1</td>\n",
       "      <td>0</td>\n",
       "    </tr>\n",
       "  </tbody>\n",
       "</table>\n",
       "</div>"
      ],
      "text/plain": [
       "  neighbourhood_group        room_type  latitude  longitude  price  \\\n",
       "0            Brooklyn     Private room  40.64749  -73.97237    149   \n",
       "1           Manhattan  Entire home/apt  40.75362  -73.98377    225   \n",
       "2           Manhattan     Private room  40.80902  -73.94190    150   \n",
       "3            Brooklyn  Entire home/apt  40.68514  -73.95976     89   \n",
       "4           Manhattan  Entire home/apt  40.79851  -73.94399     80   \n",
       "\n",
       "   minimum_nights  number_of_reviews  reviews_per_month  \\\n",
       "0               1                  9               0.21   \n",
       "1               1                 45               0.38   \n",
       "2               3                  0                NaN   \n",
       "3               1                270               4.64   \n",
       "4              10                  9               0.10   \n",
       "\n",
       "   calculated_host_listings_count  availability_365  \n",
       "0                               6               365  \n",
       "1                               2               355  \n",
       "2                               1               365  \n",
       "3                               1               194  \n",
       "4                               1                 0  "
      ]
     },
     "execution_count": 6,
     "metadata": {},
     "output_type": "execute_result"
    }
   ],
   "source": [
    "df = data[selected_features]\n",
    "df.head()"
   ]
  },
  {
   "cell_type": "markdown",
   "metadata": {},
   "source": [
    "#### Lower cases on the columns with labels"
   ]
  },
  {
   "cell_type": "code",
   "execution_count": 7,
   "metadata": {},
   "outputs": [
    {
     "name": "stderr",
     "output_type": "stream",
     "text": [
      "/home/valkea/.local/lib/python3.8/site-packages/pandas/core/indexing.py:1676: SettingWithCopyWarning: \n",
      "A value is trying to be set on a copy of a slice from a DataFrame.\n",
      "Try using .loc[row_indexer,col_indexer] = value instead\n",
      "\n",
      "See the caveats in the documentation: https://pandas.pydata.org/pandas-docs/stable/user_guide/indexing.html#returning-a-view-versus-a-copy\n",
      "  self._setitem_single_column(ilocs[0], value, pi)\n"
     ]
    }
   ],
   "source": [
    "df.loc[:,'neighbourhood_group'] = df['neighbourhood_group'].str.lower()"
   ]
  },
  {
   "cell_type": "code",
   "execution_count": 8,
   "metadata": {},
   "outputs": [
    {
     "data": {
      "text/plain": [
       "manhattan        21661\n",
       "brooklyn         20104\n",
       "queens            5666\n",
       "bronx             1091\n",
       "staten island      373\n",
       "Name: neighbourhood_group, dtype: int64"
      ]
     },
     "execution_count": 8,
     "metadata": {},
     "output_type": "execute_result"
    }
   ],
   "source": [
    "df['neighbourhood_group'].value_counts()"
   ]
  },
  {
   "cell_type": "code",
   "execution_count": 9,
   "metadata": {},
   "outputs": [],
   "source": [
    "df.loc[:,'room_type'] = df['room_type'].str.lower()"
   ]
  },
  {
   "cell_type": "code",
   "execution_count": 10,
   "metadata": {},
   "outputs": [
    {
     "data": {
      "text/plain": [
       "entire home/apt    25409\n",
       "private room       22326\n",
       "shared room         1160\n",
       "Name: room_type, dtype: int64"
      ]
     },
     "execution_count": 10,
     "metadata": {},
     "output_type": "execute_result"
    }
   ],
   "source": [
    "df['room_type'].value_counts()"
   ]
  },
  {
   "cell_type": "markdown",
   "metadata": {},
   "source": [
    "#### Replace missing values with 0"
   ]
  },
  {
   "cell_type": "code",
   "execution_count": 11,
   "metadata": {},
   "outputs": [],
   "source": [
    "df = df.fillna(0)"
   ]
  },
  {
   "cell_type": "markdown",
   "metadata": {},
   "source": [
    "### Check types"
   ]
  },
  {
   "cell_type": "code",
   "execution_count": 12,
   "metadata": {},
   "outputs": [
    {
     "data": {
      "text/plain": [
       "neighbourhood_group                object\n",
       "room_type                          object\n",
       "latitude                          float64\n",
       "longitude                         float64\n",
       "price                               int64\n",
       "minimum_nights                      int64\n",
       "number_of_reviews                   int64\n",
       "reviews_per_month                 float64\n",
       "calculated_host_listings_count      int64\n",
       "availability_365                    int64\n",
       "dtype: object"
      ]
     },
     "execution_count": 12,
     "metadata": {},
     "output_type": "execute_result"
    }
   ],
   "source": [
    "df.dtypes"
   ]
  },
  {
   "cell_type": "markdown",
   "metadata": {},
   "source": [
    "---"
   ]
  },
  {
   "cell_type": "markdown",
   "metadata": {},
   "source": [
    "## Question 1\n",
    "\n",
    "What is the most frequent observation (mode) for the column 'neighbourhood_group'?"
   ]
  },
  {
   "cell_type": "code",
   "execution_count": 111,
   "metadata": {},
   "outputs": [
    {
     "data": {
      "text/plain": [
       "manhattan        21661\n",
       "brooklyn         20104\n",
       "queens            5666\n",
       "bronx             1091\n",
       "staten island      373\n",
       "Name: neighbourhood_group, dtype: int64"
      ]
     },
     "execution_count": 111,
     "metadata": {},
     "output_type": "execute_result"
    }
   ],
   "source": [
    "df['neighbourhood_group'].value_counts()"
   ]
  },
  {
   "cell_type": "markdown",
   "metadata": {},
   "source": [
    "### ANSWER: \n",
    "`manhattan` with 21661 entries"
   ]
  },
  {
   "cell_type": "markdown",
   "metadata": {},
   "source": [
    "---"
   ]
  },
  {
   "cell_type": "markdown",
   "metadata": {},
   "source": [
    "## Separate X and y"
   ]
  },
  {
   "cell_type": "code",
   "execution_count": 14,
   "metadata": {},
   "outputs": [
    {
     "data": {
      "text/plain": [
       "0    149\n",
       "1    225\n",
       "2    150\n",
       "Name: price, dtype: int64"
      ]
     },
     "execution_count": 14,
     "metadata": {},
     "output_type": "execute_result"
    }
   ],
   "source": [
    "y = df['price']\n",
    "y.head(3)"
   ]
  },
  {
   "cell_type": "code",
   "execution_count": 15,
   "metadata": {},
   "outputs": [
    {
     "data": {
      "text/html": [
       "<div>\n",
       "<style scoped>\n",
       "    .dataframe tbody tr th:only-of-type {\n",
       "        vertical-align: middle;\n",
       "    }\n",
       "\n",
       "    .dataframe tbody tr th {\n",
       "        vertical-align: top;\n",
       "    }\n",
       "\n",
       "    .dataframe thead th {\n",
       "        text-align: right;\n",
       "    }\n",
       "</style>\n",
       "<table border=\"1\" class=\"dataframe\">\n",
       "  <thead>\n",
       "    <tr style=\"text-align: right;\">\n",
       "      <th></th>\n",
       "      <th>neighbourhood_group</th>\n",
       "      <th>room_type</th>\n",
       "      <th>latitude</th>\n",
       "      <th>longitude</th>\n",
       "      <th>minimum_nights</th>\n",
       "      <th>number_of_reviews</th>\n",
       "      <th>reviews_per_month</th>\n",
       "      <th>calculated_host_listings_count</th>\n",
       "      <th>availability_365</th>\n",
       "    </tr>\n",
       "  </thead>\n",
       "  <tbody>\n",
       "    <tr>\n",
       "      <th>0</th>\n",
       "      <td>brooklyn</td>\n",
       "      <td>private room</td>\n",
       "      <td>40.64749</td>\n",
       "      <td>-73.97237</td>\n",
       "      <td>1</td>\n",
       "      <td>9</td>\n",
       "      <td>0.21</td>\n",
       "      <td>6</td>\n",
       "      <td>365</td>\n",
       "    </tr>\n",
       "    <tr>\n",
       "      <th>1</th>\n",
       "      <td>manhattan</td>\n",
       "      <td>entire home/apt</td>\n",
       "      <td>40.75362</td>\n",
       "      <td>-73.98377</td>\n",
       "      <td>1</td>\n",
       "      <td>45</td>\n",
       "      <td>0.38</td>\n",
       "      <td>2</td>\n",
       "      <td>355</td>\n",
       "    </tr>\n",
       "    <tr>\n",
       "      <th>2</th>\n",
       "      <td>manhattan</td>\n",
       "      <td>private room</td>\n",
       "      <td>40.80902</td>\n",
       "      <td>-73.94190</td>\n",
       "      <td>3</td>\n",
       "      <td>0</td>\n",
       "      <td>0.00</td>\n",
       "      <td>1</td>\n",
       "      <td>365</td>\n",
       "    </tr>\n",
       "  </tbody>\n",
       "</table>\n",
       "</div>"
      ],
      "text/plain": [
       "  neighbourhood_group        room_type  latitude  longitude  minimum_nights  \\\n",
       "0            brooklyn     private room  40.64749  -73.97237               1   \n",
       "1           manhattan  entire home/apt  40.75362  -73.98377               1   \n",
       "2           manhattan     private room  40.80902  -73.94190               3   \n",
       "\n",
       "   number_of_reviews  reviews_per_month  calculated_host_listings_count  \\\n",
       "0                  9               0.21                               6   \n",
       "1                 45               0.38                               2   \n",
       "2                  0               0.00                               1   \n",
       "\n",
       "   availability_365  \n",
       "0               365  \n",
       "1               355  \n",
       "2               365  "
      ]
     },
     "execution_count": 15,
     "metadata": {},
     "output_type": "execute_result"
    }
   ],
   "source": [
    "del df['price']\n",
    "df.head(3)"
   ]
  },
  {
   "cell_type": "markdown",
   "metadata": {},
   "source": [
    "## Split the data\n",
    "\n",
    "\n",
    "- Split your data in train/val/test sets, with 60%/20%/20% distribution.\n",
    "- Use Scikit-Learn for that (the train_test_split function) and set the seed to 42.\n",
    "- Make sure that the target value ('price') is not in your dataframe."
   ]
  },
  {
   "cell_type": "code",
   "execution_count": 16,
   "metadata": {},
   "outputs": [],
   "source": [
    "from sklearn.model_selection import train_test_split"
   ]
  },
  {
   "cell_type": "code",
   "execution_count": 17,
   "metadata": {},
   "outputs": [],
   "source": [
    "df_train_full, df_test, y_train_full, y_test = train_test_split(df, y, test_size=0.2, random_state=42)"
   ]
  },
  {
   "cell_type": "code",
   "execution_count": 18,
   "metadata": {},
   "outputs": [],
   "source": [
    "df_train, df_valid, y_train, y_valid = train_test_split(df_train_full, y_train_full, test_size=df_test.shape[0], random_state=42)"
   ]
  },
  {
   "cell_type": "markdown",
   "metadata": {},
   "source": [
    "#### Check if the splits sizes"
   ]
  },
  {
   "cell_type": "code",
   "execution_count": 19,
   "metadata": {},
   "outputs": [
    {
     "data": {
      "text/plain": [
       "((48895, 9), (39116, 9), (29337, 9), (9779, 9), (9779, 9))"
      ]
     },
     "execution_count": 19,
     "metadata": {},
     "output_type": "execute_result"
    }
   ],
   "source": [
    "df.shape, df_train_full.shape, df_train.shape, df_valid.shape, df_test.shape"
   ]
  },
  {
   "cell_type": "code",
   "execution_count": 20,
   "metadata": {},
   "outputs": [
    {
     "data": {
      "text/plain": [
       "True"
      ]
     },
     "execution_count": 20,
     "metadata": {},
     "output_type": "execute_result"
    }
   ],
   "source": [
    "df.shape[0] == (df_train.shape[0] + df_valid.shape[0] + df_test.shape[0])"
   ]
  },
  {
   "cell_type": "code",
   "execution_count": 21,
   "metadata": {},
   "outputs": [
    {
     "data": {
      "text/plain": [
       "((48895,), (39116,), (29337,), (9779,), (9779,))"
      ]
     },
     "execution_count": 21,
     "metadata": {},
     "output_type": "execute_result"
    }
   ],
   "source": [
    "y.shape, y_train_full.shape, y_train.shape, y_valid.shape, y_test.shape"
   ]
  },
  {
   "cell_type": "code",
   "execution_count": 22,
   "metadata": {},
   "outputs": [
    {
     "data": {
      "text/plain": [
       "True"
      ]
     },
     "execution_count": 22,
     "metadata": {},
     "output_type": "execute_result"
    }
   ],
   "source": [
    "y.shape[0] == (y_train.shape[0] + y_valid.shape[0] + y_test.shape[0])"
   ]
  },
  {
   "cell_type": "markdown",
   "metadata": {},
   "source": [
    "---"
   ]
  },
  {
   "cell_type": "markdown",
   "metadata": {},
   "source": [
    "## Question 2\n",
    "\n",
    "- Create the correlation matrix for the numerical features of your train dataset.\n",
    "- In a correlation matrix, you compute the correlation coefficient between every pair of features in the dataset.\n",
    "\n",
    "What are the two features that have the biggest correlation in this dataset?"
   ]
  },
  {
   "cell_type": "code",
   "execution_count": 23,
   "metadata": {},
   "outputs": [],
   "source": [
    "numerical = [\n",
    "    'latitude',\n",
    "    'longitude',\n",
    "    #'price',\n",
    "    'minimum_nights',\n",
    "    'number_of_reviews',\n",
    "    'reviews_per_month',\n",
    "    'calculated_host_listings_count',\n",
    "    'availability_365',]\n",
    "\n",
    "categorical = [\n",
    "    'neighbourhood_group',\n",
    "    'room_type',\n",
    "]"
   ]
  },
  {
   "cell_type": "code",
   "execution_count": 24,
   "metadata": {},
   "outputs": [
    {
     "data": {
      "text/html": [
       "<div>\n",
       "<style scoped>\n",
       "    .dataframe tbody tr th:only-of-type {\n",
       "        vertical-align: middle;\n",
       "    }\n",
       "\n",
       "    .dataframe tbody tr th {\n",
       "        vertical-align: top;\n",
       "    }\n",
       "\n",
       "    .dataframe thead th {\n",
       "        text-align: right;\n",
       "    }\n",
       "</style>\n",
       "<table border=\"1\" class=\"dataframe\">\n",
       "  <thead>\n",
       "    <tr style=\"text-align: right;\">\n",
       "      <th></th>\n",
       "      <th>latitude</th>\n",
       "      <th>longitude</th>\n",
       "      <th>minimum_nights</th>\n",
       "      <th>number_of_reviews</th>\n",
       "      <th>reviews_per_month</th>\n",
       "      <th>calculated_host_listings_count</th>\n",
       "      <th>availability_365</th>\n",
       "    </tr>\n",
       "  </thead>\n",
       "  <tbody>\n",
       "    <tr>\n",
       "      <th>latitude</th>\n",
       "      <td>1.000000</td>\n",
       "      <td>0.080301</td>\n",
       "      <td>0.027441</td>\n",
       "      <td>-0.006246</td>\n",
       "      <td>-0.007159</td>\n",
       "      <td>0.019375</td>\n",
       "      <td>-0.005891</td>\n",
       "    </tr>\n",
       "    <tr>\n",
       "      <th>longitude</th>\n",
       "      <td>0.080301</td>\n",
       "      <td>1.000000</td>\n",
       "      <td>-0.060660</td>\n",
       "      <td>0.055084</td>\n",
       "      <td>0.134642</td>\n",
       "      <td>-0.117041</td>\n",
       "      <td>0.083666</td>\n",
       "    </tr>\n",
       "    <tr>\n",
       "      <th>minimum_nights</th>\n",
       "      <td>0.027441</td>\n",
       "      <td>-0.060660</td>\n",
       "      <td>1.000000</td>\n",
       "      <td>-0.076020</td>\n",
       "      <td>-0.120703</td>\n",
       "      <td>0.118647</td>\n",
       "      <td>0.138901</td>\n",
       "    </tr>\n",
       "    <tr>\n",
       "      <th>number_of_reviews</th>\n",
       "      <td>-0.006246</td>\n",
       "      <td>0.055084</td>\n",
       "      <td>-0.076020</td>\n",
       "      <td>1.000000</td>\n",
       "      <td>0.590374</td>\n",
       "      <td>-0.073167</td>\n",
       "      <td>0.174477</td>\n",
       "    </tr>\n",
       "    <tr>\n",
       "      <th>reviews_per_month</th>\n",
       "      <td>-0.007159</td>\n",
       "      <td>0.134642</td>\n",
       "      <td>-0.120703</td>\n",
       "      <td>0.590374</td>\n",
       "      <td>1.000000</td>\n",
       "      <td>-0.048767</td>\n",
       "      <td>0.165376</td>\n",
       "    </tr>\n",
       "    <tr>\n",
       "      <th>calculated_host_listings_count</th>\n",
       "      <td>0.019375</td>\n",
       "      <td>-0.117041</td>\n",
       "      <td>0.118647</td>\n",
       "      <td>-0.073167</td>\n",
       "      <td>-0.048767</td>\n",
       "      <td>1.000000</td>\n",
       "      <td>0.225913</td>\n",
       "    </tr>\n",
       "    <tr>\n",
       "      <th>availability_365</th>\n",
       "      <td>-0.005891</td>\n",
       "      <td>0.083666</td>\n",
       "      <td>0.138901</td>\n",
       "      <td>0.174477</td>\n",
       "      <td>0.165376</td>\n",
       "      <td>0.225913</td>\n",
       "      <td>1.000000</td>\n",
       "    </tr>\n",
       "  </tbody>\n",
       "</table>\n",
       "</div>"
      ],
      "text/plain": [
       "                                latitude  longitude  minimum_nights  \\\n",
       "latitude                        1.000000   0.080301        0.027441   \n",
       "longitude                       0.080301   1.000000       -0.060660   \n",
       "minimum_nights                  0.027441  -0.060660        1.000000   \n",
       "number_of_reviews              -0.006246   0.055084       -0.076020   \n",
       "reviews_per_month              -0.007159   0.134642       -0.120703   \n",
       "calculated_host_listings_count  0.019375  -0.117041        0.118647   \n",
       "availability_365               -0.005891   0.083666        0.138901   \n",
       "\n",
       "                                number_of_reviews  reviews_per_month  \\\n",
       "latitude                                -0.006246          -0.007159   \n",
       "longitude                                0.055084           0.134642   \n",
       "minimum_nights                          -0.076020          -0.120703   \n",
       "number_of_reviews                        1.000000           0.590374   \n",
       "reviews_per_month                        0.590374           1.000000   \n",
       "calculated_host_listings_count          -0.073167          -0.048767   \n",
       "availability_365                         0.174477           0.165376   \n",
       "\n",
       "                                calculated_host_listings_count  \\\n",
       "latitude                                              0.019375   \n",
       "longitude                                            -0.117041   \n",
       "minimum_nights                                        0.118647   \n",
       "number_of_reviews                                    -0.073167   \n",
       "reviews_per_month                                    -0.048767   \n",
       "calculated_host_listings_count                        1.000000   \n",
       "availability_365                                      0.225913   \n",
       "\n",
       "                                availability_365  \n",
       "latitude                               -0.005891  \n",
       "longitude                               0.083666  \n",
       "minimum_nights                          0.138901  \n",
       "number_of_reviews                       0.174477  \n",
       "reviews_per_month                       0.165376  \n",
       "calculated_host_listings_count          0.225913  \n",
       "availability_365                        1.000000  "
      ]
     },
     "execution_count": 24,
     "metadata": {},
     "output_type": "execute_result"
    }
   ],
   "source": [
    "df_train[numerical].corr()"
   ]
  },
  {
   "cell_type": "code",
   "execution_count": 25,
   "metadata": {},
   "outputs": [
    {
     "data": {
      "text/html": [
       "<div>\n",
       "<style scoped>\n",
       "    .dataframe tbody tr th:only-of-type {\n",
       "        vertical-align: middle;\n",
       "    }\n",
       "\n",
       "    .dataframe tbody tr th {\n",
       "        vertical-align: top;\n",
       "    }\n",
       "\n",
       "    .dataframe thead th {\n",
       "        text-align: right;\n",
       "    }\n",
       "</style>\n",
       "<table border=\"1\" class=\"dataframe\">\n",
       "  <thead>\n",
       "    <tr style=\"text-align: right;\">\n",
       "      <th></th>\n",
       "      <th>latitude</th>\n",
       "      <th>longitude</th>\n",
       "      <th>minimum_nights</th>\n",
       "      <th>number_of_reviews</th>\n",
       "      <th>reviews_per_month</th>\n",
       "      <th>calculated_host_listings_count</th>\n",
       "      <th>availability_365</th>\n",
       "    </tr>\n",
       "  </thead>\n",
       "  <tbody>\n",
       "    <tr>\n",
       "      <th>latitude</th>\n",
       "      <td>1.000000</td>\n",
       "      <td>0.080301</td>\n",
       "      <td>0.027441</td>\n",
       "      <td>-0.006246</td>\n",
       "      <td>-0.007159</td>\n",
       "      <td>0.019375</td>\n",
       "      <td>-0.005891</td>\n",
       "    </tr>\n",
       "    <tr>\n",
       "      <th>longitude</th>\n",
       "      <td>0.080301</td>\n",
       "      <td>1.000000</td>\n",
       "      <td>-0.060660</td>\n",
       "      <td>0.055084</td>\n",
       "      <td>0.134642</td>\n",
       "      <td>-0.117041</td>\n",
       "      <td>0.083666</td>\n",
       "    </tr>\n",
       "    <tr>\n",
       "      <th>minimum_nights</th>\n",
       "      <td>0.027441</td>\n",
       "      <td>-0.060660</td>\n",
       "      <td>1.000000</td>\n",
       "      <td>-0.076020</td>\n",
       "      <td>-0.120703</td>\n",
       "      <td>0.118647</td>\n",
       "      <td>0.138901</td>\n",
       "    </tr>\n",
       "    <tr>\n",
       "      <th>number_of_reviews</th>\n",
       "      <td>-0.006246</td>\n",
       "      <td>0.055084</td>\n",
       "      <td>-0.076020</td>\n",
       "      <td>1.000000</td>\n",
       "      <td>0.590374</td>\n",
       "      <td>-0.073167</td>\n",
       "      <td>0.174477</td>\n",
       "    </tr>\n",
       "    <tr>\n",
       "      <th>reviews_per_month</th>\n",
       "      <td>-0.007159</td>\n",
       "      <td>0.134642</td>\n",
       "      <td>-0.120703</td>\n",
       "      <td>0.590374</td>\n",
       "      <td>1.000000</td>\n",
       "      <td>-0.048767</td>\n",
       "      <td>0.165376</td>\n",
       "    </tr>\n",
       "    <tr>\n",
       "      <th>calculated_host_listings_count</th>\n",
       "      <td>0.019375</td>\n",
       "      <td>-0.117041</td>\n",
       "      <td>0.118647</td>\n",
       "      <td>-0.073167</td>\n",
       "      <td>-0.048767</td>\n",
       "      <td>1.000000</td>\n",
       "      <td>0.225913</td>\n",
       "    </tr>\n",
       "    <tr>\n",
       "      <th>availability_365</th>\n",
       "      <td>-0.005891</td>\n",
       "      <td>0.083666</td>\n",
       "      <td>0.138901</td>\n",
       "      <td>0.174477</td>\n",
       "      <td>0.165376</td>\n",
       "      <td>0.225913</td>\n",
       "      <td>1.000000</td>\n",
       "    </tr>\n",
       "  </tbody>\n",
       "</table>\n",
       "</div>"
      ],
      "text/plain": [
       "                                latitude  longitude  minimum_nights  \\\n",
       "latitude                        1.000000   0.080301        0.027441   \n",
       "longitude                       0.080301   1.000000       -0.060660   \n",
       "minimum_nights                  0.027441  -0.060660        1.000000   \n",
       "number_of_reviews              -0.006246   0.055084       -0.076020   \n",
       "reviews_per_month              -0.007159   0.134642       -0.120703   \n",
       "calculated_host_listings_count  0.019375  -0.117041        0.118647   \n",
       "availability_365               -0.005891   0.083666        0.138901   \n",
       "\n",
       "                                number_of_reviews  reviews_per_month  \\\n",
       "latitude                                -0.006246          -0.007159   \n",
       "longitude                                0.055084           0.134642   \n",
       "minimum_nights                          -0.076020          -0.120703   \n",
       "number_of_reviews                        1.000000           0.590374   \n",
       "reviews_per_month                        0.590374           1.000000   \n",
       "calculated_host_listings_count          -0.073167          -0.048767   \n",
       "availability_365                         0.174477           0.165376   \n",
       "\n",
       "                                calculated_host_listings_count  \\\n",
       "latitude                                              0.019375   \n",
       "longitude                                            -0.117041   \n",
       "minimum_nights                                        0.118647   \n",
       "number_of_reviews                                    -0.073167   \n",
       "reviews_per_month                                    -0.048767   \n",
       "calculated_host_listings_count                        1.000000   \n",
       "availability_365                                      0.225913   \n",
       "\n",
       "                                availability_365  \n",
       "latitude                               -0.005891  \n",
       "longitude                               0.083666  \n",
       "minimum_nights                          0.138901  \n",
       "number_of_reviews                       0.174477  \n",
       "reviews_per_month                       0.165376  \n",
       "calculated_host_listings_count          0.225913  \n",
       "availability_365                        1.000000  "
      ]
     },
     "execution_count": 25,
     "metadata": {},
     "output_type": "execute_result"
    }
   ],
   "source": [
    "df_train[numerical].corr()"
   ]
  },
  {
   "cell_type": "code",
   "execution_count": 26,
   "metadata": {},
   "outputs": [
    {
     "name": "stdout",
     "output_type": "stream",
     "text": [
      "latitude 0.08030088258319117\n",
      "longitude 0.13464215986450567\n",
      "minimum_nights 0.13890125161844732\n",
      "number_of_reviews 0.5903739015971663\n",
      "reviews_per_month 0.5903739015971663\n",
      "calculated_host_listings_count 0.22591308547640596\n",
      "availability_365 0.22591308547640596\n"
     ]
    }
   ],
   "source": [
    "corr = df_train[numerical].corr()\n",
    "for i, n in enumerate(numerical):\n",
    "    max_col_corr = corr[n].sort_values(ascending=False)[1]\n",
    "    \n",
    "    print(corr.columns[i], max_col_corr)"
   ]
  },
  {
   "cell_type": "markdown",
   "metadata": {},
   "source": [
    "### ANSWER: \n",
    "`number_of_reviews` and `reviews_per_month` with a correlation of 0.5903739015971663"
   ]
  },
  {
   "cell_type": "markdown",
   "metadata": {},
   "source": [
    "---"
   ]
  },
  {
   "cell_type": "markdown",
   "metadata": {},
   "source": [
    "## Make price binary\n",
    "\n",
    "- We need to turn the price variable from numeric into binary.\n",
    "- Let's create a variable above_average which is 1 if the price is above (or equal to) 152.\n"
   ]
  },
  {
   "cell_type": "code",
   "execution_count": 27,
   "metadata": {},
   "outputs": [
    {
     "data": {
      "text/plain": [
       "13575    0\n",
       "48476    0\n",
       "44499    0\n",
       "17382    0\n",
       "14638    0\n",
       "        ..\n",
       "13198    0\n",
       "14583    0\n",
       "6168     1\n",
       "12248    0\n",
       "20523    0\n",
       "Name: price, Length: 29337, dtype: int64"
      ]
     },
     "execution_count": 27,
     "metadata": {},
     "output_type": "execute_result"
    }
   ],
   "source": [
    "def prepare_y(y):\n",
    "    above_average = y >= 152\n",
    "    return  above_average.astype(int)\n",
    "    \n",
    "y_bin_train = prepare_y(y_train)\n",
    "y_bin_train"
   ]
  },
  {
   "cell_type": "markdown",
   "metadata": {},
   "source": [
    "---"
   ]
  },
  {
   "cell_type": "markdown",
   "metadata": {},
   "source": [
    "## Question 3\n",
    "\n",
    "- Calculate the mutual information score with the (binarized) price for the two categorical variables that we have.\n",
    "- Use the training set only.\n",
    "- Round it to 2 decimal digits using round(score, 2)\n",
    "\n",
    "Which of these two variables has bigger score?\n",
    "\n"
   ]
  },
  {
   "cell_type": "code",
   "execution_count": 28,
   "metadata": {},
   "outputs": [],
   "source": [
    "from sklearn.metrics import mutual_info_score"
   ]
  },
  {
   "cell_type": "code",
   "execution_count": 29,
   "metadata": {},
   "outputs": [
    {
     "name": "stdout",
     "output_type": "stream",
     "text": [
      "neighbourhood_group -> 0.05\n",
      "room_type -> 0.14\n"
     ]
    }
   ],
   "source": [
    "for c in categorical:\n",
    "    print(f\"{c} -> {round(mutual_info_score(y_bin_train, df_train[c]),2)}\")"
   ]
  },
  {
   "cell_type": "markdown",
   "metadata": {},
   "source": [
    "### ANSWER: \n",
    "`room_type` has a highest mutual information score (0.14 vs 0.05)"
   ]
  },
  {
   "cell_type": "markdown",
   "metadata": {},
   "source": [
    "---"
   ]
  },
  {
   "cell_type": "markdown",
   "metadata": {},
   "source": [
    "## Question 4\n",
    "\n",
    "- Now let's train a logistic regression\n",
    "- Remember that we have two categorical variables in the data.\n",
    "    - Include them using one-hot encoding.\n",
    "- Fit the model on the training dataset.\n",
    "- To make sure the results are reproducible across different versions of Scikit-Learn, fit the model with these parameters:\n",
    "    - model = LogisticRegression(solver='lbfgs', C=1.0, random_state=42)\n",
    "    \n",
    "Calculate the accuracy on the validation dataset and rount it to 2 decimal digits.\n"
   ]
  },
  {
   "cell_type": "markdown",
   "metadata": {},
   "source": [
    "### Features scaling"
   ]
  },
  {
   "cell_type": "raw",
   "metadata": {},
   "source": [
    "def feature_scaling(df, feature):\n",
    "    col = df['latitude']\n",
    "    return (col - col.mean())/col.std() "
   ]
  },
  {
   "cell_type": "raw",
   "metadata": {},
   "source": [
    "def prepare_X(df):\n",
    "    df = df.copy()\n",
    "    \n",
    "    for f in numerical:\n",
    "        df[f] = feature_scaling(df, f)\n",
    "    \n",
    "    return df"
   ]
  },
  {
   "cell_type": "raw",
   "metadata": {},
   "source": [
    "df_train_fs = prepare_X(df_train)\n",
    "df_valid_fs = prepare_X(df_valid)\n",
    "df_test_fs = prepare_X(df_test)\n",
    "df_train_fs"
   ]
  },
  {
   "cell_type": "markdown",
   "metadata": {},
   "source": [
    "### One-hot encoding"
   ]
  },
  {
   "cell_type": "code",
   "execution_count": 30,
   "metadata": {},
   "outputs": [],
   "source": [
    "from sklearn.feature_extraction import DictVectorizer"
   ]
  },
  {
   "cell_type": "code",
   "execution_count": 31,
   "metadata": {},
   "outputs": [
    {
     "data": {
      "text/plain": [
       "array([[ 50.     ,  13.     ,  40.7276 , ...,   1.     ,   0.     ,\n",
       "          0.     ],\n",
       "       [  7.     ,   1.     ,  40.70847, ...,   0.     ,   1.     ,\n",
       "          0.     ],\n",
       "       [  0.     ,   1.     ,  40.83149, ...,   1.     ,   0.     ,\n",
       "          0.     ],\n",
       "       ...,\n",
       "       [ 88.     ,   1.     ,  40.79994, ...,   0.     ,   1.     ,\n",
       "          0.     ],\n",
       "       [  0.     ,   1.     ,  40.69585, ...,   0.     ,   1.     ,\n",
       "          0.     ],\n",
       "       [281.     ,   2.     ,  40.64438, ...,   1.     ,   0.     ,\n",
       "          0.     ]])"
      ]
     },
     "execution_count": 31,
     "metadata": {},
     "output_type": "execute_result"
    }
   ],
   "source": [
    "dv = DictVectorizer(sparse=False)\n",
    "\n",
    "train_dict = df_train[numerical + categorical].to_dict(orient='records')\n",
    "X_train = dv.fit_transform(train_dict)\n",
    "X_train"
   ]
  },
  {
   "cell_type": "code",
   "execution_count": 32,
   "metadata": {},
   "outputs": [
    {
     "data": {
      "text/plain": [
       "['availability_365',\n",
       " 'calculated_host_listings_count',\n",
       " 'latitude',\n",
       " 'longitude',\n",
       " 'minimum_nights',\n",
       " 'neighbourhood_group=bronx',\n",
       " 'neighbourhood_group=brooklyn',\n",
       " 'neighbourhood_group=manhattan',\n",
       " 'neighbourhood_group=queens',\n",
       " 'neighbourhood_group=staten island',\n",
       " 'number_of_reviews',\n",
       " 'reviews_per_month',\n",
       " 'room_type=entire home/apt',\n",
       " 'room_type=private room',\n",
       " 'room_type=shared room']"
      ]
     },
     "execution_count": 32,
     "metadata": {},
     "output_type": "execute_result"
    }
   ],
   "source": [
    "dv.feature_names_"
   ]
  },
  {
   "cell_type": "code",
   "execution_count": 33,
   "metadata": {},
   "outputs": [
    {
     "data": {
      "text/plain": [
       "array([ 50.     ,  13.     ,  40.7276 , -73.94495,   3.     ,   0.     ,\n",
       "         1.     ,   0.     ,   0.     ,   0.     ,  29.     ,   0.7    ,\n",
       "         1.     ,   0.     ,   0.     ])"
      ]
     },
     "execution_count": 33,
     "metadata": {},
     "output_type": "execute_result"
    }
   ],
   "source": [
    "X_train[0]"
   ]
  },
  {
   "cell_type": "code",
   "execution_count": 34,
   "metadata": {},
   "outputs": [
    {
     "data": {
      "text/plain": [
       "neighbourhood_group                      brooklyn\n",
       "room_type                         entire home/apt\n",
       "latitude                                  40.7276\n",
       "longitude                               -73.94495\n",
       "minimum_nights                                  3\n",
       "number_of_reviews                              29\n",
       "reviews_per_month                             0.7\n",
       "calculated_host_listings_count                 13\n",
       "availability_365                               50\n",
       "Name: 13575, dtype: object"
      ]
     },
     "execution_count": 34,
     "metadata": {},
     "output_type": "execute_result"
    }
   ],
   "source": [
    "df_train.iloc[0]"
   ]
  },
  {
   "cell_type": "markdown",
   "metadata": {},
   "source": [
    "### Train logistic regression"
   ]
  },
  {
   "cell_type": "code",
   "execution_count": 35,
   "metadata": {},
   "outputs": [],
   "source": [
    "from sklearn.linear_model import LogisticRegression"
   ]
  },
  {
   "cell_type": "code",
   "execution_count": 36,
   "metadata": {},
   "outputs": [],
   "source": [
    "model = LogisticRegression(solver='liblinear', C=1.0, random_state=42)\n",
    "#model = LogisticRegression(solver='lbfgs', C=1.0, random_state=42)"
   ]
  },
  {
   "cell_type": "code",
   "execution_count": 37,
   "metadata": {},
   "outputs": [
    {
     "data": {
      "text/plain": [
       "LogisticRegression(random_state=42, solver='liblinear')"
      ]
     },
     "execution_count": 37,
     "metadata": {},
     "output_type": "execute_result"
    }
   ],
   "source": [
    "model.fit(X_train, y_bin_train)"
   ]
  },
  {
   "cell_type": "code",
   "execution_count": 38,
   "metadata": {},
   "outputs": [
    {
     "data": {
      "text/plain": [
       "(-0.09189354154877066,\n",
       " array([ 3.000e-03,  4.000e-03, -5.814e+00, -3.164e+00, -1.100e-02,\n",
       "        -8.400e-02,  1.250e-01,  1.575e+00, -3.000e-02, -1.677e+00,\n",
       "        -3.000e-03, -4.200e-02,  1.960e+00, -8.170e-01, -1.235e+00]))"
      ]
     },
     "execution_count": 38,
     "metadata": {},
     "output_type": "execute_result"
    }
   ],
   "source": [
    "model.intercept_[0], model.coef_[0].round(3)"
   ]
  },
  {
   "cell_type": "code",
   "execution_count": 39,
   "metadata": {},
   "outputs": [
    {
     "data": {
      "text/plain": [
       "array([0, 0, 0, ..., 0, 0, 1])"
      ]
     },
     "execution_count": 39,
     "metadata": {},
     "output_type": "execute_result"
    }
   ],
   "source": [
    "y_bin_train_pred = model.predict(X_train)\n",
    "y_bin_train_pred"
   ]
  },
  {
   "cell_type": "code",
   "execution_count": 40,
   "metadata": {},
   "outputs": [
    {
     "data": {
      "text/plain": [
       "0.79"
      ]
     },
     "execution_count": 40,
     "metadata": {},
     "output_type": "execute_result"
    }
   ],
   "source": [
    "acc = (y_bin_train == y_bin_train_pred).mean()\n",
    "acc.round(2)"
   ]
  },
  {
   "cell_type": "code",
   "execution_count": 41,
   "metadata": {},
   "outputs": [],
   "source": [
    "valid_dict = df_valid[numerical + categorical].to_dict(orient='records')\n",
    "X_valid = dv.fit_transform(valid_dict)"
   ]
  },
  {
   "cell_type": "code",
   "execution_count": 42,
   "metadata": {},
   "outputs": [
    {
     "data": {
      "text/plain": [
       "array([0, 1, 0, ..., 0, 0, 1])"
      ]
     },
     "execution_count": 42,
     "metadata": {},
     "output_type": "execute_result"
    }
   ],
   "source": [
    "y_bin_valid_pred = model.predict(X_valid)\n",
    "y_bin_valid_pred"
   ]
  },
  {
   "cell_type": "code",
   "execution_count": 43,
   "metadata": {},
   "outputs": [
    {
     "data": {
      "text/plain": [
       "27408    0\n",
       "7741     0\n",
       "4771     1\n",
       "1719     0\n",
       "19153    1\n",
       "        ..\n",
       "31286    1\n",
       "35694    0\n",
       "14003    0\n",
       "13892    0\n",
       "10029    0\n",
       "Name: price, Length: 9779, dtype: int64"
      ]
     },
     "execution_count": 43,
     "metadata": {},
     "output_type": "execute_result"
    }
   ],
   "source": [
    "y_bin_valid = prepare_y(y_valid)\n",
    "y_bin_valid"
   ]
  },
  {
   "cell_type": "code",
   "execution_count": 44,
   "metadata": {},
   "outputs": [
    {
     "data": {
      "text/plain": [
       "0.79"
      ]
     },
     "execution_count": 44,
     "metadata": {},
     "output_type": "execute_result"
    }
   ],
   "source": [
    "acc = (y_bin_valid == y_bin_valid_pred).mean()\n",
    "acc.round(2)"
   ]
  },
  {
   "cell_type": "markdown",
   "metadata": {},
   "source": [
    "### ANSWER: \n",
    "the validation set accuracy is `0.79` (0.69 is the value when always predicting 0)"
   ]
  },
  {
   "cell_type": "markdown",
   "metadata": {},
   "source": [
    "---"
   ]
  },
  {
   "cell_type": "markdown",
   "metadata": {},
   "source": [
    "## Question 5\n",
    "\n",
    "- We have 9 features: 7 numerical features and 2 categorical.\n",
    "- Let's find the least useful one using the feature elimination technique.\n",
    "- Train a model with all these features (using the same parameters as in Q4).\n",
    "- Now exclude each feature from this set and train a model without it. Record the accuracy for each model.\n",
    "- For each feature, calculate the difference between the original accuracy and the accuracy without the feature.\n",
    "\n",
    "Which of following feature has the smallest difference?\n",
    "- neighbourhood_group\n",
    "- room_type\n",
    "- number_of_reviews\n",
    "- reviews_per_month\n",
    "\n",
    "note: the difference doesn't have to be positive"
   ]
  },
  {
   "cell_type": "code",
   "execution_count": 45,
   "metadata": {
    "scrolled": false
   },
   "outputs": [
    {
     "name": "stdout",
     "output_type": "stream",
     "text": [
      "\n",
      "Train a model with all the features but neighbourhood_group\n",
      "\n",
      "0.75 -0.04090397791185196\n",
      "\n",
      "Train a model with all the features but calculated_host_listings_count\n",
      "\n",
      "0.789 -0.001329379282135279\n",
      "\n",
      "Train a model with all the features but room_type\n",
      "\n",
      "0.729 -0.06196952653645571\n",
      "\n",
      "Train a model with all the features but latitude\n",
      "\n",
      "0.787 -0.003988137846405615\n",
      "\n",
      "Train a model with all the features but longitude\n",
      "\n",
      "0.787 -0.0037836179568463413\n",
      "\n",
      "Train a model with all the features but reviews_per_month\n",
      "\n",
      "0.789 -0.0018406790060333522\n",
      "\n",
      "Train a model with all the features but number_of_reviews\n",
      "\n",
      "0.791 0.00040903977911843636\n",
      "\n",
      "Train a model with all the features but availability_365\n",
      "\n",
      "0.781 -0.009612434809285308\n",
      "\n",
      "Train a model with all the features but minimum_nights\n",
      "\n",
      "0.791 0.0007158196134573469\n",
      "\n",
      "\n",
      "0 ('number_of_reviews', 0.00040903977911843636)\n",
      "3 ('reviews_per_month', 0.0018406790060333522)\n",
      "7 ('neighbourhood_group', 0.04090397791185196)\n",
      "8 ('room_type', 0.06196952653645571)\n"
     ]
    }
   ],
   "source": [
    "from itertools import zip_longest\n",
    "\n",
    "results = {}\n",
    "\n",
    "all_features = set(categorical + numerical)\n",
    "for f in all_features:\n",
    "    print(f\"\\nTrain a model with all the features but {f}\\n\")\n",
    "    \n",
    "    rem_set = set([f])\n",
    "    diff = list(all_features - rem_set)\n",
    "    \n",
    "    # one-hot encoding\n",
    "    train_dict = df_train[diff].to_dict(orient='records')\n",
    "    X_train = dv.fit_transform(train_dict)\n",
    "    \n",
    "    valid_dict = df_valid[diff].to_dict(orient='records')\n",
    "    X_valid = dv.fit_transform(valid_dict)\n",
    "    \n",
    "    # create target values\n",
    "    y_bin_train = prepare_y(y_train)\n",
    "    y_bin_valid = prepare_y(y_valid)\n",
    "\n",
    "    # train on training-set\n",
    "    # model = LogisticRegression(solver='liblinear', C=1.0, random_state=42)\n",
    "    model.fit(X_train, y_bin_train)\n",
    "    \n",
    "    # predict on training-set\n",
    "    # y_bin_train_pred = model.predict(X_train)\n",
    "    # acct = (y_bin_train == y_bin_train_pred).mean()\n",
    "    \n",
    "    # predict on validation-set   \n",
    "    y_bin_valid_pred = model.predict(X_valid)\n",
    "    \n",
    "    # compute accuracy\n",
    "    accv = (y_bin_valid == y_bin_valid_pred).mean()\n",
    "    \n",
    "    results[f] = abs(accv-acc)\n",
    "    \n",
    "    print(accv.round(3), accv-acc)\n",
    "    \n",
    "print(\"\\n\")\n",
    "printed_features = [\n",
    "    \"neighbourhood_group\",\n",
    "    \"room_type\",\n",
    "    \"number_of_reviews\",\n",
    "    \"reviews_per_month\",\n",
    "]\n",
    "for i,v in enumerate(sorted(results.items(), key=lambda x : x[1])):\n",
    "    if v[0] in printed_features:\n",
    "        print(i, v)"
   ]
  },
  {
   "cell_type": "markdown",
   "metadata": {},
   "source": [
    "### ANSWER: \n",
    "the features with the smallest accuracy difference is `number_of_reviews` with 0.0004"
   ]
  },
  {
   "cell_type": "markdown",
   "metadata": {},
   "source": [
    "---"
   ]
  },
  {
   "cell_type": "markdown",
   "metadata": {},
   "source": [
    "## Question 6\n",
    "\n",
    "- For this question, we'll see how to use a linear regression model from Scikit-Learn\n",
    "- We'll need to use the original column 'price'. Apply the logarithmic transformation to this column.\n",
    "- Fit the Ridge regression model on the training data.\n",
    "- This model has a parameter alpha. Let's try the following values: [0, 0.01, 0.1, 1, 10]\n",
    "\n",
    "Which of these alphas leads to the best RMSE on the validation set? Round your RMSE scores to 3 decimal digits.\n",
    "\n",
    "- If there are multiple options, select the smallest alpha."
   ]
  },
  {
   "cell_type": "markdown",
   "metadata": {},
   "source": [
    "#### Check if the `price` column has long tail"
   ]
  },
  {
   "cell_type": "code",
   "execution_count": 103,
   "metadata": {},
   "outputs": [
    {
     "data": {
      "text/plain": [
       "<AxesSubplot:xlabel='price', ylabel='Count'>"
      ]
     },
     "execution_count": 103,
     "metadata": {},
     "output_type": "execute_result"
    },
    {
     "data": {
      "image/png": "[encoded data removed]",
      "text/plain": [
       "<Figure size 432x288 with 1 Axes>"
      ]
     },
     "metadata": {
      "needs_background": "light"
     },
     "output_type": "display_data"
    }
   ],
   "source": [
    "sns.histplot(y, bins=50)"
   ]
  },
  {
   "cell_type": "markdown",
   "metadata": {},
   "source": [
    "#### Fix long tail with `log`"
   ]
  },
  {
   "cell_type": "code",
   "execution_count": 104,
   "metadata": {},
   "outputs": [],
   "source": [
    "y_train_full_log = np.log1p(y_train_full)\n",
    "y_train_log = np.log1p(y_train)\n",
    "y_valid_log = np.log1p(y_valid)"
   ]
  },
  {
   "cell_type": "code",
   "execution_count": 105,
   "metadata": {},
   "outputs": [
    {
     "data": {
      "text/plain": [
       "<AxesSubplot:xlabel='price', ylabel='Count'>"
      ]
     },
     "execution_count": 105,
     "metadata": {},
     "output_type": "execute_result"
    },
    {
     "data": {
      "image/png": "[encoded data removed]",
      "text/plain": [
       "<Figure size 432x288 with 1 Axes>"
      ]
     },
     "metadata": {
      "needs_background": "light"
     },
     "output_type": "display_data"
    }
   ],
   "source": [
    "sns.histplot(y_train_log, bins=50)"
   ]
  },
  {
   "cell_type": "markdown",
   "metadata": {},
   "source": [
    "#### Prepare X training and validation sets"
   ]
  },
  {
   "cell_type": "code",
   "execution_count": 106,
   "metadata": {},
   "outputs": [],
   "source": [
    "# one-hot encoding\n",
    "train_dict = df_train[diff].to_dict(orient='records')\n",
    "X_train = dv.fit_transform(train_dict)\n",
    "\n",
    "valid_dict = df_valid[diff].to_dict(orient='records')\n",
    "X_valid = dv.fit_transform(valid_dict)"
   ]
  },
  {
   "cell_type": "markdown",
   "metadata": {},
   "source": [
    "### RMSE\n",
    "\n",
    "$ rmse = \\sqrt{mse} = \\sqrt{ \\frac{1}{m} \\sum_{i=1}^{m}{(se_i)^2} } = \\sqrt{ \\frac{1}{m} \\sum_{i=1}^{m}{(y_i - \\hat{y_i})^2} }$"
   ]
  },
  {
   "cell_type": "code",
   "execution_count": 107,
   "metadata": {},
   "outputs": [],
   "source": [
    "from sklearn.metrics import mean_squared_error"
   ]
  },
  {
   "cell_type": "code",
   "execution_count": 110,
   "metadata": {},
   "outputs": [],
   "source": [
    "def RMSE(y_true, y_pred):\n",
    "    se = (y_true - y_pred)**2\n",
    "    mse = np.mean(se)\n",
    "    return np.sqrt(mse)"
   ]
  },
  {
   "cell_type": "markdown",
   "metadata": {},
   "source": [
    "### Train linear regression (ridge) with various alpha values"
   ]
  },
  {
   "cell_type": "code",
   "execution_count": 109,
   "metadata": {},
   "outputs": [
    {
     "name": "stdout",
     "output_type": "stream",
     "text": [
      "alpha: 0 \t RMSE: 0.499 \t RMSE-sk: 0.499\n",
      "\n",
      "alpha: 0.01 \t RMSE: 0.499 \t RMSE-sk: 0.499\n",
      "\n",
      "alpha: 0.1 \t RMSE: 0.499 \t RMSE-sk: 0.499\n",
      "\n",
      "alpha: 1 \t RMSE: 0.499 \t RMSE-sk: 0.499\n",
      "\n",
      "alpha: 10 \t RMSE: 0.500 \t RMSE-sk: 0.500\n",
      "\n"
     ]
    }
   ],
   "source": [
    "alphas = [0, 0.01, 0.1, 1, 10]\n",
    "\n",
    "for a in alphas:\n",
    "    model = Ridge(alpha=a)\n",
    "    model.fit(X_train, y_train_log)\n",
    "    \n",
    "    y_valid_log_pred = model.predict(X_valid)\n",
    "    rmse = RMSE(y_valid_log, y_valid_log_pred)\n",
    "    rmse_sk = mean_squared_error(y_valid_log, y_valid_log_pred, squared=False)\n",
    "    print(f\"alpha: {a} \\t RMSE: {rmse:.3f} \\t RMSE-sk: {rmse_sk:.3f}\\n\")\n",
    "    "
   ]
  },
  {
   "cell_type": "markdown",
   "metadata": {},
   "source": [
    "### ANSWER:\n",
    "the best alpha is `0` with an RMSE of 0.499"
   ]
  },
  {
   "cell_type": "code",
   "execution_count": null,
   "metadata": {},
   "outputs": [],
   "source": []
  }
 ],
 "metadata": {
  "kernelspec": {
   "display_name": "Python 3",
   "language": "python",
   "name": "python3"
  },
  "language_info": {
   "codemirror_mode": {
    "name": "ipython",
    "version": 3
   },
   "file_extension": ".py",
   "mimetype": "text/x-python",
   "name": "python",
   "nbconvert_exporter": "python",
   "pygments_lexer": "ipython3",
   "version": "3.8.10"
  }
 },
 "nbformat": 4,
 "nbformat_minor": 4
}
