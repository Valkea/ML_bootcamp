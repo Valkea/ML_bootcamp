{
 "cells": [
  {
   "cell_type": "markdown",
   "metadata": {},
   "source": [
    "## 6.10 Homework\n",
    "\n",
    "The goal of this homework is to create a tree-based regression model for prediction apartment prices (column `'price'`).\n",
    "\n",
    "In this homework we'll again use the New York City Airbnb Open Data dataset - the same one we used in homework 2 and 3.\n",
    "\n",
    "You can take it from [Kaggle](https://www.kaggle.com/dgomonov/new-york-city-airbnb-open-data?select=AB_NYC_2019.csv)\n",
    "or download from [here](https://raw.githubusercontent.com/alexeygrigorev/datasets/master/AB_NYC_2019.csv)\n",
    "if you don't want to sign up to Kaggle.\n",
    "\n",
    "Let's load the data:"
   ]
  },
  {
   "cell_type": "code",
   "execution_count": 1,
   "metadata": {},
   "outputs": [],
   "source": [
    "import pandas as pd\n",
    "import numpy as np\n",
    "\n",
    "import matplotlib.pyplot as plt\n",
    "import seaborn as sns\n",
    "\n",
    "%matplotlib inline"
   ]
  },
  {
   "cell_type": "code",
   "execution_count": 2,
   "metadata": {},
   "outputs": [
    {
     "name": "stdout",
     "output_type": "stream",
     "text": [
      "Defaulting to user installation because normal site-packages is not writeable\n",
      "Requirement already satisfied: tqdm in /home/valkea/.local/lib/python3.8/site-packages (4.62.3)\n",
      "\u001b[33mWARNING: You are using pip version 21.2.4; however, version 21.3 is available.\n",
      "You should consider upgrading via the '/usr/bin/python -m pip install --upgrade pip' command.\u001b[0m\n",
      "Defaulting to user installation because normal site-packages is not writeable\n",
      "Requirement already satisfied: xgboost in /home/valkea/.local/lib/python3.8/site-packages (1.5.0)\n",
      "Requirement already satisfied: scipy in /usr/lib/python3/dist-packages (from xgboost) (1.3.3)\n",
      "Requirement already satisfied: numpy in /usr/local/lib/python3.8/dist-packages (from xgboost) (1.20.3)\n",
      "\u001b[33mWARNING: You are using pip version 21.2.4; however, version 21.3 is available.\n",
      "You should consider upgrading via the '/usr/bin/python -m pip install --upgrade pip' command.\u001b[0m\n"
     ]
    }
   ],
   "source": [
    "# Install a pip package in the current Jupyter kernel\n",
    "import sys\n",
    "!{sys.executable} -m pip install tqdm\n",
    "!{sys.executable} -m pip install xgboost"
   ]
  },
  {
   "cell_type": "code",
   "execution_count": 3,
   "metadata": {},
   "outputs": [],
   "source": [
    "columns = [\n",
    "    'neighbourhood_group',\n",
    "    'room_type',\n",
    "    'latitude',\n",
    "    'longitude',\n",
    "    'minimum_nights',\n",
    "    'number_of_reviews',\n",
    "    'reviews_per_month',\n",
    "    'calculated_host_listings_count',\n",
    "    'availability_365',\n",
    "    'price'\n",
    "]\n",
    "\n",
    "#df = pd.read_csv('AB_NYC_2019.csv', usecols=columns)\n",
    "df = pd.read_csv('data/data-week2.csv', usecols=columns)\n",
    "df.reviews_per_month = df.reviews_per_month.fillna(0)"
   ]
  },
  {
   "cell_type": "markdown",
   "metadata": {},
   "source": [
    "* Apply the log tranform to `price`\n",
    "* Do train/validation/test split with 60%/20%/20% distribution. \n",
    "* Use the `train_test_split` function and set the `random_state` parameter to 1"
   ]
  },
  {
   "cell_type": "code",
   "execution_count": 4,
   "metadata": {},
   "outputs": [
    {
     "data": {
      "text/html": [
       "<div>\n",
       "<style scoped>\n",
       "    .dataframe tbody tr th:only-of-type {\n",
       "        vertical-align: middle;\n",
       "    }\n",
       "\n",
       "    .dataframe tbody tr th {\n",
       "        vertical-align: top;\n",
       "    }\n",
       "\n",
       "    .dataframe thead th {\n",
       "        text-align: right;\n",
       "    }\n",
       "</style>\n",
       "<table border=\"1\" class=\"dataframe\">\n",
       "  <thead>\n",
       "    <tr style=\"text-align: right;\">\n",
       "      <th></th>\n",
       "      <th>neighbourhood_group</th>\n",
       "      <th>latitude</th>\n",
       "      <th>longitude</th>\n",
       "      <th>room_type</th>\n",
       "      <th>price</th>\n",
       "      <th>minimum_nights</th>\n",
       "      <th>number_of_reviews</th>\n",
       "      <th>reviews_per_month</th>\n",
       "      <th>calculated_host_listings_count</th>\n",
       "      <th>availability_365</th>\n",
       "    </tr>\n",
       "  </thead>\n",
       "  <tbody>\n",
       "    <tr>\n",
       "      <th>0</th>\n",
       "      <td>Brooklyn</td>\n",
       "      <td>40.64749</td>\n",
       "      <td>-73.97237</td>\n",
       "      <td>Private room</td>\n",
       "      <td>149</td>\n",
       "      <td>1</td>\n",
       "      <td>9</td>\n",
       "      <td>0.21</td>\n",
       "      <td>6</td>\n",
       "      <td>365</td>\n",
       "    </tr>\n",
       "    <tr>\n",
       "      <th>1</th>\n",
       "      <td>Manhattan</td>\n",
       "      <td>40.75362</td>\n",
       "      <td>-73.98377</td>\n",
       "      <td>Entire home/apt</td>\n",
       "      <td>225</td>\n",
       "      <td>1</td>\n",
       "      <td>45</td>\n",
       "      <td>0.38</td>\n",
       "      <td>2</td>\n",
       "      <td>355</td>\n",
       "    </tr>\n",
       "    <tr>\n",
       "      <th>2</th>\n",
       "      <td>Manhattan</td>\n",
       "      <td>40.80902</td>\n",
       "      <td>-73.94190</td>\n",
       "      <td>Private room</td>\n",
       "      <td>150</td>\n",
       "      <td>3</td>\n",
       "      <td>0</td>\n",
       "      <td>0.00</td>\n",
       "      <td>1</td>\n",
       "      <td>365</td>\n",
       "    </tr>\n",
       "    <tr>\n",
       "      <th>3</th>\n",
       "      <td>Brooklyn</td>\n",
       "      <td>40.68514</td>\n",
       "      <td>-73.95976</td>\n",
       "      <td>Entire home/apt</td>\n",
       "      <td>89</td>\n",
       "      <td>1</td>\n",
       "      <td>270</td>\n",
       "      <td>4.64</td>\n",
       "      <td>1</td>\n",
       "      <td>194</td>\n",
       "    </tr>\n",
       "    <tr>\n",
       "      <th>4</th>\n",
       "      <td>Manhattan</td>\n",
       "      <td>40.79851</td>\n",
       "      <td>-73.94399</td>\n",
       "      <td>Entire home/apt</td>\n",
       "      <td>80</td>\n",
       "      <td>10</td>\n",
       "      <td>9</td>\n",
       "      <td>0.10</td>\n",
       "      <td>1</td>\n",
       "      <td>0</td>\n",
       "    </tr>\n",
       "  </tbody>\n",
       "</table>\n",
       "</div>"
      ],
      "text/plain": [
       "  neighbourhood_group  latitude  longitude        room_type  price  \\\n",
       "0            Brooklyn  40.64749  -73.97237     Private room    149   \n",
       "1           Manhattan  40.75362  -73.98377  Entire home/apt    225   \n",
       "2           Manhattan  40.80902  -73.94190     Private room    150   \n",
       "3            Brooklyn  40.68514  -73.95976  Entire home/apt     89   \n",
       "4           Manhattan  40.79851  -73.94399  Entire home/apt     80   \n",
       "\n",
       "   minimum_nights  number_of_reviews  reviews_per_month  \\\n",
       "0               1                  9               0.21   \n",
       "1               1                 45               0.38   \n",
       "2               3                  0               0.00   \n",
       "3               1                270               4.64   \n",
       "4              10                  9               0.10   \n",
       "\n",
       "   calculated_host_listings_count  availability_365  \n",
       "0                               6               365  \n",
       "1                               2               355  \n",
       "2                               1               365  \n",
       "3                               1               194  \n",
       "4                               1                 0  "
      ]
     },
     "execution_count": 4,
     "metadata": {},
     "output_type": "execute_result"
    }
   ],
   "source": [
    "df.head()"
   ]
  },
  {
   "cell_type": "markdown",
   "metadata": {},
   "source": [
    "#### Fill NAs with 0"
   ]
  },
  {
   "cell_type": "code",
   "execution_count": 5,
   "metadata": {},
   "outputs": [
    {
     "data": {
      "text/plain": [
       "neighbourhood_group               0\n",
       "latitude                          0\n",
       "longitude                         0\n",
       "room_type                         0\n",
       "price                             0\n",
       "minimum_nights                    0\n",
       "number_of_reviews                 0\n",
       "reviews_per_month                 0\n",
       "calculated_host_listings_count    0\n",
       "availability_365                  0\n",
       "dtype: int64"
      ]
     },
     "execution_count": 5,
     "metadata": {},
     "output_type": "execute_result"
    }
   ],
   "source": [
    "df.isnull().sum()"
   ]
  },
  {
   "cell_type": "markdown",
   "metadata": {},
   "source": [
    "No need to use fillna()"
   ]
  },
  {
   "cell_type": "markdown",
   "metadata": {},
   "source": [
    "#### Apply log transform to price & remove it from original data frame"
   ]
  },
  {
   "cell_type": "code",
   "execution_count": 6,
   "metadata": {},
   "outputs": [
    {
     "data": {
      "text/plain": [
       "0    5.010635\n",
       "1    5.420535\n",
       "2    5.017280\n",
       "3    4.499810\n",
       "4    4.394449\n",
       "Name: price, dtype: float64"
      ]
     },
     "execution_count": 6,
     "metadata": {},
     "output_type": "execute_result"
    }
   ],
   "source": [
    "y = np.log1p(df['price'])\n",
    "y.head()"
   ]
  },
  {
   "cell_type": "code",
   "execution_count": 7,
   "metadata": {},
   "outputs": [
    {
     "data": {
      "text/html": [
       "<div>\n",
       "<style scoped>\n",
       "    .dataframe tbody tr th:only-of-type {\n",
       "        vertical-align: middle;\n",
       "    }\n",
       "\n",
       "    .dataframe tbody tr th {\n",
       "        vertical-align: top;\n",
       "    }\n",
       "\n",
       "    .dataframe thead th {\n",
       "        text-align: right;\n",
       "    }\n",
       "</style>\n",
       "<table border=\"1\" class=\"dataframe\">\n",
       "  <thead>\n",
       "    <tr style=\"text-align: right;\">\n",
       "      <th></th>\n",
       "      <th>neighbourhood_group</th>\n",
       "      <th>latitude</th>\n",
       "      <th>longitude</th>\n",
       "      <th>room_type</th>\n",
       "      <th>minimum_nights</th>\n",
       "      <th>number_of_reviews</th>\n",
       "      <th>reviews_per_month</th>\n",
       "      <th>calculated_host_listings_count</th>\n",
       "      <th>availability_365</th>\n",
       "    </tr>\n",
       "  </thead>\n",
       "  <tbody>\n",
       "    <tr>\n",
       "      <th>0</th>\n",
       "      <td>Brooklyn</td>\n",
       "      <td>40.64749</td>\n",
       "      <td>-73.97237</td>\n",
       "      <td>Private room</td>\n",
       "      <td>1</td>\n",
       "      <td>9</td>\n",
       "      <td>0.21</td>\n",
       "      <td>6</td>\n",
       "      <td>365</td>\n",
       "    </tr>\n",
       "    <tr>\n",
       "      <th>1</th>\n",
       "      <td>Manhattan</td>\n",
       "      <td>40.75362</td>\n",
       "      <td>-73.98377</td>\n",
       "      <td>Entire home/apt</td>\n",
       "      <td>1</td>\n",
       "      <td>45</td>\n",
       "      <td>0.38</td>\n",
       "      <td>2</td>\n",
       "      <td>355</td>\n",
       "    </tr>\n",
       "    <tr>\n",
       "      <th>2</th>\n",
       "      <td>Manhattan</td>\n",
       "      <td>40.80902</td>\n",
       "      <td>-73.94190</td>\n",
       "      <td>Private room</td>\n",
       "      <td>3</td>\n",
       "      <td>0</td>\n",
       "      <td>0.00</td>\n",
       "      <td>1</td>\n",
       "      <td>365</td>\n",
       "    </tr>\n",
       "    <tr>\n",
       "      <th>3</th>\n",
       "      <td>Brooklyn</td>\n",
       "      <td>40.68514</td>\n",
       "      <td>-73.95976</td>\n",
       "      <td>Entire home/apt</td>\n",
       "      <td>1</td>\n",
       "      <td>270</td>\n",
       "      <td>4.64</td>\n",
       "      <td>1</td>\n",
       "      <td>194</td>\n",
       "    </tr>\n",
       "    <tr>\n",
       "      <th>4</th>\n",
       "      <td>Manhattan</td>\n",
       "      <td>40.79851</td>\n",
       "      <td>-73.94399</td>\n",
       "      <td>Entire home/apt</td>\n",
       "      <td>10</td>\n",
       "      <td>9</td>\n",
       "      <td>0.10</td>\n",
       "      <td>1</td>\n",
       "      <td>0</td>\n",
       "    </tr>\n",
       "  </tbody>\n",
       "</table>\n",
       "</div>"
      ],
      "text/plain": [
       "  neighbourhood_group  latitude  longitude        room_type  minimum_nights  \\\n",
       "0            Brooklyn  40.64749  -73.97237     Private room               1   \n",
       "1           Manhattan  40.75362  -73.98377  Entire home/apt               1   \n",
       "2           Manhattan  40.80902  -73.94190     Private room               3   \n",
       "3            Brooklyn  40.68514  -73.95976  Entire home/apt               1   \n",
       "4           Manhattan  40.79851  -73.94399  Entire home/apt              10   \n",
       "\n",
       "   number_of_reviews  reviews_per_month  calculated_host_listings_count  \\\n",
       "0                  9               0.21                               6   \n",
       "1                 45               0.38                               2   \n",
       "2                  0               0.00                               1   \n",
       "3                270               4.64                               1   \n",
       "4                  9               0.10                               1   \n",
       "\n",
       "   availability_365  \n",
       "0               365  \n",
       "1               355  \n",
       "2               365  \n",
       "3               194  \n",
       "4                 0  "
      ]
     },
     "execution_count": 7,
     "metadata": {},
     "output_type": "execute_result"
    }
   ],
   "source": [
    "del df['price']\n",
    "df.head()"
   ]
  },
  {
   "cell_type": "markdown",
   "metadata": {},
   "source": [
    "#### Do train/validation/test split with 60%/20%/20% distribution. \n",
    "Use the train_test_split function and set the random_state parameter to 1"
   ]
  },
  {
   "cell_type": "code",
   "execution_count": 8,
   "metadata": {},
   "outputs": [],
   "source": [
    "from sklearn.model_selection import train_test_split"
   ]
  },
  {
   "cell_type": "code",
   "execution_count": 9,
   "metadata": {},
   "outputs": [],
   "source": [
    "df_train_full, df_test, y_train_full, y_test = train_test_split(df, y, test_size=0.2, random_state=1)"
   ]
  },
  {
   "cell_type": "code",
   "execution_count": 10,
   "metadata": {},
   "outputs": [],
   "source": [
    "df_train, df_valid, y_train, y_valid = train_test_split(df_train_full, y_train_full, test_size=df_test.shape[0], random_state=1)"
   ]
  },
  {
   "cell_type": "code",
   "execution_count": 11,
   "metadata": {},
   "outputs": [
    {
     "name": "stdout",
     "output_type": "stream",
     "text": [
      "True\n",
      "True\n"
     ]
    }
   ],
   "source": [
    "print(df.shape[0] == df_train.shape[0] + df_valid.shape[0] + df_test.shape[0])\n",
    "print(df.shape[0] == df_train_full.shape[0] + df_test.shape[0])"
   ]
  },
  {
   "cell_type": "markdown",
   "metadata": {},
   "source": [
    "Now, use `DictVectorizer` to turn train and validation into matrices:"
   ]
  },
  {
   "cell_type": "code",
   "execution_count": 12,
   "metadata": {},
   "outputs": [],
   "source": [
    "from sklearn.feature_extraction import DictVectorizer"
   ]
  },
  {
   "cell_type": "code",
   "execution_count": 13,
   "metadata": {},
   "outputs": [],
   "source": [
    "dv = DictVectorizer(sparse=False)"
   ]
  },
  {
   "cell_type": "code",
   "execution_count": 14,
   "metadata": {},
   "outputs": [],
   "source": [
    "train_dict = df_train.to_dict(orient='records')\n",
    "X_train = dv.fit_transform(train_dict)\n",
    "\n",
    "valid_dict = df_valid.to_dict(orient='records')\n",
    "X_valid = dv.transform(valid_dict)"
   ]
  },
  {
   "cell_type": "code",
   "execution_count": 15,
   "metadata": {},
   "outputs": [
    {
     "data": {
      "text/plain": [
       "['availability_365',\n",
       " 'calculated_host_listings_count',\n",
       " 'latitude',\n",
       " 'longitude',\n",
       " 'minimum_nights',\n",
       " 'neighbourhood_group=Bronx',\n",
       " 'neighbourhood_group=Brooklyn',\n",
       " 'neighbourhood_group=Manhattan',\n",
       " 'neighbourhood_group=Queens',\n",
       " 'neighbourhood_group=Staten Island',\n",
       " 'number_of_reviews',\n",
       " 'reviews_per_month',\n",
       " 'room_type=Entire home/apt',\n",
       " 'room_type=Private room',\n",
       " 'room_type=Shared room']"
      ]
     },
     "execution_count": 15,
     "metadata": {},
     "output_type": "execute_result"
    }
   ],
   "source": [
    "dv.feature_names_"
   ]
  },
  {
   "cell_type": "markdown",
   "metadata": {},
   "source": [
    "## Question 1\n",
    "\n",
    "Let's train a decision tree regressor to predict the price variable. \n",
    "\n",
    "* Train a model with `max_depth=1`"
   ]
  },
  {
   "cell_type": "code",
   "execution_count": 16,
   "metadata": {},
   "outputs": [],
   "source": [
    "from sklearn.tree import DecisionTreeRegressor"
   ]
  },
  {
   "cell_type": "code",
   "execution_count": 17,
   "metadata": {},
   "outputs": [],
   "source": [
    "dtree_model = DecisionTreeRegressor(max_depth=1)"
   ]
  },
  {
   "cell_type": "code",
   "execution_count": 18,
   "metadata": {},
   "outputs": [
    {
     "data": {
      "text/plain": [
       "DecisionTreeRegressor(max_depth=1)"
      ]
     },
     "execution_count": 18,
     "metadata": {},
     "output_type": "execute_result"
    }
   ],
   "source": [
    "dtree_model.fit(X_train, y_train)"
   ]
  },
  {
   "cell_type": "markdown",
   "metadata": {},
   "source": [
    "Which feature is used for splitting the data?\n",
    "\n",
    "* `room_type`\n",
    "* `neighbourhood_group`\n",
    "* `number_of_reviews`\n",
    "* `reviews_per_month`"
   ]
  },
  {
   "cell_type": "code",
   "execution_count": 19,
   "metadata": {},
   "outputs": [],
   "source": [
    "from sklearn.tree import export_text"
   ]
  },
  {
   "cell_type": "code",
   "execution_count": 20,
   "metadata": {},
   "outputs": [
    {
     "name": "stdout",
     "output_type": "stream",
     "text": [
      "|--- room_type=Entire home/apt <= 0.50\n",
      "|   |--- value: [4.29]\n",
      "|--- room_type=Entire home/apt >  0.50\n",
      "|   |--- value: [5.15]\n",
      "\n"
     ]
    }
   ],
   "source": [
    "print(export_text(dtree_model, feature_names=dv.feature_names_))"
   ]
  },
  {
   "cell_type": "markdown",
   "metadata": {},
   "source": [
    "> ANSWER: the feature used to split the data is `room-type`"
   ]
  },
  {
   "cell_type": "markdown",
   "metadata": {},
   "source": [
    "## Question 2\n",
    "\n",
    "Train a random forest model with these parameters:\n",
    "\n",
    "* `n_estimators=10`\n",
    "* `random_state=1`\n",
    "* `n_jobs=-1`  (optional - to make training faster)"
   ]
  },
  {
   "cell_type": "code",
   "execution_count": 21,
   "metadata": {},
   "outputs": [],
   "source": [
    "from sklearn.ensemble import RandomForestRegressor"
   ]
  },
  {
   "cell_type": "code",
   "execution_count": 22,
   "metadata": {},
   "outputs": [],
   "source": [
    "rforest_model = RandomForestRegressor(n_estimators=10, random_state=1, n_jobs=-1)"
   ]
  },
  {
   "cell_type": "code",
   "execution_count": 23,
   "metadata": {},
   "outputs": [
    {
     "data": {
      "text/plain": [
       "RandomForestRegressor(n_estimators=10, n_jobs=-1, random_state=1)"
      ]
     },
     "execution_count": 23,
     "metadata": {},
     "output_type": "execute_result"
    }
   ],
   "source": [
    "rforest_model.fit(X_train, y_train)"
   ]
  },
  {
   "cell_type": "markdown",
   "metadata": {},
   "source": [
    "What's the RMSE of this model on validation?\n",
    "\n",
    "* 0.059\n",
    "* 0.259\n",
    "* 0.459\n",
    "* 0.659"
   ]
  },
  {
   "cell_type": "markdown",
   "metadata": {},
   "source": [
    "#### RMSE\n",
    "\n",
    "$ rmse = \\sqrt{mse} = \\sqrt{ \\frac{1}{m} \\sum_{i=1}^{m}{(se_i)^2} } = \\sqrt{ \\frac{1}{m} \\sum_{i=1}^{m}{(y_i - \\hat{y_i})^2} }$"
   ]
  },
  {
   "cell_type": "code",
   "execution_count": 24,
   "metadata": {},
   "outputs": [],
   "source": [
    "def RMSE(y_true, y_pred):\n",
    "    se = (y_true - y_pred)**2\n",
    "    mse = np.mean(se)\n",
    "    return np.sqrt(mse)"
   ]
  },
  {
   "cell_type": "code",
   "execution_count": 25,
   "metadata": {},
   "outputs": [
    {
     "data": {
      "text/plain": [
       "array([4.8782275 , 4.79199459, 5.49902928, ..., 5.03652684, 4.72644125,\n",
       "       5.41201993])"
      ]
     },
     "execution_count": 25,
     "metadata": {},
     "output_type": "execute_result"
    }
   ],
   "source": [
    "y_pred = rforest_model.predict(X_valid)\n",
    "y_pred"
   ]
  },
  {
   "cell_type": "code",
   "execution_count": 27,
   "metadata": {},
   "outputs": [
    {
     "data": {
      "text/plain": [
       "0.4599"
      ]
     },
     "execution_count": 27,
     "metadata": {},
     "output_type": "execute_result"
    }
   ],
   "source": [
    "RMSE(y_valid, y_pred).round(4)"
   ]
  },
  {
   "cell_type": "markdown",
   "metadata": {},
   "source": [
    "> ANSWER: the RMSE for this model on the validation set is `0.459`"
   ]
  },
  {
   "cell_type": "markdown",
   "metadata": {},
   "source": [
    "## Question 3\n",
    "\n",
    "Now let's experiment with the `n_estimators` parameter\n",
    "\n",
    "* Try different values of this parameter from 10 to 200 with step 10\n",
    "* Set `random_state` to `1`\n",
    "* Evaluate the model on the validation dataset"
   ]
  },
  {
   "cell_type": "code",
   "execution_count": 28,
   "metadata": {},
   "outputs": [],
   "source": [
    "from tqdm import tqdm, notebook"
   ]
  },
  {
   "cell_type": "code",
   "execution_count": 29,
   "metadata": {},
   "outputs": [
    {
     "data": {
      "application/vnd.jupyter.widget-view+json": {
       "model_id": "074103a684934d3db06ab4298d02f700",
       "version_major": 2,
       "version_minor": 0
      },
      "text/plain": [
       "  0%|          | 0/20 [00:00<?, ?it/s]"
      ]
     },
     "metadata": {},
     "output_type": "display_data"
    },
    {
     "name": "stdout",
     "output_type": "stream",
     "text": [
      "n_estimators: 10.0 - RMSE: 0.4599\n",
      "n_estimators: 20.0 - RMSE: 0.4478\n",
      "n_estimators: 30.0 - RMSE: 0.4451\n",
      "n_estimators: 40.0 - RMSE: 0.4432\n",
      "n_estimators: 50.0 - RMSE: 0.4422\n",
      "n_estimators: 60.0 - RMSE: 0.4415\n",
      "n_estimators: 70.0 - RMSE: 0.4409\n",
      "n_estimators: 80.0 - RMSE: 0.4408\n",
      "n_estimators: 90.0 - RMSE: 0.4402\n",
      "n_estimators: 100.0 - RMSE: 0.4398\n",
      "n_estimators: 110.0 - RMSE: 0.4393\n",
      "n_estimators: 120.0 - RMSE: 0.4391\n",
      "n_estimators: 130.0 - RMSE: 0.4393\n",
      "n_estimators: 140.0 - RMSE: 0.4391\n",
      "n_estimators: 150.0 - RMSE: 0.4391\n",
      "n_estimators: 160.0 - RMSE: 0.4389\n",
      "n_estimators: 170.0 - RMSE: 0.4389\n",
      "n_estimators: 180.0 - RMSE: 0.4391\n",
      "n_estimators: 190.0 - RMSE: 0.4389\n",
      "n_estimators: 200.0 - RMSE: 0.4389\n"
     ]
    }
   ],
   "source": [
    "rmse_scores_Q3 = {}\n",
    "\n",
    "for ne in notebook.tqdm(np.linspace(10,200,20)):\n",
    "    \n",
    "    rforest_model = RandomForestRegressor(n_estimators=int(ne), random_state=1, n_jobs=-1)\n",
    "    rforest_model.fit(X_train, y_train)\n",
    "    y_pred = rforest_model.predict(X_valid)\n",
    "    rmse = RMSE(y_valid, y_pred)\n",
    "    \n",
    "    tqdm.write(f\"n_estimators: {ne} - RMSE: {rmse:.4f}\")\n",
    "    rmse_scores_Q3[ne] = rmse"
   ]
  },
  {
   "cell_type": "markdown",
   "metadata": {},
   "source": [
    "After which value of `n_estimators` does RMSE stop improving?\n",
    "\n",
    "- 10\n",
    "- 50\n",
    "- 70\n",
    "- 120"
   ]
  },
  {
   "cell_type": "code",
   "execution_count": 30,
   "metadata": {},
   "outputs": [
    {
     "data": {
      "text/plain": [
       "Text(0, 0.5, 'RMSE')"
      ]
     },
     "execution_count": 30,
     "metadata": {},
     "output_type": "execute_result"
    },
    {
     "data": {
      "image/png": "[encoded data removed]",
      "text/plain": [
       "<Figure size 432x288 with 1 Axes>"
      ]
     },
     "metadata": {
      "needs_background": "light"
     },
     "output_type": "display_data"
    }
   ],
   "source": [
    "plt.plot(rmse_scores_Q3.keys(), rmse_scores_Q3.values())\n",
    "plt.xlabel(\"Estimators\")\n",
    "plt.ylabel(\"RMSE\")"
   ]
  },
  {
   "cell_type": "markdown",
   "metadata": {},
   "source": [
    "> ANSWER: The RMSE stop improving around `120` estimators"
   ]
  },
  {
   "cell_type": "markdown",
   "metadata": {},
   "source": [
    "## Question 4\n",
    "\n",
    "Let's select the best `max_depth`:\n",
    "\n",
    "* Try different values of `max_depth`: `[10, 15, 20, 25]`\n",
    "* For each of these values, try different values of `n_estimators` from 10 till 200 (with step 10)\n",
    "* Fix the random seed: `random_state=1`"
   ]
  },
  {
   "cell_type": "code",
   "execution_count": 31,
   "metadata": {},
   "outputs": [
    {
     "data": {
      "application/vnd.jupyter.widget-view+json": {
       "model_id": "af20a831caa44f6fb84214f58c4bd705",
       "version_major": 2,
       "version_minor": 0
      },
      "text/plain": [
       "  0%|          | 0/4 [00:00<?, ?it/s]"
      ]
     },
     "metadata": {},
     "output_type": "display_data"
    },
    {
     "data": {
      "application/vnd.jupyter.widget-view+json": {
       "model_id": "1dd31fb24bf74ee885bd7b28a7f07473",
       "version_major": 2,
       "version_minor": 0
      },
      "text/plain": [
       "  0%|          | 0/20 [00:00<?, ?it/s]"
      ]
     },
     "metadata": {},
     "output_type": "display_data"
    },
    {
     "name": "stdout",
     "output_type": "stream",
     "text": [
      "n_estimators: 10.0 - max_depth: 10 - RMSE: 0.445596171749275\n",
      "n_estimators: 20.0 - max_depth: 10 - RMSE: 0.44203282715576686\n",
      "n_estimators: 30.0 - max_depth: 10 - RMSE: 0.4413920618234788\n",
      "n_estimators: 40.0 - max_depth: 10 - RMSE: 0.44154053612675453\n",
      "n_estimators: 50.0 - max_depth: 10 - RMSE: 0.4411204060832355\n",
      "n_estimators: 60.0 - max_depth: 10 - RMSE: 0.44109567579839254\n",
      "n_estimators: 70.0 - max_depth: 10 - RMSE: 0.4408047570608675\n",
      "n_estimators: 80.0 - max_depth: 10 - RMSE: 0.44063392403596924\n",
      "n_estimators: 90.0 - max_depth: 10 - RMSE: 0.44036005791386457\n",
      "n_estimators: 100.0 - max_depth: 10 - RMSE: 0.44014389763440204\n",
      "n_estimators: 110.0 - max_depth: 10 - RMSE: 0.44005376814946023\n",
      "n_estimators: 120.0 - max_depth: 10 - RMSE: 0.4398402482041807\n",
      "n_estimators: 130.0 - max_depth: 10 - RMSE: 0.43987437072357427\n",
      "n_estimators: 140.0 - max_depth: 10 - RMSE: 0.4398662292538334\n",
      "n_estimators: 150.0 - max_depth: 10 - RMSE: 0.43968896394852663\n",
      "n_estimators: 160.0 - max_depth: 10 - RMSE: 0.43964472224544\n",
      "n_estimators: 170.0 - max_depth: 10 - RMSE: 0.43962454408704643\n",
      "n_estimators: 180.0 - max_depth: 10 - RMSE: 0.43971691214366415\n",
      "n_estimators: 190.0 - max_depth: 10 - RMSE: 0.43966858819736404\n",
      "n_estimators: 200.0 - max_depth: 10 - RMSE: 0.43967928458182964\n"
     ]
    },
    {
     "data": {
      "application/vnd.jupyter.widget-view+json": {
       "model_id": "32774c1629f7435a990426e1d8243bc4",
       "version_major": 2,
       "version_minor": 0
      },
      "text/plain": [
       "  0%|          | 0/20 [00:00<?, ?it/s]"
      ]
     },
     "metadata": {},
     "output_type": "display_data"
    },
    {
     "name": "stdout",
     "output_type": "stream",
     "text": [
      "n_estimators: 10.0 - max_depth: 15 - RMSE: 0.4498175486561694\n",
      "n_estimators: 20.0 - max_depth: 15 - RMSE: 0.44080416870506284\n",
      "n_estimators: 30.0 - max_depth: 15 - RMSE: 0.4394399501233965\n",
      "n_estimators: 40.0 - max_depth: 15 - RMSE: 0.43879194239068187\n",
      "n_estimators: 50.0 - max_depth: 15 - RMSE: 0.4381084280548172\n",
      "n_estimators: 60.0 - max_depth: 15 - RMSE: 0.43775747746327964\n",
      "n_estimators: 70.0 - max_depth: 15 - RMSE: 0.43738503419468694\n",
      "n_estimators: 80.0 - max_depth: 15 - RMSE: 0.43726848667661466\n",
      "n_estimators: 90.0 - max_depth: 15 - RMSE: 0.4368704327073059\n",
      "n_estimators: 100.0 - max_depth: 15 - RMSE: 0.43654361439480677\n",
      "n_estimators: 110.0 - max_depth: 15 - RMSE: 0.43628759495649394\n",
      "n_estimators: 120.0 - max_depth: 15 - RMSE: 0.43623226968337897\n",
      "n_estimators: 130.0 - max_depth: 15 - RMSE: 0.43632851739490763\n",
      "n_estimators: 140.0 - max_depth: 15 - RMSE: 0.43624458339022953\n",
      "n_estimators: 150.0 - max_depth: 15 - RMSE: 0.4362820924966425\n",
      "n_estimators: 160.0 - max_depth: 15 - RMSE: 0.4360982767830573\n",
      "n_estimators: 170.0 - max_depth: 15 - RMSE: 0.43598867668739827\n",
      "n_estimators: 180.0 - max_depth: 15 - RMSE: 0.43612194829064554\n",
      "n_estimators: 190.0 - max_depth: 15 - RMSE: 0.43613372645128234\n",
      "n_estimators: 200.0 - max_depth: 15 - RMSE: 0.4361312812227012\n"
     ]
    },
    {
     "data": {
      "application/vnd.jupyter.widget-view+json": {
       "model_id": "76d2a1ff50a84f83bb76b534a7bb420d",
       "version_major": 2,
       "version_minor": 0
      },
      "text/plain": [
       "  0%|          | 0/20 [00:00<?, ?it/s]"
      ]
     },
     "metadata": {},
     "output_type": "display_data"
    },
    {
     "name": "stdout",
     "output_type": "stream",
     "text": [
      "n_estimators: 10.0 - max_depth: 20 - RMSE: 0.4597643861421082\n",
      "n_estimators: 20.0 - max_depth: 20 - RMSE: 0.4468063850758519\n",
      "n_estimators: 30.0 - max_depth: 20 - RMSE: 0.4441010161313461\n",
      "n_estimators: 40.0 - max_depth: 20 - RMSE: 0.4423579078833037\n",
      "n_estimators: 50.0 - max_depth: 20 - RMSE: 0.44131572254332624\n",
      "n_estimators: 60.0 - max_depth: 20 - RMSE: 0.4405547615283166\n",
      "n_estimators: 70.0 - max_depth: 20 - RMSE: 0.43999872409572066\n",
      "n_estimators: 80.0 - max_depth: 20 - RMSE: 0.43993247325790047\n",
      "n_estimators: 90.0 - max_depth: 20 - RMSE: 0.43929852062550573\n",
      "n_estimators: 100.0 - max_depth: 20 - RMSE: 0.4388036787970188\n",
      "n_estimators: 110.0 - max_depth: 20 - RMSE: 0.4383648882372162\n",
      "n_estimators: 120.0 - max_depth: 20 - RMSE: 0.43823827664148063\n",
      "n_estimators: 130.0 - max_depth: 20 - RMSE: 0.4382844333857575\n",
      "n_estimators: 140.0 - max_depth: 20 - RMSE: 0.43805645979386504\n",
      "n_estimators: 150.0 - max_depth: 20 - RMSE: 0.43799819016463676\n",
      "n_estimators: 160.0 - max_depth: 20 - RMSE: 0.437797255811193\n",
      "n_estimators: 170.0 - max_depth: 20 - RMSE: 0.4376444598387768\n",
      "n_estimators: 180.0 - max_depth: 20 - RMSE: 0.4377056904505504\n",
      "n_estimators: 190.0 - max_depth: 20 - RMSE: 0.4376500306475705\n",
      "n_estimators: 200.0 - max_depth: 20 - RMSE: 0.43764564430470415\n"
     ]
    },
    {
     "data": {
      "application/vnd.jupyter.widget-view+json": {
       "model_id": "bc5280963a704342b208117494440b06",
       "version_major": 2,
       "version_minor": 0
      },
      "text/plain": [
       "  0%|          | 0/20 [00:00<?, ?it/s]"
      ]
     },
     "metadata": {},
     "output_type": "display_data"
    },
    {
     "name": "stdout",
     "output_type": "stream",
     "text": [
      "n_estimators: 10.0 - max_depth: 25 - RMSE: 0.46070004844483997\n",
      "n_estimators: 20.0 - max_depth: 25 - RMSE: 0.4479231675227825\n",
      "n_estimators: 30.0 - max_depth: 25 - RMSE: 0.44493573688024735\n",
      "n_estimators: 40.0 - max_depth: 25 - RMSE: 0.44320423239471296\n",
      "n_estimators: 50.0 - max_depth: 25 - RMSE: 0.4424568587096234\n",
      "n_estimators: 60.0 - max_depth: 25 - RMSE: 0.44180306869726593\n",
      "n_estimators: 70.0 - max_depth: 25 - RMSE: 0.44123273567773047\n",
      "n_estimators: 80.0 - max_depth: 25 - RMSE: 0.44113477672978463\n",
      "n_estimators: 90.0 - max_depth: 25 - RMSE: 0.4405432448502724\n",
      "n_estimators: 100.0 - max_depth: 25 - RMSE: 0.44021465951348787\n",
      "n_estimators: 110.0 - max_depth: 25 - RMSE: 0.43961932859919717\n",
      "n_estimators: 120.0 - max_depth: 25 - RMSE: 0.43937034856487917\n",
      "n_estimators: 130.0 - max_depth: 25 - RMSE: 0.43951212060887535\n",
      "n_estimators: 140.0 - max_depth: 25 - RMSE: 0.4392641595142541\n",
      "n_estimators: 150.0 - max_depth: 25 - RMSE: 0.4391976006190898\n",
      "n_estimators: 160.0 - max_depth: 25 - RMSE: 0.4390696283379905\n",
      "n_estimators: 170.0 - max_depth: 25 - RMSE: 0.43891744959107115\n",
      "n_estimators: 180.0 - max_depth: 25 - RMSE: 0.439081742440244\n",
      "n_estimators: 190.0 - max_depth: 25 - RMSE: 0.4389732035704542\n",
      "n_estimators: 200.0 - max_depth: 25 - RMSE: 0.43896329959548797\n"
     ]
    }
   ],
   "source": [
    "rmse_scores_Q4 = {}\n",
    "\n",
    "for max_d in notebook.tqdm([10,15,20,25]):\n",
    "    rmse_scores_Q4[max_d] = {}\n",
    "    for ne in notebook.tqdm(np.linspace(10,200,20)):\n",
    "        \n",
    "        rforest_model = RandomForestRegressor(n_estimators=int(ne), random_state=1, n_jobs=-1, max_depth=max_d)\n",
    "        rforest_model.fit(X_train, y_train)\n",
    "        y_pred = rforest_model.predict(X_valid)\n",
    "        rmse = RMSE(y_valid, y_pred)\n",
    "\n",
    "        tqdm.write(f\"n_estimators: {ne} - max_depth: {max_d} - RMSE: {rmse}\")\n",
    "        rmse_scores_Q4[max_d][int(ne)] = rmse"
   ]
  },
  {
   "cell_type": "markdown",
   "metadata": {},
   "source": [
    "What's the best `max_depth`:\n",
    "\n",
    "* 10\n",
    "* 15\n",
    "* 20\n",
    "* 25\n",
    "\n",
    "Bonus question (not graded):\n",
    "\n",
    "Will the answer be different if we change the seed for the model?"
   ]
  },
  {
   "cell_type": "code",
   "execution_count": 33,
   "metadata": {},
   "outputs": [
    {
     "data": {
      "text/plain": [
       "<matplotlib.legend.Legend at 0x7f0198f1e0d0>"
      ]
     },
     "execution_count": 33,
     "metadata": {},
     "output_type": "execute_result"
    },
    {
     "data": {
      "image/png": "[encoded data removed]",
      "text/plain": [
       "<Figure size 432x288 with 1 Axes>"
      ]
     },
     "metadata": {
      "needs_background": "light"
     },
     "output_type": "display_data"
    }
   ],
   "source": [
    "for k,v in rmse_scores_Q4.items():\n",
    "    plt.plot(v.keys(), v.values(), label=f\"Max depth: {k}\")\n",
    "    \n",
    "plt.xlabel(\"Estimators\")\n",
    "plt.ylabel(\"RMSE\")\n",
    "plt.legend()"
   ]
  },
  {
   "cell_type": "markdown",
   "metadata": {},
   "source": [
    "> ANSWER: The best max_depth seems to be `15`"
   ]
  },
  {
   "cell_type": "markdown",
   "metadata": {},
   "source": [
    "> ANSWER BONUS: No that doesn't really change the result"
   ]
  },
  {
   "cell_type": "markdown",
   "metadata": {},
   "source": [
    "Test with 42 as seed"
   ]
  },
  {
   "cell_type": "code",
   "execution_count": 185,
   "metadata": {},
   "outputs": [
    {
     "data": {
      "text/plain": [
       "<matplotlib.legend.Legend at 0x7ff5e095b940>"
      ]
     },
     "execution_count": 185,
     "metadata": {},
     "output_type": "execute_result"
    },
    {
     "data": {
      "image/png": "[encoded data removed]",
      "text/plain": [
       "<Figure size 432x288 with 1 Axes>"
      ]
     },
     "metadata": {
      "needs_background": "light"
     },
     "output_type": "display_data"
    }
   ],
   "source": [
    "for k,v in rmse_scores.items():\n",
    "    plt.plot(v.keys(), v.values(), label=k)\n",
    "    \n",
    "plt.legend()"
   ]
  },
  {
   "cell_type": "markdown",
   "metadata": {},
   "source": [
    "Test without random_state"
   ]
  },
  {
   "cell_type": "code",
   "execution_count": 187,
   "metadata": {},
   "outputs": [
    {
     "data": {
      "text/plain": [
       "<matplotlib.legend.Legend at 0x7ff5c355d550>"
      ]
     },
     "execution_count": 187,
     "metadata": {},
     "output_type": "execute_result"
    },
    {
     "data": {
      "image/png": "[encoded data removed]",
      "text/plain": [
       "<Figure size 432x288 with 1 Axes>"
      ]
     },
     "metadata": {
      "needs_background": "light"
     },
     "output_type": "display_data"
    }
   ],
   "source": [
    "for k,v in rmse_scores.items():\n",
    "    plt.plot(v.keys(), v.values(), label=k)\n",
    "    \n",
    "plt.legend()"
   ]
  },
  {
   "cell_type": "markdown",
   "metadata": {},
   "source": [
    "## Question 5\n",
    "\n",
    "We can extract feature importance information from tree-based models. \n",
    "\n",
    "At each step of the decision tree learning algorith, it finds the best split. \n",
    "When doint it, we can calculate \"gain\" - the reduction in impurity before and after the split. \n",
    "This gain is quite useful in understanding what are the imporatant features \n",
    "for tree-based models.\n",
    "\n",
    "In Scikit-Learn, tree-based models contain this information in the `feature_importances_` field. \n",
    "\n",
    "For this homework question, we'll find the most important feature:\n",
    "\n",
    "* Train the model with these parametes:\n",
    "    * `n_estimators=10`,\n",
    "    * `max_depth=20`,\n",
    "    * `random_state=1`,\n",
    "    * `n_jobs=-1` (optional)\n",
    "* Get the feature importance information from this model"
   ]
  },
  {
   "cell_type": "code",
   "execution_count": 34,
   "metadata": {},
   "outputs": [
    {
     "data": {
      "text/plain": [
       "DecisionTreeRegressor()"
      ]
     },
     "execution_count": 34,
     "metadata": {},
     "output_type": "execute_result"
    }
   ],
   "source": [
    "DecisionTreeRegressor()"
   ]
  },
  {
   "cell_type": "code",
   "execution_count": 35,
   "metadata": {},
   "outputs": [
    {
     "data": {
      "text/plain": [
       "RandomForestRegressor(max_depth=20, n_estimators=10, n_jobs=-1, random_state=1)"
      ]
     },
     "execution_count": 35,
     "metadata": {},
     "output_type": "execute_result"
    }
   ],
   "source": [
    "rforest_model = RandomForestRegressor(n_estimators=10, random_state=1, n_jobs=-1, max_depth=20)\n",
    "rforest_model.fit(X_train, y_train)"
   ]
  },
  {
   "cell_type": "code",
   "execution_count": 36,
   "metadata": {},
   "outputs": [
    {
     "data": {
      "text/plain": [
       "array([7.65657560e-02, 3.02638819e-02, 1.51755500e-01, 1.53475601e-01,\n",
       "       5.31695975e-02, 4.47273475e-04, 1.11450114e-03, 3.40436593e-02,\n",
       "       1.03414350e-03, 8.37127171e-05, 4.25185232e-02, 5.45945765e-02,\n",
       "       3.91898023e-01, 4.87707077e-03, 4.15817992e-03])"
      ]
     },
     "execution_count": 36,
     "metadata": {},
     "output_type": "execute_result"
    }
   ],
   "source": [
    "rforest_model.feature_importances_"
   ]
  },
  {
   "cell_type": "code",
   "execution_count": 37,
   "metadata": {},
   "outputs": [
    {
     "data": {
      "text/plain": [
       "['availability_365',\n",
       " 'calculated_host_listings_count',\n",
       " 'latitude',\n",
       " 'longitude',\n",
       " 'minimum_nights',\n",
       " 'neighbourhood_group=Bronx',\n",
       " 'neighbourhood_group=Brooklyn',\n",
       " 'neighbourhood_group=Manhattan',\n",
       " 'neighbourhood_group=Queens',\n",
       " 'neighbourhood_group=Staten Island',\n",
       " 'number_of_reviews',\n",
       " 'reviews_per_month',\n",
       " 'room_type=Entire home/apt',\n",
       " 'room_type=Private room',\n",
       " 'room_type=Shared room']"
      ]
     },
     "execution_count": 37,
     "metadata": {},
     "output_type": "execute_result"
    }
   ],
   "source": [
    "dv.feature_names_"
   ]
  },
  {
   "cell_type": "markdown",
   "metadata": {},
   "source": [
    "What's the most important feature? \n",
    "\n",
    "* `neighbourhood_group=Manhattan`\n",
    "* `room_type=Entire home/apt`\t\n",
    "* `longitude`\n",
    "* `latitude`"
   ]
  },
  {
   "cell_type": "code",
   "execution_count": 38,
   "metadata": {},
   "outputs": [
    {
     "data": {
      "text/plain": [
       "room_type=Entire home/apt            0.391898\n",
       "longitude                            0.153476\n",
       "latitude                             0.151756\n",
       "availability_365                     0.076566\n",
       "reviews_per_month                    0.054595\n",
       "minimum_nights                       0.053170\n",
       "number_of_reviews                    0.042519\n",
       "neighbourhood_group=Manhattan        0.034044\n",
       "calculated_host_listings_count       0.030264\n",
       "room_type=Private room               0.004877\n",
       "room_type=Shared room                0.004158\n",
       "neighbourhood_group=Brooklyn         0.001115\n",
       "neighbourhood_group=Queens           0.001034\n",
       "neighbourhood_group=Bronx            0.000447\n",
       "neighbourhood_group=Staten Island    0.000084\n",
       "dtype: float64"
      ]
     },
     "execution_count": 38,
     "metadata": {},
     "output_type": "execute_result"
    }
   ],
   "source": [
    "pd.Series(rforest_model.feature_importances_, index=dv.feature_names_).sort_values(ascending=False)"
   ]
  },
  {
   "cell_type": "markdown",
   "metadata": {},
   "source": [
    "> ANSWER: it appears that `room_type=Entire home/apt` is the most important feature"
   ]
  },
  {
   "cell_type": "markdown",
   "metadata": {},
   "source": [
    "## Question 6"
   ]
  },
  {
   "cell_type": "markdown",
   "metadata": {},
   "source": [
    "Now let's train an XGBoost model! For this question, we'll tune the `eta` parameter\n",
    "\n",
    "* Install XGBoost\n",
    "* Create DMatrix for train and validation\n",
    "* Create a watchlist\n",
    "* Train a model with these parameters for 100 rounds:\n",
    "\n",
    "```\n",
    "xgb_params = {\n",
    "    'eta': 0.3, \n",
    "    'max_depth': 6,\n",
    "    'min_child_weight': 1,\n",
    "    \n",
    "    'objective': 'reg:squarederror',\n",
    "    'nthread': 8,\n",
    "    \n",
    "    'seed': 1,\n",
    "    'verbosity': 1,\n",
    "}\n",
    "```"
   ]
  },
  {
   "cell_type": "code",
   "execution_count": 39,
   "metadata": {},
   "outputs": [],
   "source": [
    "import xgboost as xgb"
   ]
  },
  {
   "cell_type": "markdown",
   "metadata": {},
   "source": [
    "#### Create DMatrix for train and validation"
   ]
  },
  {
   "cell_type": "code",
   "execution_count": 40,
   "metadata": {},
   "outputs": [],
   "source": [
    "features = dv.get_feature_names()\n",
    "df_train_xgb = xgb.DMatrix(X_train, label=y_train, feature_names=features)\n",
    "df_valid_xgb = xgb.DMatrix(X_valid, label=y_valid, feature_names=features)"
   ]
  },
  {
   "cell_type": "markdown",
   "metadata": {},
   "source": [
    "#### Create a watchlist"
   ]
  },
  {
   "cell_type": "code",
   "execution_count": 41,
   "metadata": {},
   "outputs": [],
   "source": [
    "watchlist = [(df_train_xgb, 'train'), (df_valid_xgb, 'val')]"
   ]
  },
  {
   "cell_type": "markdown",
   "metadata": {},
   "source": [
    "#### Train a model with these parameters for 100 rounds"
   ]
  },
  {
   "cell_type": "code",
   "execution_count": 42,
   "metadata": {},
   "outputs": [],
   "source": [
    "xgb_params = {\n",
    "    'eta': 0.3, \n",
    "    'max_depth': 6,\n",
    "    'min_child_weight': 1,\n",
    "    \n",
    "    #'objective': 'binary:logistic', # <-- for binary classification\n",
    "    #'eval_metric': 'auc',           # <-- for binary classification, default according to objective\n",
    "    \n",
    "    'objective': 'reg:squarederror', # <-- for regression \n",
    "    'nthread': 8,\n",
    "    \n",
    "    'seed': 1,\n",
    "    'verbosity': 1,\n",
    "}\n",
    "\n",
    "num_rounds = 100"
   ]
  },
  {
   "cell_type": "code",
   "execution_count": 43,
   "metadata": {},
   "outputs": [],
   "source": [
    "class xgb_progress(xgb.callback.TrainingCallback):\n",
    "    \"\"\" Custom class used to create tqdm callbacks with XGBoost\n",
    "        example: xgb_progressbar = xgb_progress(num_rounds)\n",
    "                 xgb.train( ... , callbacks=[xgb_progressbar])\n",
    "    \"\"\"\n",
    "    \n",
    "    def __init__(self, rounds):\n",
    "        self.rounds = rounds\n",
    "        self.pbar = notebook.tqdm(total=rounds)\n",
    "        \n",
    "    def after_iteration(self, model, epoch, evals_log):\n",
    "        self.pbar.update(1)"
   ]
  },
  {
   "cell_type": "code",
   "execution_count": 44,
   "metadata": {},
   "outputs": [
    {
     "data": {
      "application/vnd.jupyter.widget-view+json": {
       "model_id": "a7b850fc5335433cb3172800f223835c",
       "version_major": 2,
       "version_minor": 0
      },
      "text/plain": [
       "  0%|          | 0/100 [00:00<?, ?it/s]"
      ]
     },
     "metadata": {},
     "output_type": "display_data"
    }
   ],
   "source": [
    "xgb_progressbar = xgb_progress(num_rounds)\n",
    "\n",
    "progress = dict()\n",
    "\n",
    "xgb_model = xgb.train(\n",
    "                        xgb_params, \n",
    "                        df_train_xgb, \n",
    "                        num_boost_round=num_rounds, \n",
    "                        verbose_eval=0, \n",
    "                        evals=watchlist,\n",
    "                        callbacks=[xgb_progressbar],\n",
    "                        evals_result=progress,\n",
    "                        )"
   ]
  },
  {
   "cell_type": "code",
   "execution_count": 45,
   "metadata": {},
   "outputs": [
    {
     "data": {
      "text/plain": [
       "[3.027517,\n",
       " 2.146669,\n",
       " 1.538784,\n",
       " 1.125569,\n",
       " 0.851002,\n",
       " 0.674904,\n",
       " 0.566867,\n",
       " 0.504475,\n",
       " 0.469134,\n",
       " 0.45009,\n",
       " 0.439117,\n",
       " 0.433272,\n",
       " 0.429357,\n",
       " 0.426681,\n",
       " 0.424629]"
      ]
     },
     "execution_count": 45,
     "metadata": {},
     "output_type": "execute_result"
    }
   ],
   "source": [
    "progress['train']['rmse'][:15]"
   ]
  },
  {
   "cell_type": "code",
   "execution_count": 46,
   "metadata": {},
   "outputs": [
    {
     "data": {
      "text/plain": [
       "Text(0, 0.5, 'RMSE')"
      ]
     },
     "execution_count": 46,
     "metadata": {},
     "output_type": "execute_result"
    },
    {
     "data": {
      "image/png": "[encoded data removed]",
      "text/plain": [
       "<Figure size 432x288 with 1 Axes>"
      ]
     },
     "metadata": {
      "needs_background": "light"
     },
     "output_type": "display_data"
    }
   ],
   "source": [
    "plt.plot(progress['val']['rmse'])\n",
    "plt.xlabel(\"Round\")\n",
    "plt.ylabel(\"RMSE\")"
   ]
  },
  {
   "cell_type": "markdown",
   "metadata": {},
   "source": [
    "Now change `eta` first to `0.1` and then to `0.01`"
   ]
  },
  {
   "cell_type": "code",
   "execution_count": 47,
   "metadata": {},
   "outputs": [
    {
     "data": {
      "application/vnd.jupyter.widget-view+json": {
       "model_id": "75c8bfcf17a64d9b8633e0d51124f8d3",
       "version_major": 2,
       "version_minor": 0
      },
      "text/plain": [
       "  0%|          | 0/300 [00:00<?, ?it/s]"
      ]
     },
     "metadata": {},
     "output_type": "display_data"
    }
   ],
   "source": [
    "xgb_progressbar = xgb_progress(num_rounds*3)\n",
    "\n",
    "rmse_scores_Q6 = {}\n",
    "\n",
    "for eta_v in [0.01, 0.1, 0.3]:\n",
    "    \n",
    "    progress = dict()\n",
    "\n",
    "    xgb_params['eta'] = eta_v\n",
    "\n",
    "    xgb_model = xgb.train(\n",
    "        xgb_params, \n",
    "        df_train_xgb, \n",
    "        num_boost_round=num_rounds, \n",
    "        verbose_eval=0, \n",
    "        evals=watchlist,\n",
    "        callbacks=[xgb_progressbar],\n",
    "        evals_result=progress,\n",
    "    )\n",
    "    \n",
    "    rmse_scores_Q6[eta_v] = progress['val']['rmse']"
   ]
  },
  {
   "cell_type": "code",
   "execution_count": 48,
   "metadata": {},
   "outputs": [
    {
     "data": {
      "text/plain": [
       "<matplotlib.legend.Legend at 0x7f0198dadee0>"
      ]
     },
     "execution_count": 48,
     "metadata": {},
     "output_type": "execute_result"
    },
    {
     "data": {
      "image/png": "[encoded data removed]",
      "text/plain": [
       "<Figure size 432x288 with 1 Axes>"
      ]
     },
     "metadata": {
      "needs_background": "light"
     },
     "output_type": "display_data"
    }
   ],
   "source": [
    "for k,v in rmse_scores_Q6.items():\n",
    "    plt.plot(v, label=f\"ETA:{k}\")\n",
    "plt.xlabel(\"Round\")\n",
    "plt.ylabel(\"RMSE\")\n",
    "plt.legend()"
   ]
  },
  {
   "cell_type": "code",
   "execution_count": 49,
   "metadata": {},
   "outputs": [
    {
     "data": {
      "text/plain": [
       "<matplotlib.legend.Legend at 0x7f019869f460>"
      ]
     },
     "execution_count": 49,
     "metadata": {},
     "output_type": "execute_result"
    },
    {
     "data": {
      "image/png": "[encoded data removed]",
      "text/plain": [
       "<Figure size 432x288 with 1 Axes>"
      ]
     },
     "metadata": {
      "needs_background": "light"
     },
     "output_type": "display_data"
    }
   ],
   "source": [
    "for k,v in rmse_scores_Q6.items():\n",
    "    plt.plot(v, label=f\"ETA:{k}\")\n",
    "plt.xlabel(\"Round\")\n",
    "plt.ylabel(\"RMSE\")\n",
    "plt.ylim(0.4, 0.5)\n",
    "plt.legend()"
   ]
  },
  {
   "cell_type": "markdown",
   "metadata": {},
   "source": [
    "Which eta leads to the best RMSE score on the validation dataset?\n",
    "\n",
    "* 0.3\n",
    "* 0.1\n",
    "* 0.01"
   ]
  },
  {
   "cell_type": "code",
   "execution_count": 55,
   "metadata": {},
   "outputs": [
    {
     "name": "stdout",
     "output_type": "stream",
     "text": [
      "eta:0.01 - min rmse:1.630453\n",
      "eta:0.1 - min rmse:0.432497\n",
      "eta:0.3 - min rmse:0.433713\n"
     ]
    }
   ],
   "source": [
    "for k,v in rmse_scores_Q6.items():\n",
    "    print(f\"eta:{k} - min rmse:{min(v)}\")"
   ]
  },
  {
   "cell_type": "markdown",
   "metadata": {},
   "source": [
    "> ANSWER: The eta value that leads to the best RMSE score is `0.1`.\n",
    "\n",
    "**However a low RMSA score isn't the only critera to find a goof value for eta or other parameters...**\n",
    "\n",
    "The 0.3 eta provide almost the same RMSE and reach it faster without really increasing by the end of the test, so all in all I would go with this one in real project."
   ]
  }
 ],
 "metadata": {
  "kernelspec": {
   "display_name": "Python 3",
   "language": "python",
   "name": "python3"
  },
  "language_info": {
   "codemirror_mode": {
    "name": "ipython",
    "version": 3
   },
   "file_extension": ".py",
   "mimetype": "text/x-python",
   "name": "python",
   "nbconvert_exporter": "python",
   "pygments_lexer": "ipython3",
   "version": "3.8.10"
  }
 },
 "nbformat": 4,
 "nbformat_minor": 2
}
